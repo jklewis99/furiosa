{
 "metadata": {
  "language_info": {
   "codemirror_mode": {
    "name": "ipython",
    "version": 3
   },
   "file_extension": ".py",
   "mimetype": "text/x-python",
   "name": "python",
   "nbconvert_exporter": "python",
   "pygments_lexer": "ipython3",
   "version": "3.7.7-final"
  },
  "orig_nbformat": 2,
  "kernelspec": {
   "name": "Python 3.7.7 64-bit ('capstone': conda)",
   "display_name": "Python 3.7.7 64-bit ('capstone': conda)",
   "metadata": {
    "interpreter": {
     "hash": "bc701bceb5233975ae1ea0bfd0a7ac7ed425a54e39c34723a45dde614ae2574b"
    }
   }
  }
 },
 "nbformat": 4,
 "nbformat_minor": 2,
 "cells": [
  {
   "source": [
    "First import all the data science libraries we will need. for now, it is only pandas"
   ],
   "cell_type": "markdown",
   "metadata": {}
  },
  {
   "cell_type": "code",
   "execution_count": 2,
   "metadata": {},
   "outputs": [],
   "source": [
    "import pandas as pd"
   ]
  },
  {
   "source": [
    "Now let's read in the csv file that currently contains the movies from the 2010s"
   ],
   "cell_type": "markdown",
   "metadata": {}
  },
  {
   "cell_type": "code",
   "execution_count": 6,
   "metadata": {},
   "outputs": [
    {
     "output_type": "execute_result",
     "data": {
      "text/plain": [
       "             title                          genres      budget      revenue  \\\n",
       "0      Daybreakers    Action|Drama|Horror|Thriller  20000000.0   51416464.0   \n",
       "1        Leap Year                  Comedy|Romance  19000000.0   29922472.0   \n",
       "2  The Book of Eli          Action|Adventure|Drama  80000000.0  157107755.0   \n",
       "3      If You Love           Drama|Musical|Romance   2000000.0          0.0   \n",
       "4           Legion  Action|Fantasy|Horror|Thriller  26000000.0   67918658.0   \n",
       "\n",
       "                                            overview  \n",
       "0  In the year 2019, a plague has transformed alm...  \n",
       "1  When yet another anniversary passes without a ...  \n",
       "2  A post-apocalyptic tale, in which a lone man f...  \n",
       "3  Musiikkielokuva joka kertoo ministerin tyttäre...  \n",
       "4  When God loses faith in humankind, he sends hi...  "
      ],
      "text/html": "<div>\n<style scoped>\n    .dataframe tbody tr th:only-of-type {\n        vertical-align: middle;\n    }\n\n    .dataframe tbody tr th {\n        vertical-align: top;\n    }\n\n    .dataframe thead th {\n        text-align: right;\n    }\n</style>\n<table border=\"1\" class=\"dataframe\">\n  <thead>\n    <tr style=\"text-align: right;\">\n      <th></th>\n      <th>title</th>\n      <th>genres</th>\n      <th>budget</th>\n      <th>revenue</th>\n      <th>overview</th>\n    </tr>\n  </thead>\n  <tbody>\n    <tr>\n      <th>0</th>\n      <td>Daybreakers</td>\n      <td>Action|Drama|Horror|Thriller</td>\n      <td>20000000.0</td>\n      <td>51416464.0</td>\n      <td>In the year 2019, a plague has transformed alm...</td>\n    </tr>\n    <tr>\n      <th>1</th>\n      <td>Leap Year</td>\n      <td>Comedy|Romance</td>\n      <td>19000000.0</td>\n      <td>29922472.0</td>\n      <td>When yet another anniversary passes without a ...</td>\n    </tr>\n    <tr>\n      <th>2</th>\n      <td>The Book of Eli</td>\n      <td>Action|Adventure|Drama</td>\n      <td>80000000.0</td>\n      <td>157107755.0</td>\n      <td>A post-apocalyptic tale, in which a lone man f...</td>\n    </tr>\n    <tr>\n      <th>3</th>\n      <td>If You Love</td>\n      <td>Drama|Musical|Romance</td>\n      <td>2000000.0</td>\n      <td>0.0</td>\n      <td>Musiikkielokuva joka kertoo ministerin tyttäre...</td>\n    </tr>\n    <tr>\n      <th>4</th>\n      <td>Legion</td>\n      <td>Action|Fantasy|Horror|Thriller</td>\n      <td>26000000.0</td>\n      <td>67918658.0</td>\n      <td>When God loses faith in humankind, he sends hi...</td>\n    </tr>\n  </tbody>\n</table>\n</div>"
     },
     "metadata": {},
     "execution_count": 6
    }
   ],
   "source": [
    "movies_2010s = pd.read_csv('movies-from-2010s.csv')\n",
    "movies_2010s[['title', 'genres', 'budget', 'revenue', 'overview']].head(5)"
   ]
  },
  {
   "source": [
    "Because of some preprocessing I have already done, some columns are guranteed to not have missing values. But I have yet to verify some of the data that was collected from the tmdb database. I don't want any rows that have missing (or in this case 0) revenue. So let's remove that from the database."
   ],
   "cell_type": "markdown",
   "metadata": {}
  },
  {
   "cell_type": "code",
   "execution_count": 3,
   "metadata": {},
   "outputs": [
    {
     "output_type": "execute_result",
     "data": {
      "text/plain": [
       "   Unnamed: 0  movie_id                   title  \\\n",
       "0       14156     73268             Daybreakers   \n",
       "1       14161     73319               Leap Year   \n",
       "2       14162     73321         The Book of Eli   \n",
       "4       14256     73929                  Legion   \n",
       "6       14280     74131  Extraordinary Measures   \n",
       "\n",
       "                           genres  imdb_id  tmdb_id  year      budget  \\\n",
       "0    Action|Drama|Horror|Thriller   433362    19901  2010  20000000.0   \n",
       "1                  Comedy|Romance  1216492    25195  2010  19000000.0   \n",
       "2          Action|Adventure|Drama  1037705    20504  2010  80000000.0   \n",
       "4  Action|Fantasy|Horror|Thriller  1038686    22894  2010  26000000.0   \n",
       "6                           Drama  1244659    27569  2010  31000000.0   \n",
       "\n",
       "   vote_count  vote_average      revenue  runtime  popularity  \\\n",
       "0      1255.0           6.2   51416464.0     98.0      16.378   \n",
       "1      1387.0           6.9   29922472.0    100.0      18.924   \n",
       "2      4303.0           6.7  157107755.0    118.0      24.843   \n",
       "4      1630.0           5.6   67918658.0    100.0      28.993   \n",
       "6       192.0           6.3   15134293.0    105.0       9.145   \n",
       "\n",
       "                                            overview  \n",
       "0  In the year 2019, a plague has transformed alm...  \n",
       "1  When yet another anniversary passes without a ...  \n",
       "2  A post-apocalyptic tale, in which a lone man f...  \n",
       "4  When God loses faith in humankind, he sends hi...  \n",
       "6  Working-class father John Crowley is finally o...  "
      ],
      "text/html": "<div>\n<style scoped>\n    .dataframe tbody tr th:only-of-type {\n        vertical-align: middle;\n    }\n\n    .dataframe tbody tr th {\n        vertical-align: top;\n    }\n\n    .dataframe thead th {\n        text-align: right;\n    }\n</style>\n<table border=\"1\" class=\"dataframe\">\n  <thead>\n    <tr style=\"text-align: right;\">\n      <th></th>\n      <th>Unnamed: 0</th>\n      <th>movie_id</th>\n      <th>title</th>\n      <th>genres</th>\n      <th>imdb_id</th>\n      <th>tmdb_id</th>\n      <th>year</th>\n      <th>budget</th>\n      <th>vote_count</th>\n      <th>vote_average</th>\n      <th>revenue</th>\n      <th>runtime</th>\n      <th>popularity</th>\n      <th>overview</th>\n    </tr>\n  </thead>\n  <tbody>\n    <tr>\n      <th>0</th>\n      <td>14156</td>\n      <td>73268</td>\n      <td>Daybreakers</td>\n      <td>Action|Drama|Horror|Thriller</td>\n      <td>433362</td>\n      <td>19901</td>\n      <td>2010</td>\n      <td>20000000.0</td>\n      <td>1255.0</td>\n      <td>6.2</td>\n      <td>51416464.0</td>\n      <td>98.0</td>\n      <td>16.378</td>\n      <td>In the year 2019, a plague has transformed alm...</td>\n    </tr>\n    <tr>\n      <th>1</th>\n      <td>14161</td>\n      <td>73319</td>\n      <td>Leap Year</td>\n      <td>Comedy|Romance</td>\n      <td>1216492</td>\n      <td>25195</td>\n      <td>2010</td>\n      <td>19000000.0</td>\n      <td>1387.0</td>\n      <td>6.9</td>\n      <td>29922472.0</td>\n      <td>100.0</td>\n      <td>18.924</td>\n      <td>When yet another anniversary passes without a ...</td>\n    </tr>\n    <tr>\n      <th>2</th>\n      <td>14162</td>\n      <td>73321</td>\n      <td>The Book of Eli</td>\n      <td>Action|Adventure|Drama</td>\n      <td>1037705</td>\n      <td>20504</td>\n      <td>2010</td>\n      <td>80000000.0</td>\n      <td>4303.0</td>\n      <td>6.7</td>\n      <td>157107755.0</td>\n      <td>118.0</td>\n      <td>24.843</td>\n      <td>A post-apocalyptic tale, in which a lone man f...</td>\n    </tr>\n    <tr>\n      <th>4</th>\n      <td>14256</td>\n      <td>73929</td>\n      <td>Legion</td>\n      <td>Action|Fantasy|Horror|Thriller</td>\n      <td>1038686</td>\n      <td>22894</td>\n      <td>2010</td>\n      <td>26000000.0</td>\n      <td>1630.0</td>\n      <td>5.6</td>\n      <td>67918658.0</td>\n      <td>100.0</td>\n      <td>28.993</td>\n      <td>When God loses faith in humankind, he sends hi...</td>\n    </tr>\n    <tr>\n      <th>6</th>\n      <td>14280</td>\n      <td>74131</td>\n      <td>Extraordinary Measures</td>\n      <td>Drama</td>\n      <td>1244659</td>\n      <td>27569</td>\n      <td>2010</td>\n      <td>31000000.0</td>\n      <td>192.0</td>\n      <td>6.3</td>\n      <td>15134293.0</td>\n      <td>105.0</td>\n      <td>9.145</td>\n      <td>Working-class father John Crowley is finally o...</td>\n    </tr>\n  </tbody>\n</table>\n</div>"
     },
     "metadata": {},
     "execution_count": 3
    }
   ],
   "source": [
    "movies_2010s.dropna(inplace=True) # get rid of movies with null values\n",
    "movies_2010s = movies_2010s.loc[movies_2010s['revenue'] > 0] # get revenues that are greater than 0\n",
    "movies_2010s.head(5)"
   ]
  },
  {
   "source": [
    "As you can see, \"As I love\" was removed from the database. Now let's see how many movies we have to work with."
   ],
   "cell_type": "markdown",
   "metadata": {}
  },
  {
   "cell_type": "code",
   "execution_count": 4,
   "metadata": {},
   "outputs": [
    {
     "output_type": "execute_result",
     "data": {
      "text/plain": [
       "(3381, 14)"
      ]
     },
     "metadata": {},
     "execution_count": 4
    }
   ],
   "source": [
    "movies_2010s.shape"
   ]
  },
  {
   "source": [
    "Now we only want to consider movies that most people have actually rated, so let's use the 90th percentile as a cutoff to get that information, meaning for a movie to stay in the database, it must have more votes than at least 90% of the movies in the list."
   ],
   "cell_type": "markdown",
   "metadata": {}
  },
  {
   "cell_type": "code",
   "execution_count": 8,
   "metadata": {},
   "outputs": [
    {
     "output_type": "execute_result",
     "data": {
      "text/plain": [
       "2106.0"
      ]
     },
     "metadata": {},
     "execution_count": 8
    }
   ],
   "source": [
    "num_votes_required = movies_2010s['vote_count'].quantile(0.8)\n",
    "num_votes_required"
   ]
  },
  {
   "cell_type": "code",
   "execution_count": 9,
   "metadata": {},
   "outputs": [
    {
     "output_type": "execute_result",
     "data": {
      "text/plain": [
       "(677, 14)"
      ]
     },
     "metadata": {},
     "execution_count": 9
    }
   ],
   "source": [
    "watched_movies_2010s = movies_2010s.copy().loc[movies_2010s['vote_count'] >= num_votes_required]\n",
    "watched_movies_2010s.shape"
   ]
  },
  {
   "cell_type": "code",
   "execution_count": null,
   "metadata": {},
   "outputs": [],
   "source": [
    "watched_movies_2010s[['title', 'genres', 'budget', 'revenue', 'overview']].head(5)"
   ]
  }
 ]
}