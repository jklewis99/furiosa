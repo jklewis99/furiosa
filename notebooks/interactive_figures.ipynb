{
 "metadata": {
  "language_info": {
   "codemirror_mode": {
    "name": "ipython",
    "version": 3
   },
   "file_extension": ".py",
   "mimetype": "text/x-python",
   "name": "python",
   "nbconvert_exporter": "python",
   "pygments_lexer": "ipython3",
   "version": "3.8.5-final"
  },
  "orig_nbformat": 2,
  "kernelspec": {
   "name": "python3",
   "display_name": "Python 3"
  }
 },
 "nbformat": 4,
 "nbformat_minor": 2,
 "cells": [
  {
   "cell_type": "code",
   "execution_count": 1,
   "metadata": {},
   "outputs": [],
   "source": [
    "import plotly.graph_objects as go\n",
    "import numpy as np\n",
    "import sys\n",
    "import os\n",
    "sys.path.append(\n",
    "    os.path.join(os.getcwd(), os.path.pardir))\n",
    "from furiosanet import test, get_layers_from_file\n",
    "from sklearn.metrics import r2_score"
   ]
  },
  {
   "cell_type": "code",
   "execution_count": 2,
   "metadata": {},
   "outputs": [
    {
     "output_type": "stream",
     "name": "stdout",
     "text": [
      "Model: \"sequential\"\n",
      "_________________________________________________________________\n",
      "Layer (type)                 Output Shape              Param #   \n",
      "=================================================================\n",
      "dense (Dense)                (None, 1090)              30520     \n",
      "_________________________________________________________________\n",
      "dense_1 (Dense)              (None, 3740)              4080340   \n",
      "_________________________________________________________________\n",
      "dense_2 (Dense)              (None, 1460)              5461860   \n",
      "_________________________________________________________________\n",
      "dense_3 (Dense)              (None, 1020)              1490220   \n",
      "_________________________________________________________________\n",
      "dense_4 (Dense)              (None, 1)                 1021      \n",
      "=================================================================\n",
      "Total params: 11,063,961\n",
      "Trainable params: 11,063,961\n",
      "Non-trainable params: 0\n",
      "_________________________________________________________________\n",
      "None\n",
      "35950184.0 47756590.0\n"
     ]
    },
    {
     "output_type": "display_data",
     "data": {
      "text/plain": "<Figure size 576x576 with 1 Axes>",
      "image/svg+xml": "<?xml version=\"1.0\" encoding=\"utf-8\" standalone=\"no\"?>\r\n<!DOCTYPE svg PUBLIC \"-//W3C//DTD SVG 1.1//EN\"\r\n  \"http://www.w3.org/Graphics/SVG/1.1/DTD/svg11.dtd\">\r\n<!-- Created with matplotlib (https://matplotlib.org/) -->\r\n<svg height=\"511.615pt\" version=\"1.1\" viewBox=\"0 0 505.12375 511.615\" width=\"505.12375pt\" xmlns=\"http://www.w3.org/2000/svg\" xmlns:xlink=\"http://www.w3.org/1999/xlink\">\r\n <metadata>\r\n  <rdf:RDF xmlns:cc=\"http://creativecommons.org/ns#\" xmlns:dc=\"http://purl.org/dc/elements/1.1/\" xmlns:rdf=\"http://www.w3.org/1999/02/22-rdf-syntax-ns#\">\r\n   <cc:Work>\r\n    <dc:type rdf:resource=\"http://purl.org/dc/dcmitype/StillImage\"/>\r\n    <dc:date>2020-11-20T14:37:41.176379</dc:date>\r\n    <dc:format>image/svg+xml</dc:format>\r\n    <dc:creator>\r\n     <cc:Agent>\r\n      <dc:title>Matplotlib v3.3.2, https://matplotlib.org/</dc:title>\r\n     </cc:Agent>\r\n    </dc:creator>\r\n   </cc:Work>\r\n  </rdf:RDF>\r\n </metadata>\r\n <defs>\r\n  <style type=\"text/css\">*{stroke-linecap:butt;stroke-linejoin:round;}</style>\r\n </defs>\r\n <g id=\"figure_1\">\r\n  <g id=\"patch_1\">\r\n   <path d=\"M 0 511.615 \r\nL 505.12375 511.615 \r\nL 505.12375 0 \r\nL 0 0 \r\nz\r\n\" style=\"fill:none;\"/>\r\n  </g>\r\n  <g id=\"axes_1\">\r\n   <g id=\"patch_2\">\r\n    <path d=\"M 51.52375 466.31625 \r\nL 497.92375 466.31625 \r\nL 497.92375 31.43625 \r\nL 51.52375 31.43625 \r\nz\r\n\" style=\"fill:#ffffff;\"/>\r\n   </g>\r\n   <g id=\"PathCollection_1\">\r\n    <defs>\r\n     <path d=\"M 0 3 \r\nC 0.795609 3 1.55874 2.683901 2.12132 2.12132 \r\nC 2.683901 1.55874 3 0.795609 3 0 \r\nC 3 -0.795609 2.683901 -1.55874 2.12132 -2.12132 \r\nC 1.55874 -2.683901 0.795609 -3 0 -3 \r\nC -0.795609 -3 -1.55874 -2.683901 -2.12132 -2.12132 \r\nC -2.683901 -1.55874 -3 -0.795609 -3 0 \r\nC -3 0.795609 -2.683901 1.55874 -2.12132 2.12132 \r\nC -1.55874 2.683901 -0.795609 3 0 3 \r\nz\r\n\" id=\"ma6b954ee1d\" style=\"stroke:#1f77b4;\"/>\r\n    </defs>\r\n    <g clip-path=\"url(#p5e4bf6abc1)\">\r\n     <use style=\"fill:#1f77b4;stroke:#1f77b4;\" x=\"115.192909\" xlink:href=\"#ma6b954ee1d\" y=\"433.617025\"/>\r\n     <use style=\"fill:#1f77b4;stroke:#1f77b4;\" x=\"262.941221\" xlink:href=\"#ma6b954ee1d\" y=\"363.970218\"/>\r\n     <use style=\"fill:#1f77b4;stroke:#1f77b4;\" x=\"105.374399\" xlink:href=\"#ma6b954ee1d\" y=\"391.652807\"/>\r\n     <use style=\"fill:#1f77b4;stroke:#1f77b4;\" x=\"100.073706\" xlink:href=\"#ma6b954ee1d\" y=\"428.569532\"/>\r\n     <use style=\"fill:#1f77b4;stroke:#1f77b4;\" x=\"138.436572\" xlink:href=\"#ma6b954ee1d\" y=\"403.795841\"/>\r\n     <use style=\"fill:#1f77b4;stroke:#1f77b4;\" x=\"135.59322\" xlink:href=\"#ma6b954ee1d\" y=\"414.877742\"/>\r\n     <use style=\"fill:#1f77b4;stroke:#1f77b4;\" x=\"317.30968\" xlink:href=\"#ma6b954ee1d\" y=\"375.943424\"/>\r\n     <use style=\"fill:#1f77b4;stroke:#1f77b4;\" x=\"123.472826\" xlink:href=\"#ma6b954ee1d\" y=\"433.727565\"/>\r\n     <use style=\"fill:#1f77b4;stroke:#1f77b4;\" x=\"355.175366\" xlink:href=\"#ma6b954ee1d\" y=\"144.324781\"/>\r\n     <use style=\"fill:#1f77b4;stroke:#1f77b4;\" x=\"117.970834\" xlink:href=\"#ma6b954ee1d\" y=\"437.945991\"/>\r\n     <use style=\"fill:#1f77b4;stroke:#1f77b4;\" x=\"347.948306\" xlink:href=\"#ma6b954ee1d\" y=\"185.924337\"/>\r\n     <use style=\"fill:#1f77b4;stroke:#1f77b4;\" x=\"124.408071\" xlink:href=\"#ma6b954ee1d\" y=\"385.878274\"/>\r\n     <use style=\"fill:#1f77b4;stroke:#1f77b4;\" x=\"130.286715\" xlink:href=\"#ma6b954ee1d\" y=\"424.287372\"/>\r\n     <use style=\"fill:#1f77b4;stroke:#1f77b4;\" x=\"125.88436\" xlink:href=\"#ma6b954ee1d\" y=\"436.453041\"/>\r\n     <use style=\"fill:#1f77b4;stroke:#1f77b4;\" x=\"175.045883\" xlink:href=\"#ma6b954ee1d\" y=\"345.226262\"/>\r\n     <use style=\"fill:#1f77b4;stroke:#1f77b4;\" x=\"182.714386\" xlink:href=\"#ma6b954ee1d\" y=\"380.198404\"/>\r\n     <use style=\"fill:#1f77b4;stroke:#1f77b4;\" x=\"201.203126\" xlink:href=\"#ma6b954ee1d\" y=\"364.00258\"/>\r\n     <use style=\"fill:#1f77b4;stroke:#1f77b4;\" x=\"306.467128\" xlink:href=\"#ma6b954ee1d\" y=\"298.418899\"/>\r\n     <use style=\"fill:#1f77b4;stroke:#1f77b4;\" x=\"185.993108\" xlink:href=\"#ma6b954ee1d\" y=\"345.920559\"/>\r\n     <use style=\"fill:#1f77b4;stroke:#1f77b4;\" x=\"153.306117\" xlink:href=\"#ma6b954ee1d\" y=\"372.827579\"/>\r\n     <use style=\"fill:#1f77b4;stroke:#1f77b4;\" x=\"330.835248\" xlink:href=\"#ma6b954ee1d\" y=\"310.608796\"/>\r\n     <use style=\"fill:#1f77b4;stroke:#1f77b4;\" x=\"82.384521\" xlink:href=\"#ma6b954ee1d\" y=\"446.548977\"/>\r\n     <use style=\"fill:#1f77b4;stroke:#1f77b4;\" x=\"141.606739\" xlink:href=\"#ma6b954ee1d\" y=\"436.906911\"/>\r\n     <use style=\"fill:#1f77b4;stroke:#1f77b4;\" x=\"459.136232\" xlink:href=\"#ma6b954ee1d\" y=\"262.528585\"/>\r\n     <use style=\"fill:#1f77b4;stroke:#1f77b4;\" x=\"477.632841\" xlink:href=\"#ma6b954ee1d\" y=\"51.203523\"/>\r\n     <use style=\"fill:#1f77b4;stroke:#1f77b4;\" x=\"472.140395\" xlink:href=\"#ma6b954ee1d\" y=\"63.372738\"/>\r\n     <use style=\"fill:#1f77b4;stroke:#1f77b4;\" x=\"148.148626\" xlink:href=\"#ma6b954ee1d\" y=\"330.638456\"/>\r\n     <use style=\"fill:#1f77b4;stroke:#1f77b4;\" x=\"171.275185\" xlink:href=\"#ma6b954ee1d\" y=\"375.430828\"/>\r\n     <use style=\"fill:#1f77b4;stroke:#1f77b4;\" x=\"118.249494\" xlink:href=\"#ma6b954ee1d\" y=\"431.359993\"/>\r\n     <use style=\"fill:#1f77b4;stroke:#1f77b4;\" x=\"262.181117\" xlink:href=\"#ma6b954ee1d\" y=\"241.398763\"/>\r\n     <use style=\"fill:#1f77b4;stroke:#1f77b4;\" x=\"104.942014\" xlink:href=\"#ma6b954ee1d\" y=\"406.461599\"/>\r\n     <use style=\"fill:#1f77b4;stroke:#1f77b4;\" x=\"163.678\" xlink:href=\"#ma6b954ee1d\" y=\"387.602879\"/>\r\n     <use style=\"fill:#1f77b4;stroke:#1f77b4;\" x=\"125.462695\" xlink:href=\"#ma6b954ee1d\" y=\"419.060442\"/>\r\n     <use style=\"fill:#1f77b4;stroke:#1f77b4;\" x=\"107.750694\" xlink:href=\"#ma6b954ee1d\" y=\"434.104809\"/>\r\n     <use style=\"fill:#1f77b4;stroke:#1f77b4;\" x=\"119.55184\" xlink:href=\"#ma6b954ee1d\" y=\"411.942963\"/>\r\n     <use style=\"fill:#1f77b4;stroke:#1f77b4;\" x=\"158.419937\" xlink:href=\"#ma6b954ee1d\" y=\"380.456967\"/>\r\n     <use style=\"fill:#1f77b4;stroke:#1f77b4;\" x=\"128.666103\" xlink:href=\"#ma6b954ee1d\" y=\"435.893876\"/>\r\n     <use style=\"fill:#1f77b4;stroke:#1f77b4;\" x=\"101.361301\" xlink:href=\"#ma6b954ee1d\" y=\"445.719677\"/>\r\n     <use style=\"fill:#1f77b4;stroke:#1f77b4;\" x=\"163.061489\" xlink:href=\"#ma6b954ee1d\" y=\"384.912839\"/>\r\n     <use style=\"fill:#1f77b4;stroke:#1f77b4;\" x=\"120.561777\" xlink:href=\"#ma6b954ee1d\" y=\"398.964896\"/>\r\n     <use style=\"fill:#1f77b4;stroke:#1f77b4;\" x=\"206.886278\" xlink:href=\"#ma6b954ee1d\" y=\"433.642123\"/>\r\n     <use style=\"fill:#1f77b4;stroke:#1f77b4;\" x=\"124.00681\" xlink:href=\"#ma6b954ee1d\" y=\"416.668142\"/>\r\n     <use style=\"fill:#1f77b4;stroke:#1f77b4;\" x=\"159.369878\" xlink:href=\"#ma6b954ee1d\" y=\"346.951471\"/>\r\n     <use style=\"fill:#1f77b4;stroke:#1f77b4;\" x=\"148.596942\" xlink:href=\"#ma6b954ee1d\" y=\"333.345805\"/>\r\n     <use style=\"fill:#1f77b4;stroke:#1f77b4;\" x=\"424.416199\" xlink:href=\"#ma6b954ee1d\" y=\"212.761375\"/>\r\n     <use style=\"fill:#1f77b4;stroke:#1f77b4;\" x=\"146.219513\" xlink:href=\"#ma6b954ee1d\" y=\"404.653458\"/>\r\n     <use style=\"fill:#1f77b4;stroke:#1f77b4;\" x=\"108.849852\" xlink:href=\"#ma6b954ee1d\" y=\"445.714415\"/>\r\n     <use style=\"fill:#1f77b4;stroke:#1f77b4;\" x=\"209.872986\" xlink:href=\"#ma6b954ee1d\" y=\"258.140493\"/>\r\n     <use style=\"fill:#1f77b4;stroke:#1f77b4;\" x=\"291.183247\" xlink:href=\"#ma6b954ee1d\" y=\"273.701071\"/>\r\n     <use style=\"fill:#1f77b4;stroke:#1f77b4;\" x=\"188.184409\" xlink:href=\"#ma6b954ee1d\" y=\"316.503403\"/>\r\n     <use style=\"fill:#1f77b4;stroke:#1f77b4;\" x=\"405.787709\" xlink:href=\"#ma6b954ee1d\" y=\"102.065569\"/>\r\n     <use style=\"fill:#1f77b4;stroke:#1f77b4;\" x=\"129.729001\" xlink:href=\"#ma6b954ee1d\" y=\"380.972756\"/>\r\n     <use style=\"fill:#1f77b4;stroke:#1f77b4;\" x=\"220.40197\" xlink:href=\"#ma6b954ee1d\" y=\"377.24798\"/>\r\n     <use style=\"fill:#1f77b4;stroke:#1f77b4;\" x=\"311.554105\" xlink:href=\"#ma6b954ee1d\" y=\"229.873775\"/>\r\n     <use style=\"fill:#1f77b4;stroke:#1f77b4;\" x=\"106.863732\" xlink:href=\"#ma6b954ee1d\" y=\"399.198694\"/>\r\n     <use style=\"fill:#1f77b4;stroke:#1f77b4;\" x=\"119.885725\" xlink:href=\"#ma6b954ee1d\" y=\"418.600666\"/>\r\n     <use style=\"fill:#1f77b4;stroke:#1f77b4;\" x=\"111.555127\" xlink:href=\"#ma6b954ee1d\" y=\"428.374479\"/>\r\n     <use style=\"fill:#1f77b4;stroke:#1f77b4;\" x=\"358.621662\" xlink:href=\"#ma6b954ee1d\" y=\"239.779159\"/>\r\n     <use style=\"fill:#1f77b4;stroke:#1f77b4;\" x=\"107.428215\" xlink:href=\"#ma6b954ee1d\" y=\"436.579303\"/>\r\n     <use style=\"fill:#1f77b4;stroke:#1f77b4;\" x=\"139.966714\" xlink:href=\"#ma6b954ee1d\" y=\"424.525759\"/>\r\n     <use style=\"fill:#1f77b4;stroke:#1f77b4;\" x=\"117.169339\" xlink:href=\"#ma6b954ee1d\" y=\"415.761461\"/>\r\n     <use style=\"fill:#1f77b4;stroke:#1f77b4;\" x=\"119.223096\" xlink:href=\"#ma6b954ee1d\" y=\"406.042679\"/>\r\n     <use style=\"fill:#1f77b4;stroke:#1f77b4;\" x=\"150.99561\" xlink:href=\"#ma6b954ee1d\" y=\"416.981173\"/>\r\n     <use style=\"fill:#1f77b4;stroke:#1f77b4;\" x=\"108.643783\" xlink:href=\"#ma6b954ee1d\" y=\"405.926295\"/>\r\n     <use style=\"fill:#1f77b4;stroke:#1f77b4;\" x=\"241.471105\" xlink:href=\"#ma6b954ee1d\" y=\"344.578584\"/>\r\n     <use style=\"fill:#1f77b4;stroke:#1f77b4;\" x=\"161.925557\" xlink:href=\"#ma6b954ee1d\" y=\"298.747941\"/>\r\n     <use style=\"fill:#1f77b4;stroke:#1f77b4;\" x=\"149.029924\" xlink:href=\"#ma6b954ee1d\" y=\"416.003509\"/>\r\n     <use style=\"fill:#1f77b4;stroke:#1f77b4;\" x=\"312.435294\" xlink:href=\"#ma6b954ee1d\" y=\"242.690889\"/>\r\n     <use style=\"fill:#1f77b4;stroke:#1f77b4;\" x=\"124.320724\" xlink:href=\"#ma6b954ee1d\" y=\"402.502731\"/>\r\n     <use style=\"fill:#1f77b4;stroke:#1f77b4;\" x=\"184.227103\" xlink:href=\"#ma6b954ee1d\" y=\"352.97245\"/>\r\n     <use style=\"fill:#1f77b4;stroke:#1f77b4;\" x=\"105.120762\" xlink:href=\"#ma6b954ee1d\" y=\"441.050764\"/>\r\n     <use style=\"fill:#1f77b4;stroke:#1f77b4;\" x=\"156.6244\" xlink:href=\"#ma6b954ee1d\" y=\"395.979309\"/>\r\n     <use style=\"fill:#1f77b4;stroke:#1f77b4;\" x=\"137.049247\" xlink:href=\"#ma6b954ee1d\" y=\"427.267058\"/>\r\n     <use style=\"fill:#1f77b4;stroke:#1f77b4;\" x=\"145.26427\" xlink:href=\"#ma6b954ee1d\" y=\"429.37076\"/>\r\n     <use style=\"fill:#1f77b4;stroke:#1f77b4;\" x=\"275.066819\" xlink:href=\"#ma6b954ee1d\" y=\"384.149861\"/>\r\n     <use style=\"fill:#1f77b4;stroke:#1f77b4;\" x=\"260.822856\" xlink:href=\"#ma6b954ee1d\" y=\"348.908035\"/>\r\n     <use style=\"fill:#1f77b4;stroke:#1f77b4;\" x=\"115.671738\" xlink:href=\"#ma6b954ee1d\" y=\"410.489194\"/>\r\n     <use style=\"fill:#1f77b4;stroke:#1f77b4;\" x=\"171.734206\" xlink:href=\"#ma6b954ee1d\" y=\"328.372522\"/>\r\n     <use style=\"fill:#1f77b4;stroke:#1f77b4;\" x=\"164.600951\" xlink:href=\"#ma6b954ee1d\" y=\"411.627925\"/>\r\n     <use style=\"fill:#1f77b4;stroke:#1f77b4;\" x=\"228.516839\" xlink:href=\"#ma6b954ee1d\" y=\"387.487202\"/>\r\n     <use style=\"fill:#1f77b4;stroke:#1f77b4;\" x=\"248.404981\" xlink:href=\"#ma6b954ee1d\" y=\"305.505851\"/>\r\n     <use style=\"fill:#1f77b4;stroke:#1f77b4;\" x=\"136.815008\" xlink:href=\"#ma6b954ee1d\" y=\"401.513094\"/>\r\n     <use style=\"fill:#1f77b4;stroke:#1f77b4;\" x=\"331.123992\" xlink:href=\"#ma6b954ee1d\" y=\"220.563936\"/>\r\n     <use style=\"fill:#1f77b4;stroke:#1f77b4;\" x=\"111.652839\" xlink:href=\"#ma6b954ee1d\" y=\"429.333218\"/>\r\n     <use style=\"fill:#1f77b4;stroke:#1f77b4;\" x=\"219.159416\" xlink:href=\"#ma6b954ee1d\" y=\"341.210915\"/>\r\n     <use style=\"fill:#1f77b4;stroke:#1f77b4;\" x=\"159.917795\" xlink:href=\"#ma6b954ee1d\" y=\"384.872625\"/>\r\n     <use style=\"fill:#1f77b4;stroke:#1f77b4;\" x=\"156.952276\" xlink:href=\"#ma6b954ee1d\" y=\"312.13595\"/>\r\n     <use style=\"fill:#1f77b4;stroke:#1f77b4;\" x=\"127.506856\" xlink:href=\"#ma6b954ee1d\" y=\"420.643134\"/>\r\n     <use style=\"fill:#1f77b4;stroke:#1f77b4;\" x=\"126.1059\" xlink:href=\"#ma6b954ee1d\" y=\"431.640612\"/>\r\n     <use style=\"fill:#1f77b4;stroke:#1f77b4;\" x=\"146.225832\" xlink:href=\"#ma6b954ee1d\" y=\"388.580077\"/>\r\n     <use style=\"fill:#1f77b4;stroke:#1f77b4;\" x=\"307.562073\" xlink:href=\"#ma6b954ee1d\" y=\"239.945273\"/>\r\n     <use style=\"fill:#1f77b4;stroke:#1f77b4;\" x=\"165.584509\" xlink:href=\"#ma6b954ee1d\" y=\"437.017395\"/>\r\n     <use style=\"fill:#1f77b4;stroke:#1f77b4;\" x=\"141.687628\" xlink:href=\"#ma6b954ee1d\" y=\"382.372142\"/>\r\n     <use style=\"fill:#1f77b4;stroke:#1f77b4;\" x=\"124.34367\" xlink:href=\"#ma6b954ee1d\" y=\"387.428719\"/>\r\n     <use style=\"fill:#1f77b4;stroke:#1f77b4;\" x=\"127.206504\" xlink:href=\"#ma6b954ee1d\" y=\"404.375001\"/>\r\n     <use style=\"fill:#1f77b4;stroke:#1f77b4;\" x=\"200.749241\" xlink:href=\"#ma6b954ee1d\" y=\"356.11263\"/>\r\n     <use style=\"fill:#1f77b4;stroke:#1f77b4;\" x=\"128.560883\" xlink:href=\"#ma6b954ee1d\" y=\"415.988119\"/>\r\n     <use style=\"fill:#1f77b4;stroke:#1f77b4;\" x=\"103.343987\" xlink:href=\"#ma6b954ee1d\" y=\"441.512789\"/>\r\n     <use style=\"fill:#1f77b4;stroke:#1f77b4;\" x=\"197.94801\" xlink:href=\"#ma6b954ee1d\" y=\"313.41258\"/>\r\n     <use style=\"fill:#1f77b4;stroke:#1f77b4;\" x=\"397.373707\" xlink:href=\"#ma6b954ee1d\" y=\"138.948277\"/>\r\n     <use style=\"fill:#1f77b4;stroke:#1f77b4;\" x=\"223.938024\" xlink:href=\"#ma6b954ee1d\" y=\"368.599633\"/>\r\n     <use style=\"fill:#1f77b4;stroke:#1f77b4;\" x=\"71.814659\" xlink:href=\"#ma6b954ee1d\" y=\"445.52121\"/>\r\n     <use style=\"fill:#1f77b4;stroke:#1f77b4;\" x=\"312.109668\" xlink:href=\"#ma6b954ee1d\" y=\"285.070347\"/>\r\n     <use style=\"fill:#1f77b4;stroke:#1f77b4;\" x=\"131.781046\" xlink:href=\"#ma6b954ee1d\" y=\"356.810512\"/>\r\n     <use style=\"fill:#1f77b4;stroke:#1f77b4;\" x=\"135.112862\" xlink:href=\"#ma6b954ee1d\" y=\"442.638966\"/>\r\n     <use style=\"fill:#1f77b4;stroke:#1f77b4;\" x=\"110.639542\" xlink:href=\"#ma6b954ee1d\" y=\"434.616037\"/>\r\n     <use style=\"fill:#1f77b4;stroke:#1f77b4;\" x=\"352.89551\" xlink:href=\"#ma6b954ee1d\" y=\"230.922166\"/>\r\n     <use style=\"fill:#1f77b4;stroke:#1f77b4;\" x=\"132.955932\" xlink:href=\"#ma6b954ee1d\" y=\"420.037292\"/>\r\n     <use style=\"fill:#1f77b4;stroke:#1f77b4;\" x=\"172.205003\" xlink:href=\"#ma6b954ee1d\" y=\"415.169973\"/>\r\n     <use style=\"fill:#1f77b4;stroke:#1f77b4;\" x=\"369.319842\" xlink:href=\"#ma6b954ee1d\" y=\"166.138908\"/>\r\n     <use style=\"fill:#1f77b4;stroke:#1f77b4;\" x=\"361.518946\" xlink:href=\"#ma6b954ee1d\" y=\"115.349251\"/>\r\n     <use style=\"fill:#1f77b4;stroke:#1f77b4;\" x=\"139.63316\" xlink:href=\"#ma6b954ee1d\" y=\"387.681464\"/>\r\n     <use style=\"fill:#1f77b4;stroke:#1f77b4;\" x=\"80.73865\" xlink:href=\"#ma6b954ee1d\" y=\"434.921561\"/>\r\n     <use style=\"fill:#1f77b4;stroke:#1f77b4;\" x=\"139.330805\" xlink:href=\"#ma6b954ee1d\" y=\"413.151433\"/>\r\n     <use style=\"fill:#1f77b4;stroke:#1f77b4;\" x=\"121.347223\" xlink:href=\"#ma6b954ee1d\" y=\"402.523751\"/>\r\n     <use style=\"fill:#1f77b4;stroke:#1f77b4;\" x=\"156.92458\" xlink:href=\"#ma6b954ee1d\" y=\"423.822341\"/>\r\n     <use style=\"fill:#1f77b4;stroke:#1f77b4;\" x=\"159.159734\" xlink:href=\"#ma6b954ee1d\" y=\"366.64689\"/>\r\n     <use style=\"fill:#1f77b4;stroke:#1f77b4;\" x=\"108.538552\" xlink:href=\"#ma6b954ee1d\" y=\"410.419165\"/>\r\n     <use style=\"fill:#1f77b4;stroke:#1f77b4;\" x=\"221.543269\" xlink:href=\"#ma6b954ee1d\" y=\"280.526635\"/>\r\n     <use style=\"fill:#1f77b4;stroke:#1f77b4;\" x=\"156.684129\" xlink:href=\"#ma6b954ee1d\" y=\"349.050719\"/>\r\n     <use style=\"fill:#1f77b4;stroke:#1f77b4;\" x=\"194.083922\" xlink:href=\"#ma6b954ee1d\" y=\"420.409036\"/>\r\n     <use style=\"fill:#1f77b4;stroke:#1f77b4;\" x=\"185.963641\" xlink:href=\"#ma6b954ee1d\" y=\"388.885934\"/>\r\n     <use style=\"fill:#1f77b4;stroke:#1f77b4;\" x=\"118.696226\" xlink:href=\"#ma6b954ee1d\" y=\"417.951372\"/>\r\n     <use style=\"fill:#1f77b4;stroke:#1f77b4;\" x=\"252.986064\" xlink:href=\"#ma6b954ee1d\" y=\"305.019039\"/>\r\n     <use style=\"fill:#1f77b4;stroke:#1f77b4;\" x=\"379.346247\" xlink:href=\"#ma6b954ee1d\" y=\"158.643089\"/>\r\n     <use style=\"fill:#1f77b4;stroke:#1f77b4;\" x=\"173.17086\" xlink:href=\"#ma6b954ee1d\" y=\"346.199434\"/>\r\n     <use style=\"fill:#1f77b4;stroke:#1f77b4;\" x=\"136.54548\" xlink:href=\"#ma6b954ee1d\" y=\"419.221955\"/>\r\n     <use style=\"fill:#1f77b4;stroke:#1f77b4;\" x=\"259.235742\" xlink:href=\"#ma6b954ee1d\" y=\"339.738128\"/>\r\n     <use style=\"fill:#1f77b4;stroke:#1f77b4;\" x=\"132.073292\" xlink:href=\"#ma6b954ee1d\" y=\"424.150675\"/>\r\n     <use style=\"fill:#1f77b4;stroke:#1f77b4;\" x=\"149.715079\" xlink:href=\"#ma6b954ee1d\" y=\"392.976487\"/>\r\n    </g>\r\n   </g>\r\n   <g id=\"matplotlib.axis_1\">\r\n    <g id=\"xtick_1\">\r\n     <g id=\"line2d_1\">\r\n      <defs>\r\n       <path d=\"M 0 0 \r\nL 0 3.5 \r\n\" id=\"m0dfd38ab31\" style=\"stroke:#000000;stroke-width:0.8;\"/>\r\n      </defs>\r\n      <g>\r\n       <use style=\"stroke:#000000;stroke-width:0.8;\" x=\"104.108054\" xlink:href=\"#m0dfd38ab31\" y=\"466.31625\"/>\r\n      </g>\r\n     </g>\r\n     <g id=\"text_1\">\r\n      <!-- 0.0 -->\r\n      <g transform=\"translate(96.156491 480.914688)scale(0.1 -0.1)\">\r\n       <defs>\r\n        <path d=\"M 31.78125 66.40625 \r\nQ 24.171875 66.40625 20.328125 58.90625 \r\nQ 16.5 51.421875 16.5 36.375 \r\nQ 16.5 21.390625 20.328125 13.890625 \r\nQ 24.171875 6.390625 31.78125 6.390625 \r\nQ 39.453125 6.390625 43.28125 13.890625 \r\nQ 47.125 21.390625 47.125 36.375 \r\nQ 47.125 51.421875 43.28125 58.90625 \r\nQ 39.453125 66.40625 31.78125 66.40625 \r\nz\r\nM 31.78125 74.21875 \r\nQ 44.046875 74.21875 50.515625 64.515625 \r\nQ 56.984375 54.828125 56.984375 36.375 \r\nQ 56.984375 17.96875 50.515625 8.265625 \r\nQ 44.046875 -1.421875 31.78125 -1.421875 \r\nQ 19.53125 -1.421875 13.0625 8.265625 \r\nQ 6.59375 17.96875 6.59375 36.375 \r\nQ 6.59375 54.828125 13.0625 64.515625 \r\nQ 19.53125 74.21875 31.78125 74.21875 \r\nz\r\n\" id=\"DejaVuSans-48\"/>\r\n        <path d=\"M 10.6875 12.40625 \r\nL 21 12.40625 \r\nL 21 0 \r\nL 10.6875 0 \r\nz\r\n\" id=\"DejaVuSans-46\"/>\r\n       </defs>\r\n       <use xlink:href=\"#DejaVuSans-48\"/>\r\n       <use x=\"63.623047\" xlink:href=\"#DejaVuSans-46\"/>\r\n       <use x=\"95.410156\" xlink:href=\"#DejaVuSans-48\"/>\r\n      </g>\r\n     </g>\r\n    </g>\r\n    <g id=\"xtick_2\">\r\n     <g id=\"line2d_2\">\r\n      <g>\r\n       <use style=\"stroke:#000000;stroke-width:0.8;\" x=\"165.775916\" xlink:href=\"#m0dfd38ab31\" y=\"466.31625\"/>\r\n      </g>\r\n     </g>\r\n     <g id=\"text_2\">\r\n      <!-- 0.2 -->\r\n      <g transform=\"translate(157.824354 480.914688)scale(0.1 -0.1)\">\r\n       <defs>\r\n        <path d=\"M 19.1875 8.296875 \r\nL 53.609375 8.296875 \r\nL 53.609375 0 \r\nL 7.328125 0 \r\nL 7.328125 8.296875 \r\nQ 12.9375 14.109375 22.625 23.890625 \r\nQ 32.328125 33.6875 34.8125 36.53125 \r\nQ 39.546875 41.84375 41.421875 45.53125 \r\nQ 43.3125 49.21875 43.3125 52.78125 \r\nQ 43.3125 58.59375 39.234375 62.25 \r\nQ 35.15625 65.921875 28.609375 65.921875 \r\nQ 23.96875 65.921875 18.8125 64.3125 \r\nQ 13.671875 62.703125 7.8125 59.421875 \r\nL 7.8125 69.390625 \r\nQ 13.765625 71.78125 18.9375 73 \r\nQ 24.125 74.21875 28.421875 74.21875 \r\nQ 39.75 74.21875 46.484375 68.546875 \r\nQ 53.21875 62.890625 53.21875 53.421875 \r\nQ 53.21875 48.921875 51.53125 44.890625 \r\nQ 49.859375 40.875 45.40625 35.40625 \r\nQ 44.1875 33.984375 37.640625 27.21875 \r\nQ 31.109375 20.453125 19.1875 8.296875 \r\nz\r\n\" id=\"DejaVuSans-50\"/>\r\n       </defs>\r\n       <use xlink:href=\"#DejaVuSans-48\"/>\r\n       <use x=\"63.623047\" xlink:href=\"#DejaVuSans-46\"/>\r\n       <use x=\"95.410156\" xlink:href=\"#DejaVuSans-50\"/>\r\n      </g>\r\n     </g>\r\n    </g>\r\n    <g id=\"xtick_3\">\r\n     <g id=\"line2d_3\">\r\n      <g>\r\n       <use style=\"stroke:#000000;stroke-width:0.8;\" x=\"227.443778\" xlink:href=\"#m0dfd38ab31\" y=\"466.31625\"/>\r\n      </g>\r\n     </g>\r\n     <g id=\"text_3\">\r\n      <!-- 0.4 -->\r\n      <g transform=\"translate(219.492216 480.914688)scale(0.1 -0.1)\">\r\n       <defs>\r\n        <path d=\"M 37.796875 64.3125 \r\nL 12.890625 25.390625 \r\nL 37.796875 25.390625 \r\nz\r\nM 35.203125 72.90625 \r\nL 47.609375 72.90625 \r\nL 47.609375 25.390625 \r\nL 58.015625 25.390625 \r\nL 58.015625 17.1875 \r\nL 47.609375 17.1875 \r\nL 47.609375 0 \r\nL 37.796875 0 \r\nL 37.796875 17.1875 \r\nL 4.890625 17.1875 \r\nL 4.890625 26.703125 \r\nz\r\n\" id=\"DejaVuSans-52\"/>\r\n       </defs>\r\n       <use xlink:href=\"#DejaVuSans-48\"/>\r\n       <use x=\"63.623047\" xlink:href=\"#DejaVuSans-46\"/>\r\n       <use x=\"95.410156\" xlink:href=\"#DejaVuSans-52\"/>\r\n      </g>\r\n     </g>\r\n    </g>\r\n    <g id=\"xtick_4\">\r\n     <g id=\"line2d_4\">\r\n      <g>\r\n       <use style=\"stroke:#000000;stroke-width:0.8;\" x=\"289.111641\" xlink:href=\"#m0dfd38ab31\" y=\"466.31625\"/>\r\n      </g>\r\n     </g>\r\n     <g id=\"text_4\">\r\n      <!-- 0.6 -->\r\n      <g transform=\"translate(281.160078 480.914688)scale(0.1 -0.1)\">\r\n       <defs>\r\n        <path d=\"M 33.015625 40.375 \r\nQ 26.375 40.375 22.484375 35.828125 \r\nQ 18.609375 31.296875 18.609375 23.390625 \r\nQ 18.609375 15.53125 22.484375 10.953125 \r\nQ 26.375 6.390625 33.015625 6.390625 \r\nQ 39.65625 6.390625 43.53125 10.953125 \r\nQ 47.40625 15.53125 47.40625 23.390625 \r\nQ 47.40625 31.296875 43.53125 35.828125 \r\nQ 39.65625 40.375 33.015625 40.375 \r\nz\r\nM 52.59375 71.296875 \r\nL 52.59375 62.3125 \r\nQ 48.875 64.0625 45.09375 64.984375 \r\nQ 41.3125 65.921875 37.59375 65.921875 \r\nQ 27.828125 65.921875 22.671875 59.328125 \r\nQ 17.53125 52.734375 16.796875 39.40625 \r\nQ 19.671875 43.65625 24.015625 45.921875 \r\nQ 28.375 48.1875 33.59375 48.1875 \r\nQ 44.578125 48.1875 50.953125 41.515625 \r\nQ 57.328125 34.859375 57.328125 23.390625 \r\nQ 57.328125 12.15625 50.6875 5.359375 \r\nQ 44.046875 -1.421875 33.015625 -1.421875 \r\nQ 20.359375 -1.421875 13.671875 8.265625 \r\nQ 6.984375 17.96875 6.984375 36.375 \r\nQ 6.984375 53.65625 15.1875 63.9375 \r\nQ 23.390625 74.21875 37.203125 74.21875 \r\nQ 40.921875 74.21875 44.703125 73.484375 \r\nQ 48.484375 72.75 52.59375 71.296875 \r\nz\r\n\" id=\"DejaVuSans-54\"/>\r\n       </defs>\r\n       <use xlink:href=\"#DejaVuSans-48\"/>\r\n       <use x=\"63.623047\" xlink:href=\"#DejaVuSans-46\"/>\r\n       <use x=\"95.410156\" xlink:href=\"#DejaVuSans-54\"/>\r\n      </g>\r\n     </g>\r\n    </g>\r\n    <g id=\"xtick_5\">\r\n     <g id=\"line2d_5\">\r\n      <g>\r\n       <use style=\"stroke:#000000;stroke-width:0.8;\" x=\"350.779503\" xlink:href=\"#m0dfd38ab31\" y=\"466.31625\"/>\r\n      </g>\r\n     </g>\r\n     <g id=\"text_5\">\r\n      <!-- 0.8 -->\r\n      <g transform=\"translate(342.82794 480.914688)scale(0.1 -0.1)\">\r\n       <defs>\r\n        <path d=\"M 31.78125 34.625 \r\nQ 24.75 34.625 20.71875 30.859375 \r\nQ 16.703125 27.09375 16.703125 20.515625 \r\nQ 16.703125 13.921875 20.71875 10.15625 \r\nQ 24.75 6.390625 31.78125 6.390625 \r\nQ 38.8125 6.390625 42.859375 10.171875 \r\nQ 46.921875 13.96875 46.921875 20.515625 \r\nQ 46.921875 27.09375 42.890625 30.859375 \r\nQ 38.875 34.625 31.78125 34.625 \r\nz\r\nM 21.921875 38.8125 \r\nQ 15.578125 40.375 12.03125 44.71875 \r\nQ 8.5 49.078125 8.5 55.328125 \r\nQ 8.5 64.0625 14.71875 69.140625 \r\nQ 20.953125 74.21875 31.78125 74.21875 \r\nQ 42.671875 74.21875 48.875 69.140625 \r\nQ 55.078125 64.0625 55.078125 55.328125 \r\nQ 55.078125 49.078125 51.53125 44.71875 \r\nQ 48 40.375 41.703125 38.8125 \r\nQ 48.828125 37.15625 52.796875 32.3125 \r\nQ 56.78125 27.484375 56.78125 20.515625 \r\nQ 56.78125 9.90625 50.3125 4.234375 \r\nQ 43.84375 -1.421875 31.78125 -1.421875 \r\nQ 19.734375 -1.421875 13.25 4.234375 \r\nQ 6.78125 9.90625 6.78125 20.515625 \r\nQ 6.78125 27.484375 10.78125 32.3125 \r\nQ 14.796875 37.15625 21.921875 38.8125 \r\nz\r\nM 18.3125 54.390625 \r\nQ 18.3125 48.734375 21.84375 45.5625 \r\nQ 25.390625 42.390625 31.78125 42.390625 \r\nQ 38.140625 42.390625 41.71875 45.5625 \r\nQ 45.3125 48.734375 45.3125 54.390625 \r\nQ 45.3125 60.0625 41.71875 63.234375 \r\nQ 38.140625 66.40625 31.78125 66.40625 \r\nQ 25.390625 66.40625 21.84375 63.234375 \r\nQ 18.3125 60.0625 18.3125 54.390625 \r\nz\r\n\" id=\"DejaVuSans-56\"/>\r\n       </defs>\r\n       <use xlink:href=\"#DejaVuSans-48\"/>\r\n       <use x=\"63.623047\" xlink:href=\"#DejaVuSans-46\"/>\r\n       <use x=\"95.410156\" xlink:href=\"#DejaVuSans-56\"/>\r\n      </g>\r\n     </g>\r\n    </g>\r\n    <g id=\"xtick_6\">\r\n     <g id=\"line2d_6\">\r\n      <g>\r\n       <use style=\"stroke:#000000;stroke-width:0.8;\" x=\"412.447365\" xlink:href=\"#m0dfd38ab31\" y=\"466.31625\"/>\r\n      </g>\r\n     </g>\r\n     <g id=\"text_6\">\r\n      <!-- 1.0 -->\r\n      <g transform=\"translate(404.495802 480.914688)scale(0.1 -0.1)\">\r\n       <defs>\r\n        <path d=\"M 12.40625 8.296875 \r\nL 28.515625 8.296875 \r\nL 28.515625 63.921875 \r\nL 10.984375 60.40625 \r\nL 10.984375 69.390625 \r\nL 28.421875 72.90625 \r\nL 38.28125 72.90625 \r\nL 38.28125 8.296875 \r\nL 54.390625 8.296875 \r\nL 54.390625 0 \r\nL 12.40625 0 \r\nz\r\n\" id=\"DejaVuSans-49\"/>\r\n       </defs>\r\n       <use xlink:href=\"#DejaVuSans-49\"/>\r\n       <use x=\"63.623047\" xlink:href=\"#DejaVuSans-46\"/>\r\n       <use x=\"95.410156\" xlink:href=\"#DejaVuSans-48\"/>\r\n      </g>\r\n     </g>\r\n    </g>\r\n    <g id=\"xtick_7\">\r\n     <g id=\"line2d_7\">\r\n      <g>\r\n       <use style=\"stroke:#000000;stroke-width:0.8;\" x=\"474.115227\" xlink:href=\"#m0dfd38ab31\" y=\"466.31625\"/>\r\n      </g>\r\n     </g>\r\n     <g id=\"text_7\">\r\n      <!-- 1.2 -->\r\n      <g transform=\"translate(466.163665 480.914688)scale(0.1 -0.1)\">\r\n       <use xlink:href=\"#DejaVuSans-49\"/>\r\n       <use x=\"63.623047\" xlink:href=\"#DejaVuSans-46\"/>\r\n       <use x=\"95.410156\" xlink:href=\"#DejaVuSans-50\"/>\r\n      </g>\r\n     </g>\r\n    </g>\r\n    <g id=\"text_8\">\r\n     <!-- Predicted Value -->\r\n     <g transform=\"translate(204.900625 500.671562)scale(0.18 -0.18)\">\r\n      <defs>\r\n       <path d=\"M 19.671875 64.796875 \r\nL 19.671875 37.40625 \r\nL 32.078125 37.40625 \r\nQ 38.96875 37.40625 42.71875 40.96875 \r\nQ 46.484375 44.53125 46.484375 51.125 \r\nQ 46.484375 57.671875 42.71875 61.234375 \r\nQ 38.96875 64.796875 32.078125 64.796875 \r\nz\r\nM 9.8125 72.90625 \r\nL 32.078125 72.90625 \r\nQ 44.34375 72.90625 50.609375 67.359375 \r\nQ 56.890625 61.8125 56.890625 51.125 \r\nQ 56.890625 40.328125 50.609375 34.8125 \r\nQ 44.34375 29.296875 32.078125 29.296875 \r\nL 19.671875 29.296875 \r\nL 19.671875 0 \r\nL 9.8125 0 \r\nz\r\n\" id=\"DejaVuSans-80\"/>\r\n       <path d=\"M 41.109375 46.296875 \r\nQ 39.59375 47.171875 37.8125 47.578125 \r\nQ 36.03125 48 33.890625 48 \r\nQ 26.265625 48 22.1875 43.046875 \r\nQ 18.109375 38.09375 18.109375 28.8125 \r\nL 18.109375 0 \r\nL 9.078125 0 \r\nL 9.078125 54.6875 \r\nL 18.109375 54.6875 \r\nL 18.109375 46.1875 \r\nQ 20.953125 51.171875 25.484375 53.578125 \r\nQ 30.03125 56 36.53125 56 \r\nQ 37.453125 56 38.578125 55.875 \r\nQ 39.703125 55.765625 41.0625 55.515625 \r\nz\r\n\" id=\"DejaVuSans-114\"/>\r\n       <path d=\"M 56.203125 29.59375 \r\nL 56.203125 25.203125 \r\nL 14.890625 25.203125 \r\nQ 15.484375 15.921875 20.484375 11.0625 \r\nQ 25.484375 6.203125 34.421875 6.203125 \r\nQ 39.59375 6.203125 44.453125 7.46875 \r\nQ 49.3125 8.734375 54.109375 11.28125 \r\nL 54.109375 2.78125 \r\nQ 49.265625 0.734375 44.1875 -0.34375 \r\nQ 39.109375 -1.421875 33.890625 -1.421875 \r\nQ 20.796875 -1.421875 13.15625 6.1875 \r\nQ 5.515625 13.8125 5.515625 26.8125 \r\nQ 5.515625 40.234375 12.765625 48.109375 \r\nQ 20.015625 56 32.328125 56 \r\nQ 43.359375 56 49.78125 48.890625 \r\nQ 56.203125 41.796875 56.203125 29.59375 \r\nz\r\nM 47.21875 32.234375 \r\nQ 47.125 39.59375 43.09375 43.984375 \r\nQ 39.0625 48.390625 32.421875 48.390625 \r\nQ 24.90625 48.390625 20.390625 44.140625 \r\nQ 15.875 39.890625 15.1875 32.171875 \r\nz\r\n\" id=\"DejaVuSans-101\"/>\r\n       <path d=\"M 45.40625 46.390625 \r\nL 45.40625 75.984375 \r\nL 54.390625 75.984375 \r\nL 54.390625 0 \r\nL 45.40625 0 \r\nL 45.40625 8.203125 \r\nQ 42.578125 3.328125 38.25 0.953125 \r\nQ 33.9375 -1.421875 27.875 -1.421875 \r\nQ 17.96875 -1.421875 11.734375 6.484375 \r\nQ 5.515625 14.40625 5.515625 27.296875 \r\nQ 5.515625 40.1875 11.734375 48.09375 \r\nQ 17.96875 56 27.875 56 \r\nQ 33.9375 56 38.25 53.625 \r\nQ 42.578125 51.265625 45.40625 46.390625 \r\nz\r\nM 14.796875 27.296875 \r\nQ 14.796875 17.390625 18.875 11.75 \r\nQ 22.953125 6.109375 30.078125 6.109375 \r\nQ 37.203125 6.109375 41.296875 11.75 \r\nQ 45.40625 17.390625 45.40625 27.296875 \r\nQ 45.40625 37.203125 41.296875 42.84375 \r\nQ 37.203125 48.484375 30.078125 48.484375 \r\nQ 22.953125 48.484375 18.875 42.84375 \r\nQ 14.796875 37.203125 14.796875 27.296875 \r\nz\r\n\" id=\"DejaVuSans-100\"/>\r\n       <path d=\"M 9.421875 54.6875 \r\nL 18.40625 54.6875 \r\nL 18.40625 0 \r\nL 9.421875 0 \r\nz\r\nM 9.421875 75.984375 \r\nL 18.40625 75.984375 \r\nL 18.40625 64.59375 \r\nL 9.421875 64.59375 \r\nz\r\n\" id=\"DejaVuSans-105\"/>\r\n       <path d=\"M 48.78125 52.59375 \r\nL 48.78125 44.1875 \r\nQ 44.96875 46.296875 41.140625 47.34375 \r\nQ 37.3125 48.390625 33.40625 48.390625 \r\nQ 24.65625 48.390625 19.8125 42.84375 \r\nQ 14.984375 37.3125 14.984375 27.296875 \r\nQ 14.984375 17.28125 19.8125 11.734375 \r\nQ 24.65625 6.203125 33.40625 6.203125 \r\nQ 37.3125 6.203125 41.140625 7.25 \r\nQ 44.96875 8.296875 48.78125 10.40625 \r\nL 48.78125 2.09375 \r\nQ 45.015625 0.34375 40.984375 -0.53125 \r\nQ 36.96875 -1.421875 32.421875 -1.421875 \r\nQ 20.0625 -1.421875 12.78125 6.34375 \r\nQ 5.515625 14.109375 5.515625 27.296875 \r\nQ 5.515625 40.671875 12.859375 48.328125 \r\nQ 20.21875 56 33.015625 56 \r\nQ 37.15625 56 41.109375 55.140625 \r\nQ 45.0625 54.296875 48.78125 52.59375 \r\nz\r\n\" id=\"DejaVuSans-99\"/>\r\n       <path d=\"M 18.3125 70.21875 \r\nL 18.3125 54.6875 \r\nL 36.8125 54.6875 \r\nL 36.8125 47.703125 \r\nL 18.3125 47.703125 \r\nL 18.3125 18.015625 \r\nQ 18.3125 11.328125 20.140625 9.421875 \r\nQ 21.96875 7.515625 27.59375 7.515625 \r\nL 36.8125 7.515625 \r\nL 36.8125 0 \r\nL 27.59375 0 \r\nQ 17.1875 0 13.234375 3.875 \r\nQ 9.28125 7.765625 9.28125 18.015625 \r\nL 9.28125 47.703125 \r\nL 2.6875 47.703125 \r\nL 2.6875 54.6875 \r\nL 9.28125 54.6875 \r\nL 9.28125 70.21875 \r\nz\r\n\" id=\"DejaVuSans-116\"/>\r\n       <path id=\"DejaVuSans-32\"/>\r\n       <path d=\"M 28.609375 0 \r\nL 0.78125 72.90625 \r\nL 11.078125 72.90625 \r\nL 34.1875 11.53125 \r\nL 57.328125 72.90625 \r\nL 67.578125 72.90625 \r\nL 39.796875 0 \r\nz\r\n\" id=\"DejaVuSans-86\"/>\r\n       <path d=\"M 34.28125 27.484375 \r\nQ 23.390625 27.484375 19.1875 25 \r\nQ 14.984375 22.515625 14.984375 16.5 \r\nQ 14.984375 11.71875 18.140625 8.90625 \r\nQ 21.296875 6.109375 26.703125 6.109375 \r\nQ 34.1875 6.109375 38.703125 11.40625 \r\nQ 43.21875 16.703125 43.21875 25.484375 \r\nL 43.21875 27.484375 \r\nz\r\nM 52.203125 31.203125 \r\nL 52.203125 0 \r\nL 43.21875 0 \r\nL 43.21875 8.296875 \r\nQ 40.140625 3.328125 35.546875 0.953125 \r\nQ 30.953125 -1.421875 24.3125 -1.421875 \r\nQ 15.921875 -1.421875 10.953125 3.296875 \r\nQ 6 8.015625 6 15.921875 \r\nQ 6 25.140625 12.171875 29.828125 \r\nQ 18.359375 34.515625 30.609375 34.515625 \r\nL 43.21875 34.515625 \r\nL 43.21875 35.40625 \r\nQ 43.21875 41.609375 39.140625 45 \r\nQ 35.0625 48.390625 27.6875 48.390625 \r\nQ 23 48.390625 18.546875 47.265625 \r\nQ 14.109375 46.140625 10.015625 43.890625 \r\nL 10.015625 52.203125 \r\nQ 14.9375 54.109375 19.578125 55.046875 \r\nQ 24.21875 56 28.609375 56 \r\nQ 40.484375 56 46.34375 49.84375 \r\nQ 52.203125 43.703125 52.203125 31.203125 \r\nz\r\n\" id=\"DejaVuSans-97\"/>\r\n       <path d=\"M 9.421875 75.984375 \r\nL 18.40625 75.984375 \r\nL 18.40625 0 \r\nL 9.421875 0 \r\nz\r\n\" id=\"DejaVuSans-108\"/>\r\n       <path d=\"M 8.5 21.578125 \r\nL 8.5 54.6875 \r\nL 17.484375 54.6875 \r\nL 17.484375 21.921875 \r\nQ 17.484375 14.15625 20.5 10.265625 \r\nQ 23.53125 6.390625 29.59375 6.390625 \r\nQ 36.859375 6.390625 41.078125 11.03125 \r\nQ 45.3125 15.671875 45.3125 23.6875 \r\nL 45.3125 54.6875 \r\nL 54.296875 54.6875 \r\nL 54.296875 0 \r\nL 45.3125 0 \r\nL 45.3125 8.40625 \r\nQ 42.046875 3.421875 37.71875 1 \r\nQ 33.40625 -1.421875 27.6875 -1.421875 \r\nQ 18.265625 -1.421875 13.375 4.4375 \r\nQ 8.5 10.296875 8.5 21.578125 \r\nz\r\nM 31.109375 56 \r\nz\r\n\" id=\"DejaVuSans-117\"/>\r\n      </defs>\r\n      <use xlink:href=\"#DejaVuSans-80\"/>\r\n      <use x=\"58.552734\" xlink:href=\"#DejaVuSans-114\"/>\r\n      <use x=\"97.416016\" xlink:href=\"#DejaVuSans-101\"/>\r\n      <use x=\"158.939453\" xlink:href=\"#DejaVuSans-100\"/>\r\n      <use x=\"222.416016\" xlink:href=\"#DejaVuSans-105\"/>\r\n      <use x=\"250.199219\" xlink:href=\"#DejaVuSans-99\"/>\r\n      <use x=\"305.179688\" xlink:href=\"#DejaVuSans-116\"/>\r\n      <use x=\"344.388672\" xlink:href=\"#DejaVuSans-101\"/>\r\n      <use x=\"405.912109\" xlink:href=\"#DejaVuSans-100\"/>\r\n      <use x=\"469.388672\" xlink:href=\"#DejaVuSans-32\"/>\r\n      <use x=\"501.175781\" xlink:href=\"#DejaVuSans-86\"/>\r\n      <use x=\"561.833984\" xlink:href=\"#DejaVuSans-97\"/>\r\n      <use x=\"623.113281\" xlink:href=\"#DejaVuSans-108\"/>\r\n      <use x=\"650.896484\" xlink:href=\"#DejaVuSans-117\"/>\r\n      <use x=\"714.275391\" xlink:href=\"#DejaVuSans-101\"/>\r\n     </g>\r\n    </g>\r\n    <g id=\"text_9\">\r\n     <!-- 1e9 -->\r\n     <g transform=\"translate(479.045625 493.592813)scale(0.1 -0.1)\">\r\n      <defs>\r\n       <path d=\"M 10.984375 1.515625 \r\nL 10.984375 10.5 \r\nQ 14.703125 8.734375 18.5 7.8125 \r\nQ 22.3125 6.890625 25.984375 6.890625 \r\nQ 35.75 6.890625 40.890625 13.453125 \r\nQ 46.046875 20.015625 46.78125 33.40625 \r\nQ 43.953125 29.203125 39.59375 26.953125 \r\nQ 35.25 24.703125 29.984375 24.703125 \r\nQ 19.046875 24.703125 12.671875 31.3125 \r\nQ 6.296875 37.9375 6.296875 49.421875 \r\nQ 6.296875 60.640625 12.9375 67.421875 \r\nQ 19.578125 74.21875 30.609375 74.21875 \r\nQ 43.265625 74.21875 49.921875 64.515625 \r\nQ 56.59375 54.828125 56.59375 36.375 \r\nQ 56.59375 19.140625 48.40625 8.859375 \r\nQ 40.234375 -1.421875 26.421875 -1.421875 \r\nQ 22.703125 -1.421875 18.890625 -0.6875 \r\nQ 15.09375 0.046875 10.984375 1.515625 \r\nz\r\nM 30.609375 32.421875 \r\nQ 37.25 32.421875 41.125 36.953125 \r\nQ 45.015625 41.5 45.015625 49.421875 \r\nQ 45.015625 57.28125 41.125 61.84375 \r\nQ 37.25 66.40625 30.609375 66.40625 \r\nQ 23.96875 66.40625 20.09375 61.84375 \r\nQ 16.21875 57.28125 16.21875 49.421875 \r\nQ 16.21875 41.5 20.09375 36.953125 \r\nQ 23.96875 32.421875 30.609375 32.421875 \r\nz\r\n\" id=\"DejaVuSans-57\"/>\r\n      </defs>\r\n      <use xlink:href=\"#DejaVuSans-49\"/>\r\n      <use x=\"63.623047\" xlink:href=\"#DejaVuSans-101\"/>\r\n      <use x=\"125.146484\" xlink:href=\"#DejaVuSans-57\"/>\r\n     </g>\r\n    </g>\r\n   </g>\r\n   <g id=\"matplotlib.axis_2\">\r\n    <g id=\"ytick_1\">\r\n     <g id=\"line2d_8\">\r\n      <defs>\r\n       <path d=\"M 0 0 \r\nL -3.5 0 \r\n\" id=\"m860f396b90\" style=\"stroke:#000000;stroke-width:0.8;\"/>\r\n      </defs>\r\n      <g>\r\n       <use style=\"stroke:#000000;stroke-width:0.8;\" x=\"51.52375\" xlink:href=\"#m860f396b90\" y=\"446.640737\"/>\r\n      </g>\r\n     </g>\r\n     <g id=\"text_10\">\r\n      <!-- 0.0 -->\r\n      <g transform=\"translate(28.620625 450.439955)scale(0.1 -0.1)\">\r\n       <use xlink:href=\"#DejaVuSans-48\"/>\r\n       <use x=\"63.623047\" xlink:href=\"#DejaVuSans-46\"/>\r\n       <use x=\"95.410156\" xlink:href=\"#DejaVuSans-48\"/>\r\n      </g>\r\n     </g>\r\n    </g>\r\n    <g id=\"ytick_2\">\r\n     <g id=\"line2d_9\">\r\n      <g>\r\n       <use style=\"stroke:#000000;stroke-width:0.8;\" x=\"51.52375\" xlink:href=\"#m860f396b90\" y=\"392.098686\"/>\r\n      </g>\r\n     </g>\r\n     <g id=\"text_11\">\r\n      <!-- 0.2 -->\r\n      <g transform=\"translate(28.620625 395.897904)scale(0.1 -0.1)\">\r\n       <use xlink:href=\"#DejaVuSans-48\"/>\r\n       <use x=\"63.623047\" xlink:href=\"#DejaVuSans-46\"/>\r\n       <use x=\"95.410156\" xlink:href=\"#DejaVuSans-50\"/>\r\n      </g>\r\n     </g>\r\n    </g>\r\n    <g id=\"ytick_3\">\r\n     <g id=\"line2d_10\">\r\n      <g>\r\n       <use style=\"stroke:#000000;stroke-width:0.8;\" x=\"51.52375\" xlink:href=\"#m860f396b90\" y=\"337.556635\"/>\r\n      </g>\r\n     </g>\r\n     <g id=\"text_12\">\r\n      <!-- 0.4 -->\r\n      <g transform=\"translate(28.620625 341.355854)scale(0.1 -0.1)\">\r\n       <use xlink:href=\"#DejaVuSans-48\"/>\r\n       <use x=\"63.623047\" xlink:href=\"#DejaVuSans-46\"/>\r\n       <use x=\"95.410156\" xlink:href=\"#DejaVuSans-52\"/>\r\n      </g>\r\n     </g>\r\n    </g>\r\n    <g id=\"ytick_4\">\r\n     <g id=\"line2d_11\">\r\n      <g>\r\n       <use style=\"stroke:#000000;stroke-width:0.8;\" x=\"51.52375\" xlink:href=\"#m860f396b90\" y=\"283.014584\"/>\r\n      </g>\r\n     </g>\r\n     <g id=\"text_13\">\r\n      <!-- 0.6 -->\r\n      <g transform=\"translate(28.620625 286.813803)scale(0.1 -0.1)\">\r\n       <use xlink:href=\"#DejaVuSans-48\"/>\r\n       <use x=\"63.623047\" xlink:href=\"#DejaVuSans-46\"/>\r\n       <use x=\"95.410156\" xlink:href=\"#DejaVuSans-54\"/>\r\n      </g>\r\n     </g>\r\n    </g>\r\n    <g id=\"ytick_5\">\r\n     <g id=\"line2d_12\">\r\n      <g>\r\n       <use style=\"stroke:#000000;stroke-width:0.8;\" x=\"51.52375\" xlink:href=\"#m860f396b90\" y=\"228.472533\"/>\r\n      </g>\r\n     </g>\r\n     <g id=\"text_14\">\r\n      <!-- 0.8 -->\r\n      <g transform=\"translate(28.620625 232.271752)scale(0.1 -0.1)\">\r\n       <use xlink:href=\"#DejaVuSans-48\"/>\r\n       <use x=\"63.623047\" xlink:href=\"#DejaVuSans-46\"/>\r\n       <use x=\"95.410156\" xlink:href=\"#DejaVuSans-56\"/>\r\n      </g>\r\n     </g>\r\n    </g>\r\n    <g id=\"ytick_6\">\r\n     <g id=\"line2d_13\">\r\n      <g>\r\n       <use style=\"stroke:#000000;stroke-width:0.8;\" x=\"51.52375\" xlink:href=\"#m860f396b90\" y=\"173.930482\"/>\r\n      </g>\r\n     </g>\r\n     <g id=\"text_15\">\r\n      <!-- 1.0 -->\r\n      <g transform=\"translate(28.620625 177.729701)scale(0.1 -0.1)\">\r\n       <use xlink:href=\"#DejaVuSans-49\"/>\r\n       <use x=\"63.623047\" xlink:href=\"#DejaVuSans-46\"/>\r\n       <use x=\"95.410156\" xlink:href=\"#DejaVuSans-48\"/>\r\n      </g>\r\n     </g>\r\n    </g>\r\n    <g id=\"ytick_7\">\r\n     <g id=\"line2d_14\">\r\n      <g>\r\n       <use style=\"stroke:#000000;stroke-width:0.8;\" x=\"51.52375\" xlink:href=\"#m860f396b90\" y=\"119.388431\"/>\r\n      </g>\r\n     </g>\r\n     <g id=\"text_16\">\r\n      <!-- 1.2 -->\r\n      <g transform=\"translate(28.620625 123.18765)scale(0.1 -0.1)\">\r\n       <use xlink:href=\"#DejaVuSans-49\"/>\r\n       <use x=\"63.623047\" xlink:href=\"#DejaVuSans-46\"/>\r\n       <use x=\"95.410156\" xlink:href=\"#DejaVuSans-50\"/>\r\n      </g>\r\n     </g>\r\n    </g>\r\n    <g id=\"ytick_8\">\r\n     <g id=\"line2d_15\">\r\n      <g>\r\n       <use style=\"stroke:#000000;stroke-width:0.8;\" x=\"51.52375\" xlink:href=\"#m860f396b90\" y=\"64.84638\"/>\r\n      </g>\r\n     </g>\r\n     <g id=\"text_17\">\r\n      <!-- 1.4 -->\r\n      <g transform=\"translate(28.620625 68.645599)scale(0.1 -0.1)\">\r\n       <use xlink:href=\"#DejaVuSans-49\"/>\r\n       <use x=\"63.623047\" xlink:href=\"#DejaVuSans-46\"/>\r\n       <use x=\"95.410156\" xlink:href=\"#DejaVuSans-52\"/>\r\n      </g>\r\n     </g>\r\n    </g>\r\n    <g id=\"text_18\">\r\n     <!-- Actual Value -->\r\n     <g transform=\"translate(20.877188 304.648125)rotate(-90)scale(0.18 -0.18)\">\r\n      <defs>\r\n       <path d=\"M 34.1875 63.1875 \r\nL 20.796875 26.90625 \r\nL 47.609375 26.90625 \r\nz\r\nM 28.609375 72.90625 \r\nL 39.796875 72.90625 \r\nL 67.578125 0 \r\nL 57.328125 0 \r\nL 50.6875 18.703125 \r\nL 17.828125 18.703125 \r\nL 11.1875 0 \r\nL 0.78125 0 \r\nz\r\n\" id=\"DejaVuSans-65\"/>\r\n      </defs>\r\n      <use xlink:href=\"#DejaVuSans-65\"/>\r\n      <use x=\"66.658203\" xlink:href=\"#DejaVuSans-99\"/>\r\n      <use x=\"121.638672\" xlink:href=\"#DejaVuSans-116\"/>\r\n      <use x=\"160.847656\" xlink:href=\"#DejaVuSans-117\"/>\r\n      <use x=\"224.226562\" xlink:href=\"#DejaVuSans-97\"/>\r\n      <use x=\"285.505859\" xlink:href=\"#DejaVuSans-108\"/>\r\n      <use x=\"313.289062\" xlink:href=\"#DejaVuSans-32\"/>\r\n      <use x=\"345.076172\" xlink:href=\"#DejaVuSans-86\"/>\r\n      <use x=\"405.734375\" xlink:href=\"#DejaVuSans-97\"/>\r\n      <use x=\"467.013672\" xlink:href=\"#DejaVuSans-108\"/>\r\n      <use x=\"494.796875\" xlink:href=\"#DejaVuSans-117\"/>\r\n      <use x=\"558.175781\" xlink:href=\"#DejaVuSans-101\"/>\r\n     </g>\r\n    </g>\r\n    <g id=\"text_19\">\r\n     <!-- 1e9 -->\r\n     <g transform=\"translate(51.52375 28.43625)scale(0.1 -0.1)\">\r\n      <use xlink:href=\"#DejaVuSans-49\"/>\r\n      <use x=\"63.623047\" xlink:href=\"#DejaVuSans-101\"/>\r\n      <use x=\"125.146484\" xlink:href=\"#DejaVuSans-57\"/>\r\n     </g>\r\n    </g>\r\n   </g>\r\n   <g id=\"patch_3\">\r\n    <path d=\"M 51.52375 466.31625 \r\nL 51.52375 31.43625 \r\n\" style=\"fill:none;stroke:#000000;stroke-linecap:square;stroke-linejoin:miter;stroke-width:0.8;\"/>\r\n   </g>\r\n   <g id=\"patch_4\">\r\n    <path d=\"M 497.92375 466.31625 \r\nL 497.92375 31.43625 \r\n\" style=\"fill:none;stroke:#000000;stroke-linecap:square;stroke-linejoin:miter;stroke-width:0.8;\"/>\r\n   </g>\r\n   <g id=\"patch_5\">\r\n    <path d=\"M 51.52375 466.31625 \r\nL 497.92375 466.31625 \r\n\" style=\"fill:none;stroke:#000000;stroke-linecap:square;stroke-linejoin:miter;stroke-width:0.8;\"/>\r\n   </g>\r\n   <g id=\"patch_6\">\r\n    <path d=\"M 51.52375 31.43625 \r\nL 497.92375 31.43625 \r\n\" style=\"fill:none;stroke:#000000;stroke-linecap:square;stroke-linejoin:miter;stroke-width:0.8;\"/>\r\n   </g>\r\n   <g id=\"text_20\">\r\n    <!-- r^2 value = 0.750 -->\r\n    <g transform=\"translate(104.108055 90.747244)scale(0.1 -0.1)\">\r\n     <defs>\r\n      <path d=\"M 46.6875 72.90625 \r\nL 73.1875 45.703125 \r\nL 63.375 45.703125 \r\nL 41.890625 64.984375 \r\nL 20.40625 45.703125 \r\nL 10.59375 45.703125 \r\nL 37.109375 72.90625 \r\nz\r\n\" id=\"DejaVuSans-94\"/>\r\n      <path d=\"M 2.984375 54.6875 \r\nL 12.5 54.6875 \r\nL 29.59375 8.796875 \r\nL 46.6875 54.6875 \r\nL 56.203125 54.6875 \r\nL 35.6875 0 \r\nL 23.484375 0 \r\nz\r\n\" id=\"DejaVuSans-118\"/>\r\n      <path d=\"M 10.59375 45.40625 \r\nL 73.1875 45.40625 \r\nL 73.1875 37.203125 \r\nL 10.59375 37.203125 \r\nz\r\nM 10.59375 25.484375 \r\nL 73.1875 25.484375 \r\nL 73.1875 17.1875 \r\nL 10.59375 17.1875 \r\nz\r\n\" id=\"DejaVuSans-61\"/>\r\n      <path d=\"M 8.203125 72.90625 \r\nL 55.078125 72.90625 \r\nL 55.078125 68.703125 \r\nL 28.609375 0 \r\nL 18.3125 0 \r\nL 43.21875 64.59375 \r\nL 8.203125 64.59375 \r\nz\r\n\" id=\"DejaVuSans-55\"/>\r\n      <path d=\"M 10.796875 72.90625 \r\nL 49.515625 72.90625 \r\nL 49.515625 64.59375 \r\nL 19.828125 64.59375 \r\nL 19.828125 46.734375 \r\nQ 21.96875 47.46875 24.109375 47.828125 \r\nQ 26.265625 48.1875 28.421875 48.1875 \r\nQ 40.625 48.1875 47.75 41.5 \r\nQ 54.890625 34.8125 54.890625 23.390625 \r\nQ 54.890625 11.625 47.5625 5.09375 \r\nQ 40.234375 -1.421875 26.90625 -1.421875 \r\nQ 22.3125 -1.421875 17.546875 -0.640625 \r\nQ 12.796875 0.140625 7.71875 1.703125 \r\nL 7.71875 11.625 \r\nQ 12.109375 9.234375 16.796875 8.0625 \r\nQ 21.484375 6.890625 26.703125 6.890625 \r\nQ 35.15625 6.890625 40.078125 11.328125 \r\nQ 45.015625 15.765625 45.015625 23.390625 \r\nQ 45.015625 31 40.078125 35.4375 \r\nQ 35.15625 39.890625 26.703125 39.890625 \r\nQ 22.75 39.890625 18.8125 39.015625 \r\nQ 14.890625 38.140625 10.796875 36.28125 \r\nz\r\n\" id=\"DejaVuSans-53\"/>\r\n     </defs>\r\n     <use xlink:href=\"#DejaVuSans-114\"/>\r\n     <use x=\"41.113281\" xlink:href=\"#DejaVuSans-94\"/>\r\n     <use x=\"124.902344\" xlink:href=\"#DejaVuSans-50\"/>\r\n     <use x=\"188.525391\" xlink:href=\"#DejaVuSans-32\"/>\r\n     <use x=\"220.3125\" xlink:href=\"#DejaVuSans-118\"/>\r\n     <use x=\"279.492188\" xlink:href=\"#DejaVuSans-97\"/>\r\n     <use x=\"340.771484\" xlink:href=\"#DejaVuSans-108\"/>\r\n     <use x=\"368.554688\" xlink:href=\"#DejaVuSans-117\"/>\r\n     <use x=\"431.933594\" xlink:href=\"#DejaVuSans-101\"/>\r\n     <use x=\"493.457031\" xlink:href=\"#DejaVuSans-32\"/>\r\n     <use x=\"525.244141\" xlink:href=\"#DejaVuSans-61\"/>\r\n     <use x=\"609.033203\" xlink:href=\"#DejaVuSans-32\"/>\r\n     <use x=\"640.820312\" xlink:href=\"#DejaVuSans-48\"/>\r\n     <use x=\"704.443359\" xlink:href=\"#DejaVuSans-46\"/>\r\n     <use x=\"736.230469\" xlink:href=\"#DejaVuSans-55\"/>\r\n     <use x=\"799.853516\" xlink:href=\"#DejaVuSans-53\"/>\r\n     <use x=\"863.476562\" xlink:href=\"#DejaVuSans-48\"/>\r\n    </g>\r\n   </g>\r\n   <g id=\"text_21\">\r\n    <!-- Actual vs Predicted -->\r\n    <g transform=\"translate(159.82 25.43625)scale(0.24 -0.24)\">\r\n     <defs>\r\n      <path d=\"M 44.28125 53.078125 \r\nL 44.28125 44.578125 \r\nQ 40.484375 46.53125 36.375 47.5 \r\nQ 32.28125 48.484375 27.875 48.484375 \r\nQ 21.1875 48.484375 17.84375 46.4375 \r\nQ 14.5 44.390625 14.5 40.28125 \r\nQ 14.5 37.15625 16.890625 35.375 \r\nQ 19.28125 33.59375 26.515625 31.984375 \r\nL 29.59375 31.296875 \r\nQ 39.15625 29.25 43.1875 25.515625 \r\nQ 47.21875 21.78125 47.21875 15.09375 \r\nQ 47.21875 7.46875 41.1875 3.015625 \r\nQ 35.15625 -1.421875 24.609375 -1.421875 \r\nQ 20.21875 -1.421875 15.453125 -0.5625 \r\nQ 10.6875 0.296875 5.421875 2 \r\nL 5.421875 11.28125 \r\nQ 10.40625 8.6875 15.234375 7.390625 \r\nQ 20.0625 6.109375 24.8125 6.109375 \r\nQ 31.15625 6.109375 34.5625 8.28125 \r\nQ 37.984375 10.453125 37.984375 14.40625 \r\nQ 37.984375 18.0625 35.515625 20.015625 \r\nQ 33.0625 21.96875 24.703125 23.78125 \r\nL 21.578125 24.515625 \r\nQ 13.234375 26.265625 9.515625 29.90625 \r\nQ 5.8125 33.546875 5.8125 39.890625 \r\nQ 5.8125 47.609375 11.28125 51.796875 \r\nQ 16.75 56 26.8125 56 \r\nQ 31.78125 56 36.171875 55.265625 \r\nQ 40.578125 54.546875 44.28125 53.078125 \r\nz\r\n\" id=\"DejaVuSans-115\"/>\r\n     </defs>\r\n     <use xlink:href=\"#DejaVuSans-65\"/>\r\n     <use x=\"66.658203\" xlink:href=\"#DejaVuSans-99\"/>\r\n     <use x=\"121.638672\" xlink:href=\"#DejaVuSans-116\"/>\r\n     <use x=\"160.847656\" xlink:href=\"#DejaVuSans-117\"/>\r\n     <use x=\"224.226562\" xlink:href=\"#DejaVuSans-97\"/>\r\n     <use x=\"285.505859\" xlink:href=\"#DejaVuSans-108\"/>\r\n     <use x=\"313.289062\" xlink:href=\"#DejaVuSans-32\"/>\r\n     <use x=\"345.076172\" xlink:href=\"#DejaVuSans-118\"/>\r\n     <use x=\"404.255859\" xlink:href=\"#DejaVuSans-115\"/>\r\n     <use x=\"456.355469\" xlink:href=\"#DejaVuSans-32\"/>\r\n     <use x=\"488.142578\" xlink:href=\"#DejaVuSans-80\"/>\r\n     <use x=\"546.695312\" xlink:href=\"#DejaVuSans-114\"/>\r\n     <use x=\"585.558594\" xlink:href=\"#DejaVuSans-101\"/>\r\n     <use x=\"647.082031\" xlink:href=\"#DejaVuSans-100\"/>\r\n     <use x=\"710.558594\" xlink:href=\"#DejaVuSans-105\"/>\r\n     <use x=\"738.341797\" xlink:href=\"#DejaVuSans-99\"/>\r\n     <use x=\"793.322266\" xlink:href=\"#DejaVuSans-116\"/>\r\n     <use x=\"832.53125\" xlink:href=\"#DejaVuSans-101\"/>\r\n     <use x=\"894.054688\" xlink:href=\"#DejaVuSans-100\"/>\r\n    </g>\r\n   </g>\r\n  </g>\r\n </g>\r\n <defs>\r\n  <clipPath id=\"p5e4bf6abc1\">\r\n   <rect height=\"434.88\" width=\"446.4\" x=\"51.52375\" y=\"31.43625\"/>\r\n  </clipPath>\r\n </defs>\r\n</svg>\r\n",
      "image/png": "[encoded data removed]"
     },
     "metadata": {
      "needs_background": "light"
     }
    }
   ],
   "source": [
    "import pandas as pd\n",
    "models = pd.read_csv(\"../model-evaluation.csv\", index_col=0).index.tolist()\n",
    "weights_file = \"../weights/automated/\" + models[0]\n",
    "layers = get_layers_from_file(weights_file)\n",
    "preds, actual, dataset, test_indices = test(weights_file, layers, data_file=\"../dbs/data_2010s.csv\", show_fig=False)\n",
    "print(preds[0], actual[0])"
   ]
  },
  {
   "cell_type": "code",
   "execution_count": 3,
   "metadata": {},
   "outputs": [],
   "source": [
    "data = pd.read_csv(\"../dbs/data_2010s.csv\")\n",
    "test_data = data.iloc[test_indices, :]\n",
    "test_data[\"predicted\"] = preds.T\n"
   ]
  },
  {
   "cell_type": "code",
   "execution_count": 4,
   "metadata": {},
   "outputs": [],
   "source": [
    "def make_predicted(series_object, t):\n",
    "    return t"
   ]
  },
  {
   "cell_type": "code",
   "execution_count": 5,
   "metadata": {},
   "outputs": [],
   "source": [
    "idx = 0\n",
    "def create_idx(series_object):\n",
    "    global idx\n",
    "    idx += 1\n",
    "    return idx\n"
   ]
  },
  {
   "cell_type": "code",
   "execution_count": 6,
   "metadata": {},
   "outputs": [
    {
     "output_type": "execute_result",
     "data": {
      "text/plain": [
       "260"
      ]
     },
     "metadata": {},
     "execution_count": 6
    }
   ],
   "source": [
    "# test_data = test_data.sort_values(\"revenue\")\n",
    "test_data[\"index\"] = test_data.apply(create_idx, axis=1)\n",
    "data2 = test_data.copy()\n",
    "data3 = test_data.copy()\n",
    "data2[\"type\"] = data2.apply(lambda x: make_predicted(x, \"Predicted\"), axis=1)\n",
    "data3[\"type\"] = data3.apply(lambda x: make_predicted(x, \"Revenue\"), axis=1)\n",
    "graph_data = data2.append(data3)\n",
    "len(graph_data)"
   ]
  },
  {
   "cell_type": "code",
   "execution_count": 7,
   "metadata": {},
   "outputs": [],
   "source": [
    "def get_graph_value(series_object):\n",
    "    if series_object[\"type\"] == \"Revenue\":\n",
    "        return series_object[\"revenue\"]\n",
    "    else:\n",
    "        return series_object[\"predicted\"]"
   ]
  },
  {
   "cell_type": "code",
   "execution_count": 9,
   "metadata": {},
   "outputs": [],
   "source": [
    "graph_data[\"graph_value\"] = graph_data.apply(get_graph_value, axis=1)"
   ]
  },
  {
   "cell_type": "code",
   "execution_count": 10,
   "metadata": {},
   "outputs": [
    {
     "output_type": "display_data",
     "data": {
      "application/vnd.plotly.v1+json": {
       "config": {
        "plotlyServerURL": "https://plot.ly"
       },
       "data": [
        {
         "hovertext": [
          "Phantom Thread",
          "Passengers",
          "Straight Outta Compton",
          "Searching",
          "The Book of Eli",
          "Abraham Lincoln: Vampire Hunter",
          "Blade Runner 2049",
          "Her",
          "Skyfall",
          "Bad Times at the El Royale",
          "The Hobbit: The Battle of the Five Armies",
          "Non-Stop",
          "Hitman: Agent 47",
          "Snowden",
          "G.I. Joe: Retaliation",
          "Pixels",
          "Battleship",
          "Despicable Me",
          "Gone Girl",
          "Neighbors",
          "The Boss Baby",
          "I Origins",
          "127 Hours",
          "Interstellar",
          "Frozen II",
          "Avengers: Age of Ultron",
          "Django Unchained",
          "Terminator: Dark Fate",
          "Remember Me",
          "Shrek Forever After",
          "Source Code",
          "Valentine's Day",
          "Joy",
          "Chef",
          "Predators",
          "RoboCop",
          "Sin City: A Dame to Kill For",
          "The Neon Demon",
          "Hansel & Gretel: Witch Hunters",
          "Cowboys & Aliens",
          "Scott Pilgrim vs. the World",
          "The 5th Wave",
          "The Nun",
          "The Wolverine",
          "Inside Out",
          "Focus",
          "Enemy",
          "The Hunger Games",
          "Sing",
          "Teenage Mutant Ninja Turtles",
          "Beauty and the Beast",
          "Sully",
          "The Hangover Part II",
          "Pirates of the Caribbean: Dead Men Tell No Tales",
          "Identity Thief",
          "Love & Other Drugs",
          "The Giver",
          "Maleficent",
          "The Family",
          "Underworld: Blood Wars",
          "The Dark Tower",
          "Lights Out",
          "Neighbors 2: Sorority Rising",
          "Lone Survivor",
          "Once Upon a Time… in Hollywood",
          "American Sniper",
          "How to Be Single",
          "X-Men: Days of Future Past",
          "Limitless",
          "Star Trek Beyond",
          "The Circle",
          "Hugo",
          "The Cabin in the Woods",
          "The Host",
          "Ghostbusters",
          "Hotel Transylvania",
          "Ghost Rider: Spirit of Vengeance",
          "Warcraft",
          "Pan",
          "The Emoji Movie",
          "How to Train Your Dragon: The Hidden World",
          "Bridge of Spies",
          "The Twilight Saga: Breaking Dawn - Part 2",
          "Begin Again",
          "Godzilla: King of the Monsters",
          "Percy Jackson & the Olympians: The Lightning Thief",
          "Clash of the Titans",
          "Truth or Dare",
          "Downsizing",
          "Into the Woods",
          "The Amazing Spider-Man",
          "Frankenweenie",
          "Spy",
          "Dracula Untold",
          "The Monuments Men",
          "The Great Wall",
          "Pet Sematary",
          "The Edge of Seventeen",
          "War for the Planet of the Apes",
          "Captain Marvel",
          "Oblivion",
          "The Raid",
          "Tangled",
          "Black Swan",
          "It Follows",
          "Machete",
          "Mission: Impossible - Fallout",
          "Paul",
          "Pitch Perfect",
          "Finding Dory",
          "Iron Man 3",
          "Bad Teacher",
          "Legend",
          "Zombieland: Double Tap",
          "Flight",
          "Mortal Engines",
          "Salt",
          "Zero Dark Thirty",
          "How to Train Your Dragon 2",
          "The Karate Kid",
          "Kick-Ass",
          "Due Date",
          "Gangster Squad",
          "Ant-Man",
          "Rogue One: A Star Wars Story",
          "Fifty Shades Freed",
          "Life",
          "The Wolf of Wall Street",
          "Jojo Rabbit",
          "The Other Woman"
         ],
         "legendgroup": "Predicted",
         "marker": {
          "color": "#636efa",
          "line": {
           "color": "DarkSlateGrey",
           "width": 2
          },
          "size": 12,
          "symbol": "circle"
         },
         "mode": "markers",
         "name": "Predicted",
         "orientation": "v",
         "showlegend": true,
         "type": "scatter",
         "x": [
          1,
          2,
          3,
          4,
          5,
          6,
          7,
          8,
          9,
          10,
          11,
          12,
          13,
          14,
          15,
          16,
          17,
          18,
          19,
          20,
          21,
          22,
          23,
          24,
          25,
          26,
          27,
          28,
          29,
          30,
          31,
          32,
          33,
          34,
          35,
          36,
          37,
          38,
          39,
          40,
          41,
          42,
          43,
          44,
          45,
          46,
          47,
          48,
          49,
          50,
          51,
          52,
          53,
          54,
          55,
          56,
          57,
          58,
          59,
          60,
          61,
          62,
          63,
          64,
          65,
          66,
          67,
          68,
          69,
          70,
          71,
          72,
          73,
          74,
          75,
          76,
          77,
          78,
          79,
          80,
          81,
          82,
          83,
          84,
          85,
          86,
          87,
          88,
          89,
          90,
          91,
          92,
          93,
          94,
          95,
          96,
          97,
          98,
          99,
          100,
          101,
          102,
          103,
          104,
          105,
          106,
          107,
          108,
          109,
          110,
          111,
          112,
          113,
          114,
          115,
          116,
          117,
          118,
          119,
          120,
          121,
          122,
          123,
          124,
          125,
          126,
          127,
          128,
          129,
          130
         ],
         "xaxis": "x",
         "y": [
          35950184,
          515124608,
          4106985.75,
          -13084118,
          111333576,
          102112072,
          691451328,
          62803448,
          814256576,
          44959496,
          790817920,
          65836616,
          84902120,
          70624488,
          230064176,
          254934512,
          314896832,
          656286976,
          265568000,
          159558192,
          735317184,
          -70453336,
          121615000,
          1151420416,
          1211408256,
          1193595264,
          142831520,
          217835120,
          45863240,
          512659456,
          2704681.75,
          193196080,
          69256952,
          11813738,
          50086984,
          176143232,
          79646184,
          -8908214,
          191196624,
          53362392,
          333328320,
          64535256,
          179224064,
          144285488,
          1038817088,
          136575056,
          15378506,
          343014752,
          606718592,
          272674784,
          978401536,
          83093352,
          377162144,
          672784960,
          8937162,
          51169832,
          24152202,
          825433536,
          10767882,
          116296104,
          42360104,
          49020808,
          152064800,
          14710186,
          445493152,
          187512592,
          145689728,
          675642816,
          65553336,
          259840528,
          3284393.75,
          170319984,
          106834232,
          133477032,
          554450112,
          508254368,
          37503112,
          219323808,
          196189376,
          403480128,
          467980960,
          106074552,
          736253632,
          24469098,
          373132320,
          181001056,
          171383344,
          75886536,
          71342984,
          136595552,
          659838080,
          199379232,
          121877336,
          65627752,
          74912440,
          313424800,
          79304936,
          -2478006.25,
          304339904,
          951113408,
          388630208,
          -104733304,
          674586752,
          89748504,
          100554184,
          21182794,
          806862592,
          93558872,
          220850688,
          860129664,
          834829952,
          115214328,
          -75791192,
          114233736,
          55909736,
          171293520,
          178542528,
          14368906,
          380863584,
          170513696,
          291807968,
          265472432,
          47312072,
          482838240,
          892647104,
          223983136,
          105200424,
          503107072,
          90696312,
          147911808
         ],
         "yaxis": "y"
        },
        {
         "hovertext": [
          "Phantom Thread",
          "Passengers",
          "Straight Outta Compton",
          "Searching",
          "The Book of Eli",
          "Abraham Lincoln: Vampire Hunter",
          "Blade Runner 2049",
          "Her",
          "Skyfall",
          "Bad Times at the El Royale",
          "The Hobbit: The Battle of the Five Armies",
          "Non-Stop",
          "Hitman: Agent 47",
          "Snowden",
          "G.I. Joe: Retaliation",
          "Pixels",
          "Battleship",
          "Despicable Me",
          "Gone Girl",
          "Neighbors",
          "The Boss Baby",
          "I Origins",
          "127 Hours",
          "Interstellar",
          "Frozen II",
          "Avengers: Age of Ultron",
          "Django Unchained",
          "Terminator: Dark Fate",
          "Remember Me",
          "Shrek Forever After",
          "Source Code",
          "Valentine's Day",
          "Joy",
          "Chef",
          "Predators",
          "RoboCop",
          "Sin City: A Dame to Kill For",
          "The Neon Demon",
          "Hansel & Gretel: Witch Hunters",
          "Cowboys & Aliens",
          "Scott Pilgrim vs. the World",
          "The 5th Wave",
          "The Nun",
          "The Wolverine",
          "Inside Out",
          "Focus",
          "Enemy",
          "The Hunger Games",
          "Sing",
          "Teenage Mutant Ninja Turtles",
          "Beauty and the Beast",
          "Sully",
          "The Hangover Part II",
          "Pirates of the Caribbean: Dead Men Tell No Tales",
          "Identity Thief",
          "Love & Other Drugs",
          "The Giver",
          "Maleficent",
          "The Family",
          "Underworld: Blood Wars",
          "The Dark Tower",
          "Lights Out",
          "Neighbors 2: Sorority Rising",
          "Lone Survivor",
          "Once Upon a Time… in Hollywood",
          "American Sniper",
          "How to Be Single",
          "X-Men: Days of Future Past",
          "Limitless",
          "Star Trek Beyond",
          "The Circle",
          "Hugo",
          "The Cabin in the Woods",
          "The Host",
          "Ghostbusters",
          "Hotel Transylvania",
          "Ghost Rider: Spirit of Vengeance",
          "Warcraft",
          "Pan",
          "The Emoji Movie",
          "How to Train Your Dragon: The Hidden World",
          "Bridge of Spies",
          "The Twilight Saga: Breaking Dawn - Part 2",
          "Begin Again",
          "Godzilla: King of the Monsters",
          "Percy Jackson & the Olympians: The Lightning Thief",
          "Clash of the Titans",
          "Truth or Dare",
          "Downsizing",
          "Into the Woods",
          "The Amazing Spider-Man",
          "Frankenweenie",
          "Spy",
          "Dracula Untold",
          "The Monuments Men",
          "The Great Wall",
          "Pet Sematary",
          "The Edge of Seventeen",
          "War for the Planet of the Apes",
          "Captain Marvel",
          "Oblivion",
          "The Raid",
          "Tangled",
          "Black Swan",
          "It Follows",
          "Machete",
          "Mission: Impossible - Fallout",
          "Paul",
          "Pitch Perfect",
          "Finding Dory",
          "Iron Man 3",
          "Bad Teacher",
          "Legend",
          "Zombieland: Double Tap",
          "Flight",
          "Mortal Engines",
          "Salt",
          "Zero Dark Thirty",
          "How to Train Your Dragon 2",
          "The Karate Kid",
          "Kick-Ass",
          "Due Date",
          "Gangster Squad",
          "Ant-Man",
          "Rogue One: A Star Wars Story",
          "Fifty Shades Freed",
          "Life",
          "The Wolf of Wall Street",
          "Jojo Rabbit",
          "The Other Woman"
         ],
         "legendgroup": "Revenue",
         "marker": {
          "color": "#EF553B",
          "line": {
           "color": "DarkSlateGrey",
           "width": 2
          },
          "size": 12,
          "symbol": "circle"
         },
         "mode": "markers",
         "name": "Revenue",
         "orientation": "v",
         "showlegend": true,
         "type": "scatter",
         "x": [
          1,
          2,
          3,
          4,
          5,
          6,
          7,
          8,
          9,
          10,
          11,
          12,
          13,
          14,
          15,
          16,
          17,
          18,
          19,
          20,
          21,
          22,
          23,
          24,
          25,
          26,
          27,
          28,
          29,
          30,
          31,
          32,
          33,
          34,
          35,
          36,
          37,
          38,
          39,
          40,
          41,
          42,
          43,
          44,
          45,
          46,
          47,
          48,
          49,
          50,
          51,
          52,
          53,
          54,
          55,
          56,
          57,
          58,
          59,
          60,
          61,
          62,
          63,
          64,
          65,
          66,
          67,
          68,
          69,
          70,
          71,
          72,
          73,
          74,
          75,
          76,
          77,
          78,
          79,
          80,
          81,
          82,
          83,
          84,
          85,
          86,
          87,
          88,
          89,
          90,
          91,
          92,
          93,
          94,
          95,
          96,
          97,
          98,
          99,
          100,
          101,
          102,
          103,
          104,
          105,
          106,
          107,
          108,
          109,
          110,
          111,
          112,
          113,
          114,
          115,
          116,
          117,
          118,
          119,
          120,
          121,
          122,
          123,
          124,
          125,
          126,
          127,
          128,
          129,
          130
         ],
         "xaxis": "x",
         "y": [
          47756590,
          303144152,
          201634991,
          66265218,
          157107755,
          116471580,
          259239658,
          47351251,
          1108561013,
          31882724,
          956019788,
          222809600,
          81967450,
          37357216,
          371876278,
          243637091,
          303025485,
          543513985,
          369330363,
          270665134,
          498814908,
          336472,
          35692920,
          675120017,
          1450026933,
          1405403694,
          425368238,
          261119292,
          56032889,
          752600867,
          147332697,
          216485654,
          101134059,
          45967935,
          127233108,
          242688965,
          39407616,
          3377430,
          226349749,
          174822325,
          47664559,
          109906372,
          365550119,
          415440673,
          857611174,
          153962963,
          3396726,
          691210692,
          634151679,
          477200000,
          1263521126,
          240797623,
          254455986,
          794861794,
          173965010,
          102820008,
          66980456,
          758539785,
          36894225,
          81093313,
          113231078,
          148868835,
          108758521,
          149295601,
          374251247,
          542307423,
          112343513,
          747862775,
          161849455,
          343471816,
          20497844,
          185770160,
          71041255,
          63327201,
          229147509,
          358375603,
          132563930,
          433677183,
          128388320,
          216909830,
          517526875,
          165478348,
          829000000,
          63464861,
          386600138,
          226497209,
          493214993,
          95330493,
          55003890,
          212902372,
          757930663,
          35287788,
          235666219,
          217124280,
          154984035,
          331957105,
          112399944,
          18803648,
          488533726,
          1128276090,
          286168572,
          4105187,
          592461732,
          329398046,
          14674076,
          44093316,
          791017452,
          97552050,
          115400000,
          1028570889,
          1214811252,
          216197492,
          42972994,
          122801777,
          161772375,
          83672673,
          293329073,
          132820716,
          609123048,
          357852395,
          96188903,
          211780824,
          105200903,
          519311965,
          1056057273,
          368307760,
          100541806,
          392000694,
          82468705,
          196781193
         ],
         "yaxis": "y"
        }
       ],
       "layout": {
        "height": 700,
        "hovermode": "x",
        "legend": {
         "title": {
          "text": "type"
         },
         "tracegroupgap": 0
        },
        "template": {
         "data": {
          "bar": [
           {
            "error_x": {
             "color": "#2a3f5f"
            },
            "error_y": {
             "color": "#2a3f5f"
            },
            "marker": {
             "line": {
              "color": "#E5ECF6",
              "width": 0.5
             }
            },
            "type": "bar"
           }
          ],
          "barpolar": [
           {
            "marker": {
             "line": {
              "color": "#E5ECF6",
              "width": 0.5
             }
            },
            "type": "barpolar"
           }
          ],
          "carpet": [
           {
            "aaxis": {
             "endlinecolor": "#2a3f5f",
             "gridcolor": "white",
             "linecolor": "white",
             "minorgridcolor": "white",
             "startlinecolor": "#2a3f5f"
            },
            "baxis": {
             "endlinecolor": "#2a3f5f",
             "gridcolor": "white",
             "linecolor": "white",
             "minorgridcolor": "white",
             "startlinecolor": "#2a3f5f"
            },
            "type": "carpet"
           }
          ],
          "choropleth": [
           {
            "colorbar": {
             "outlinewidth": 0,
             "ticks": ""
            },
            "type": "choropleth"
           }
          ],
          "contour": [
           {
            "colorbar": {
             "outlinewidth": 0,
             "ticks": ""
            },
            "colorscale": [
             [
              0,
              "#0d0887"
             ],
             [
              0.1111111111111111,
              "#46039f"
             ],
             [
              0.2222222222222222,
              "#7201a8"
             ],
             [
              0.3333333333333333,
              "#9c179e"
             ],
             [
              0.4444444444444444,
              "#bd3786"
             ],
             [
              0.5555555555555556,
              "#d8576b"
             ],
             [
              0.6666666666666666,
              "#ed7953"
             ],
             [
              0.7777777777777778,
              "#fb9f3a"
             ],
             [
              0.8888888888888888,
              "#fdca26"
             ],
             [
              1,
              "#f0f921"
             ]
            ],
            "type": "contour"
           }
          ],
          "contourcarpet": [
           {
            "colorbar": {
             "outlinewidth": 0,
             "ticks": ""
            },
            "type": "contourcarpet"
           }
          ],
          "heatmap": [
           {
            "colorbar": {
             "outlinewidth": 0,
             "ticks": ""
            },
            "colorscale": [
             [
              0,
              "#0d0887"
             ],
             [
              0.1111111111111111,
              "#46039f"
             ],
             [
              0.2222222222222222,
              "#7201a8"
             ],
             [
              0.3333333333333333,
              "#9c179e"
             ],
             [
              0.4444444444444444,
              "#bd3786"
             ],
             [
              0.5555555555555556,
              "#d8576b"
             ],
             [
              0.6666666666666666,
              "#ed7953"
             ],
             [
              0.7777777777777778,
              "#fb9f3a"
             ],
             [
              0.8888888888888888,
              "#fdca26"
             ],
             [
              1,
              "#f0f921"
             ]
            ],
            "type": "heatmap"
           }
          ],
          "heatmapgl": [
           {
            "colorbar": {
             "outlinewidth": 0,
             "ticks": ""
            },
            "colorscale": [
             [
              0,
              "#0d0887"
             ],
             [
              0.1111111111111111,
              "#46039f"
             ],
             [
              0.2222222222222222,
              "#7201a8"
             ],
             [
              0.3333333333333333,
              "#9c179e"
             ],
             [
              0.4444444444444444,
              "#bd3786"
             ],
             [
              0.5555555555555556,
              "#d8576b"
             ],
             [
              0.6666666666666666,
              "#ed7953"
             ],
             [
              0.7777777777777778,
              "#fb9f3a"
             ],
             [
              0.8888888888888888,
              "#fdca26"
             ],
             [
              1,
              "#f0f921"
             ]
            ],
            "type": "heatmapgl"
           }
          ],
          "histogram": [
           {
            "marker": {
             "colorbar": {
              "outlinewidth": 0,
              "ticks": ""
             }
            },
            "type": "histogram"
           }
          ],
          "histogram2d": [
           {
            "colorbar": {
             "outlinewidth": 0,
             "ticks": ""
            },
            "colorscale": [
             [
              0,
              "#0d0887"
             ],
             [
              0.1111111111111111,
              "#46039f"
             ],
             [
              0.2222222222222222,
              "#7201a8"
             ],
             [
              0.3333333333333333,
              "#9c179e"
             ],
             [
              0.4444444444444444,
              "#bd3786"
             ],
             [
              0.5555555555555556,
              "#d8576b"
             ],
             [
              0.6666666666666666,
              "#ed7953"
             ],
             [
              0.7777777777777778,
              "#fb9f3a"
             ],
             [
              0.8888888888888888,
              "#fdca26"
             ],
             [
              1,
              "#f0f921"
             ]
            ],
            "type": "histogram2d"
           }
          ],
          "histogram2dcontour": [
           {
            "colorbar": {
             "outlinewidth": 0,
             "ticks": ""
            },
            "colorscale": [
             [
              0,
              "#0d0887"
             ],
             [
              0.1111111111111111,
              "#46039f"
             ],
             [
              0.2222222222222222,
              "#7201a8"
             ],
             [
              0.3333333333333333,
              "#9c179e"
             ],
             [
              0.4444444444444444,
              "#bd3786"
             ],
             [
              0.5555555555555556,
              "#d8576b"
             ],
             [
              0.6666666666666666,
              "#ed7953"
             ],
             [
              0.7777777777777778,
              "#fb9f3a"
             ],
             [
              0.8888888888888888,
              "#fdca26"
             ],
             [
              1,
              "#f0f921"
             ]
            ],
            "type": "histogram2dcontour"
           }
          ],
          "mesh3d": [
           {
            "colorbar": {
             "outlinewidth": 0,
             "ticks": ""
            },
            "type": "mesh3d"
           }
          ],
          "parcoords": [
           {
            "line": {
             "colorbar": {
              "outlinewidth": 0,
              "ticks": ""
             }
            },
            "type": "parcoords"
           }
          ],
          "pie": [
           {
            "automargin": true,
            "type": "pie"
           }
          ],
          "scatter": [
           {
            "marker": {
             "colorbar": {
              "outlinewidth": 0,
              "ticks": ""
             }
            },
            "type": "scatter"
           }
          ],
          "scatter3d": [
           {
            "line": {
             "colorbar": {
              "outlinewidth": 0,
              "ticks": ""
             }
            },
            "marker": {
             "colorbar": {
              "outlinewidth": 0,
              "ticks": ""
             }
            },
            "type": "scatter3d"
           }
          ],
          "scattercarpet": [
           {
            "marker": {
             "colorbar": {
              "outlinewidth": 0,
              "ticks": ""
             }
            },
            "type": "scattercarpet"
           }
          ],
          "scattergeo": [
           {
            "marker": {
             "colorbar": {
              "outlinewidth": 0,
              "ticks": ""
             }
            },
            "type": "scattergeo"
           }
          ],
          "scattergl": [
           {
            "marker": {
             "colorbar": {
              "outlinewidth": 0,
              "ticks": ""
             }
            },
            "type": "scattergl"
           }
          ],
          "scattermapbox": [
           {
            "marker": {
             "colorbar": {
              "outlinewidth": 0,
              "ticks": ""
             }
            },
            "type": "scattermapbox"
           }
          ],
          "scatterpolar": [
           {
            "marker": {
             "colorbar": {
              "outlinewidth": 0,
              "ticks": ""
             }
            },
            "type": "scatterpolar"
           }
          ],
          "scatterpolargl": [
           {
            "marker": {
             "colorbar": {
              "outlinewidth": 0,
              "ticks": ""
             }
            },
            "type": "scatterpolargl"
           }
          ],
          "scatterternary": [
           {
            "marker": {
             "colorbar": {
              "outlinewidth": 0,
              "ticks": ""
             }
            },
            "type": "scatterternary"
           }
          ],
          "surface": [
           {
            "colorbar": {
             "outlinewidth": 0,
             "ticks": ""
            },
            "colorscale": [
             [
              0,
              "#0d0887"
             ],
             [
              0.1111111111111111,
              "#46039f"
             ],
             [
              0.2222222222222222,
              "#7201a8"
             ],
             [
              0.3333333333333333,
              "#9c179e"
             ],
             [
              0.4444444444444444,
              "#bd3786"
             ],
             [
              0.5555555555555556,
              "#d8576b"
             ],
             [
              0.6666666666666666,
              "#ed7953"
             ],
             [
              0.7777777777777778,
              "#fb9f3a"
             ],
             [
              0.8888888888888888,
              "#fdca26"
             ],
             [
              1,
              "#f0f921"
             ]
            ],
            "type": "surface"
           }
          ],
          "table": [
           {
            "cells": {
             "fill": {
              "color": "#EBF0F8"
             },
             "line": {
              "color": "white"
             }
            },
            "header": {
             "fill": {
              "color": "#C8D4E3"
             },
             "line": {
              "color": "white"
             }
            },
            "type": "table"
           }
          ]
         },
         "layout": {
          "annotationdefaults": {
           "arrowcolor": "#2a3f5f",
           "arrowhead": 0,
           "arrowwidth": 1
          },
          "coloraxis": {
           "colorbar": {
            "outlinewidth": 0,
            "ticks": ""
           }
          },
          "colorscale": {
           "diverging": [
            [
             0,
             "#8e0152"
            ],
            [
             0.1,
             "#c51b7d"
            ],
            [
             0.2,
             "#de77ae"
            ],
            [
             0.3,
             "#f1b6da"
            ],
            [
             0.4,
             "#fde0ef"
            ],
            [
             0.5,
             "#f7f7f7"
            ],
            [
             0.6,
             "#e6f5d0"
            ],
            [
             0.7,
             "#b8e186"
            ],
            [
             0.8,
             "#7fbc41"
            ],
            [
             0.9,
             "#4d9221"
            ],
            [
             1,
             "#276419"
            ]
           ],
           "sequential": [
            [
             0,
             "#0d0887"
            ],
            [
             0.1111111111111111,
             "#46039f"
            ],
            [
             0.2222222222222222,
             "#7201a8"
            ],
            [
             0.3333333333333333,
             "#9c179e"
            ],
            [
             0.4444444444444444,
             "#bd3786"
            ],
            [
             0.5555555555555556,
             "#d8576b"
            ],
            [
             0.6666666666666666,
             "#ed7953"
            ],
            [
             0.7777777777777778,
             "#fb9f3a"
            ],
            [
             0.8888888888888888,
             "#fdca26"
            ],
            [
             1,
             "#f0f921"
            ]
           ],
           "sequentialminus": [
            [
             0,
             "#0d0887"
            ],
            [
             0.1111111111111111,
             "#46039f"
            ],
            [
             0.2222222222222222,
             "#7201a8"
            ],
            [
             0.3333333333333333,
             "#9c179e"
            ],
            [
             0.4444444444444444,
             "#bd3786"
            ],
            [
             0.5555555555555556,
             "#d8576b"
            ],
            [
             0.6666666666666666,
             "#ed7953"
            ],
            [
             0.7777777777777778,
             "#fb9f3a"
            ],
            [
             0.8888888888888888,
             "#fdca26"
            ],
            [
             1,
             "#f0f921"
            ]
           ]
          },
          "colorway": [
           "#636efa",
           "#EF553B",
           "#00cc96",
           "#ab63fa",
           "#FFA15A",
           "#19d3f3",
           "#FF6692",
           "#B6E880",
           "#FF97FF",
           "#FECB52"
          ],
          "font": {
           "color": "#2a3f5f"
          },
          "geo": {
           "bgcolor": "white",
           "lakecolor": "white",
           "landcolor": "#E5ECF6",
           "showlakes": true,
           "showland": true,
           "subunitcolor": "white"
          },
          "hoverlabel": {
           "align": "left"
          },
          "hovermode": "closest",
          "mapbox": {
           "style": "light"
          },
          "paper_bgcolor": "white",
          "plot_bgcolor": "#E5ECF6",
          "polar": {
           "angularaxis": {
            "gridcolor": "white",
            "linecolor": "white",
            "ticks": ""
           },
           "bgcolor": "#E5ECF6",
           "radialaxis": {
            "gridcolor": "white",
            "linecolor": "white",
            "ticks": ""
           }
          },
          "scene": {
           "xaxis": {
            "backgroundcolor": "#E5ECF6",
            "gridcolor": "white",
            "gridwidth": 2,
            "linecolor": "white",
            "showbackground": true,
            "ticks": "",
            "zerolinecolor": "white"
           },
           "yaxis": {
            "backgroundcolor": "#E5ECF6",
            "gridcolor": "white",
            "gridwidth": 2,
            "linecolor": "white",
            "showbackground": true,
            "ticks": "",
            "zerolinecolor": "white"
           },
           "zaxis": {
            "backgroundcolor": "#E5ECF6",
            "gridcolor": "white",
            "gridwidth": 2,
            "linecolor": "white",
            "showbackground": true,
            "ticks": "",
            "zerolinecolor": "white"
           }
          },
          "shapedefaults": {
           "line": {
            "color": "#2a3f5f"
           }
          },
          "ternary": {
           "aaxis": {
            "gridcolor": "white",
            "linecolor": "white",
            "ticks": ""
           },
           "baxis": {
            "gridcolor": "white",
            "linecolor": "white",
            "ticks": ""
           },
           "bgcolor": "#E5ECF6",
           "caxis": {
            "gridcolor": "white",
            "linecolor": "white",
            "ticks": ""
           }
          },
          "title": {
           "x": 0.05
          },
          "xaxis": {
           "automargin": true,
           "gridcolor": "white",
           "linecolor": "white",
           "ticks": "",
           "title": {
            "standoff": 15
           },
           "zerolinecolor": "white",
           "zerolinewidth": 2
          },
          "yaxis": {
           "automargin": true,
           "gridcolor": "white",
           "linecolor": "white",
           "ticks": "",
           "title": {
            "standoff": 15
           },
           "zerolinecolor": "white",
           "zerolinewidth": 2
          }
         }
        },
        "title": {
         "text": "Actual Revenue and Predicted Revenue"
        },
        "width": 1000,
        "xaxis": {
         "anchor": "y",
         "domain": [
          0,
          1
         ],
         "title": {
          "text": "index"
         }
        },
        "yaxis": {
         "anchor": "x",
         "domain": [
          0,
          1
         ],
         "title": {
          "text": "graph_value"
         }
        }
       }
      }
     },
     "metadata": {}
    }
   ],
   "source": [
    "import plotly.express as px\n",
    "fig2 = px.scatter(graph_data,\n",
    "                    x=\"index\",\n",
    "                    y=\"graph_value\",\n",
    "                    color=\"type\",\n",
    "                    hover_name=\"title\", \n",
    "                    title=\"Actual Revenue and Predicted Revenue\",\n",
    "                    width=1000,\n",
    "                    height=700)\n",
    "# fig2.update_traces(mode=\"markers\", hovertemplate=None)\n",
    "fig2.update_traces(marker=dict(size=12,\n",
    "                              line=dict(width=2,\n",
    "                                        color='DarkSlateGrey')), \n",
    "                                        hovertemplate=None)\n",
    "fig2.update_layout(hovermode=\"x\")\n",
    "fig2.show()"
   ]
  },
  {
   "cell_type": "code",
   "execution_count": 12,
   "metadata": {},
   "outputs": [
    {
     "output_type": "display_data",
     "data": {
      "application/vnd.plotly.v1+json": {
       "config": {
        "plotlyServerURL": "https://plot.ly"
       },
       "data": [
        {
         "customdata": [
          [
           35950184,
           47756590
          ],
          [
           515124608,
           303144152
          ],
          [
           4106985.75,
           201634991
          ],
          [
           -13084118,
           66265218
          ],
          [
           111333576,
           157107755
          ],
          [
           102112072,
           116471580
          ],
          [
           691451328,
           259239658
          ],
          [
           62803448,
           47351251
          ],
          [
           814256576,
           1108561013
          ],
          [
           44959496,
           31882724
          ],
          [
           790817920,
           956019788
          ],
          [
           65836616,
           222809600
          ],
          [
           84902120,
           81967450
          ],
          [
           70624488,
           37357216
          ],
          [
           230064176,
           371876278
          ],
          [
           254934512,
           243637091
          ],
          [
           314896832,
           303025485
          ],
          [
           656286976,
           543513985
          ],
          [
           265568000,
           369330363
          ],
          [
           159558192,
           270665134
          ],
          [
           735317184,
           498814908
          ],
          [
           -70453336,
           336472
          ],
          [
           121615000,
           35692920
          ],
          [
           1151420416,
           675120017
          ],
          [
           1211408256,
           1450026933
          ],
          [
           1193595264,
           1405403694
          ],
          [
           142831520,
           425368238
          ],
          [
           217835120,
           261119292
          ],
          [
           45863240,
           56032889
          ],
          [
           512659456,
           752600867
          ],
          [
           2704681.75,
           147332697
          ],
          [
           193196080,
           216485654
          ],
          [
           69256952,
           101134059
          ],
          [
           11813738,
           45967935
          ],
          [
           50086984,
           127233108
          ],
          [
           176143232,
           242688965
          ],
          [
           79646184,
           39407616
          ],
          [
           -8908214,
           3377430
          ],
          [
           191196624,
           226349749
          ],
          [
           53362392,
           174822325
          ],
          [
           333328320,
           47664559
          ],
          [
           64535256,
           109906372
          ],
          [
           179224064,
           365550119
          ],
          [
           144285488,
           415440673
          ],
          [
           1038817088,
           857611174
          ],
          [
           136575056,
           153962963
          ],
          [
           15378506,
           3396726
          ],
          [
           343014752,
           691210692
          ],
          [
           606718592,
           634151679
          ],
          [
           272674784,
           477200000
          ],
          [
           978401536,
           1263521126
          ],
          [
           83093352,
           240797623
          ],
          [
           377162144,
           254455986
          ],
          [
           672784960,
           794861794
          ],
          [
           8937162,
           173965010
          ],
          [
           51169832,
           102820008
          ],
          [
           24152202,
           66980456
          ],
          [
           825433536,
           758539785
          ],
          [
           10767882,
           36894225
          ],
          [
           116296104,
           81093313
          ],
          [
           42360104,
           113231078
          ],
          [
           49020808,
           148868835
          ],
          [
           152064800,
           108758521
          ],
          [
           14710186,
           149295601
          ],
          [
           445493152,
           374251247
          ],
          [
           187512592,
           542307423
          ],
          [
           145689728,
           112343513
          ],
          [
           675642816,
           747862775
          ],
          [
           65553336,
           161849455
          ],
          [
           259840528,
           343471816
          ],
          [
           3284393.75,
           20497844
          ],
          [
           170319984,
           185770160
          ],
          [
           106834232,
           71041255
          ],
          [
           133477032,
           63327201
          ],
          [
           554450112,
           229147509
          ],
          [
           508254368,
           358375603
          ],
          [
           37503112,
           132563930
          ],
          [
           219323808,
           433677183
          ],
          [
           196189376,
           128388320
          ],
          [
           403480128,
           216909830
          ],
          [
           467980960,
           517526875
          ],
          [
           106074552,
           165478348
          ],
          [
           736253632,
           829000000
          ],
          [
           24469098,
           63464861
          ],
          [
           373132320,
           386600138
          ],
          [
           181001056,
           226497209
          ],
          [
           171383344,
           493214993
          ],
          [
           75886536,
           95330493
          ],
          [
           71342984,
           55003890
          ],
          [
           136595552,
           212902372
          ],
          [
           659838080,
           757930663
          ],
          [
           199379232,
           35287788
          ],
          [
           121877336,
           235666219
          ],
          [
           65627752,
           217124280
          ],
          [
           74912440,
           154984035
          ],
          [
           313424800,
           331957105
          ],
          [
           79304936,
           112399944
          ],
          [
           -2478006.25,
           18803648
          ],
          [
           304339904,
           488533726
          ],
          [
           951113408,
           1128276090
          ],
          [
           388630208,
           286168572
          ],
          [
           -104733304,
           4105187
          ],
          [
           674586752,
           592461732
          ],
          [
           89748504,
           329398046
          ],
          [
           100554184,
           14674076
          ],
          [
           21182794,
           44093316
          ],
          [
           806862592,
           791017452
          ],
          [
           93558872,
           97552050
          ],
          [
           220850688,
           115400000
          ],
          [
           860129664,
           1028570889
          ],
          [
           834829952,
           1214811252
          ],
          [
           115214328,
           216197492
          ],
          [
           -75791192,
           42972994
          ],
          [
           114233736,
           122801777
          ],
          [
           55909736,
           161772375
          ],
          [
           171293520,
           83672673
          ],
          [
           178542528,
           293329073
          ],
          [
           14368906,
           132820716
          ],
          [
           380863584,
           609123048
          ],
          [
           170513696,
           357852395
          ],
          [
           291807968,
           96188903
          ],
          [
           265472432,
           211780824
          ],
          [
           47312072,
           105200903
          ],
          [
           482838240,
           519311965
          ],
          [
           892647104,
           1056057273
          ],
          [
           223983136,
           368307760
          ],
          [
           105200424,
           100541806
          ],
          [
           503107072,
           392000694
          ],
          [
           90696312,
           82468705
          ],
          [
           147911808,
           196781193
          ],
          [
           35950184,
           47756590
          ],
          [
           515124608,
           303144152
          ],
          [
           4106985.75,
           201634991
          ],
          [
           -13084118,
           66265218
          ],
          [
           111333576,
           157107755
          ],
          [
           102112072,
           116471580
          ],
          [
           691451328,
           259239658
          ],
          [
           62803448,
           47351251
          ],
          [
           814256576,
           1108561013
          ],
          [
           44959496,
           31882724
          ],
          [
           790817920,
           956019788
          ],
          [
           65836616,
           222809600
          ],
          [
           84902120,
           81967450
          ],
          [
           70624488,
           37357216
          ],
          [
           230064176,
           371876278
          ],
          [
           254934512,
           243637091
          ],
          [
           314896832,
           303025485
          ],
          [
           656286976,
           543513985
          ],
          [
           265568000,
           369330363
          ],
          [
           159558192,
           270665134
          ],
          [
           735317184,
           498814908
          ],
          [
           -70453336,
           336472
          ],
          [
           121615000,
           35692920
          ],
          [
           1151420416,
           675120017
          ],
          [
           1211408256,
           1450026933
          ],
          [
           1193595264,
           1405403694
          ],
          [
           142831520,
           425368238
          ],
          [
           217835120,
           261119292
          ],
          [
           45863240,
           56032889
          ],
          [
           512659456,
           752600867
          ],
          [
           2704681.75,
           147332697
          ],
          [
           193196080,
           216485654
          ],
          [
           69256952,
           101134059
          ],
          [
           11813738,
           45967935
          ],
          [
           50086984,
           127233108
          ],
          [
           176143232,
           242688965
          ],
          [
           79646184,
           39407616
          ],
          [
           -8908214,
           3377430
          ],
          [
           191196624,
           226349749
          ],
          [
           53362392,
           174822325
          ],
          [
           333328320,
           47664559
          ],
          [
           64535256,
           109906372
          ],
          [
           179224064,
           365550119
          ],
          [
           144285488,
           415440673
          ],
          [
           1038817088,
           857611174
          ],
          [
           136575056,
           153962963
          ],
          [
           15378506,
           3396726
          ],
          [
           343014752,
           691210692
          ],
          [
           606718592,
           634151679
          ],
          [
           272674784,
           477200000
          ],
          [
           978401536,
           1263521126
          ],
          [
           83093352,
           240797623
          ],
          [
           377162144,
           254455986
          ],
          [
           672784960,
           794861794
          ],
          [
           8937162,
           173965010
          ],
          [
           51169832,
           102820008
          ],
          [
           24152202,
           66980456
          ],
          [
           825433536,
           758539785
          ],
          [
           10767882,
           36894225
          ],
          [
           116296104,
           81093313
          ],
          [
           42360104,
           113231078
          ],
          [
           49020808,
           148868835
          ],
          [
           152064800,
           108758521
          ],
          [
           14710186,
           149295601
          ],
          [
           445493152,
           374251247
          ],
          [
           187512592,
           542307423
          ],
          [
           145689728,
           112343513
          ],
          [
           675642816,
           747862775
          ],
          [
           65553336,
           161849455
          ],
          [
           259840528,
           343471816
          ],
          [
           3284393.75,
           20497844
          ],
          [
           170319984,
           185770160
          ],
          [
           106834232,
           71041255
          ],
          [
           133477032,
           63327201
          ],
          [
           554450112,
           229147509
          ],
          [
           508254368,
           358375603
          ],
          [
           37503112,
           132563930
          ],
          [
           219323808,
           433677183
          ],
          [
           196189376,
           128388320
          ],
          [
           403480128,
           216909830
          ],
          [
           467980960,
           517526875
          ],
          [
           106074552,
           165478348
          ],
          [
           736253632,
           829000000
          ],
          [
           24469098,
           63464861
          ],
          [
           373132320,
           386600138
          ],
          [
           181001056,
           226497209
          ],
          [
           171383344,
           493214993
          ],
          [
           75886536,
           95330493
          ],
          [
           71342984,
           55003890
          ],
          [
           136595552,
           212902372
          ],
          [
           659838080,
           757930663
          ],
          [
           199379232,
           35287788
          ],
          [
           121877336,
           235666219
          ],
          [
           65627752,
           217124280
          ],
          [
           74912440,
           154984035
          ],
          [
           313424800,
           331957105
          ],
          [
           79304936,
           112399944
          ],
          [
           -2478006.25,
           18803648
          ],
          [
           304339904,
           488533726
          ],
          [
           951113408,
           1128276090
          ],
          [
           388630208,
           286168572
          ],
          [
           -104733304,
           4105187
          ],
          [
           674586752,
           592461732
          ],
          [
           89748504,
           329398046
          ],
          [
           100554184,
           14674076
          ],
          [
           21182794,
           44093316
          ],
          [
           806862592,
           791017452
          ],
          [
           93558872,
           97552050
          ],
          [
           220850688,
           115400000
          ],
          [
           860129664,
           1028570889
          ],
          [
           834829952,
           1214811252
          ],
          [
           115214328,
           216197492
          ],
          [
           -75791192,
           42972994
          ],
          [
           114233736,
           122801777
          ],
          [
           55909736,
           161772375
          ],
          [
           171293520,
           83672673
          ],
          [
           178542528,
           293329073
          ],
          [
           14368906,
           132820716
          ],
          [
           380863584,
           609123048
          ],
          [
           170513696,
           357852395
          ],
          [
           291807968,
           96188903
          ],
          [
           265472432,
           211780824
          ],
          [
           47312072,
           105200903
          ],
          [
           482838240,
           519311965
          ],
          [
           892647104,
           1056057273
          ],
          [
           223983136,
           368307760
          ],
          [
           105200424,
           100541806
          ],
          [
           503107072,
           392000694
          ],
          [
           90696312,
           82468705
          ],
          [
           147911808,
           196781193
          ]
         ],
         "hovertemplate": "<b>%{hovertext}</b><br><br>predicted=%{customdata[0]}<br>revenue=%{customdata[1]}<extra></extra>",
         "hovertext": [
          "Phantom Thread",
          "Passengers",
          "Straight Outta Compton",
          "Searching",
          "The Book of Eli",
          "Abraham Lincoln: Vampire Hunter",
          "Blade Runner 2049",
          "Her",
          "Skyfall",
          "Bad Times at the El Royale",
          "The Hobbit: The Battle of the Five Armies",
          "Non-Stop",
          "Hitman: Agent 47",
          "Snowden",
          "G.I. Joe: Retaliation",
          "Pixels",
          "Battleship",
          "Despicable Me",
          "Gone Girl",
          "Neighbors",
          "The Boss Baby",
          "I Origins",
          "127 Hours",
          "Interstellar",
          "Frozen II",
          "Avengers: Age of Ultron",
          "Django Unchained",
          "Terminator: Dark Fate",
          "Remember Me",
          "Shrek Forever After",
          "Source Code",
          "Valentine's Day",
          "Joy",
          "Chef",
          "Predators",
          "RoboCop",
          "Sin City: A Dame to Kill For",
          "The Neon Demon",
          "Hansel & Gretel: Witch Hunters",
          "Cowboys & Aliens",
          "Scott Pilgrim vs. the World",
          "The 5th Wave",
          "The Nun",
          "The Wolverine",
          "Inside Out",
          "Focus",
          "Enemy",
          "The Hunger Games",
          "Sing",
          "Teenage Mutant Ninja Turtles",
          "Beauty and the Beast",
          "Sully",
          "The Hangover Part II",
          "Pirates of the Caribbean: Dead Men Tell No Tales",
          "Identity Thief",
          "Love & Other Drugs",
          "The Giver",
          "Maleficent",
          "The Family",
          "Underworld: Blood Wars",
          "The Dark Tower",
          "Lights Out",
          "Neighbors 2: Sorority Rising",
          "Lone Survivor",
          "Once Upon a Time… in Hollywood",
          "American Sniper",
          "How to Be Single",
          "X-Men: Days of Future Past",
          "Limitless",
          "Star Trek Beyond",
          "The Circle",
          "Hugo",
          "The Cabin in the Woods",
          "The Host",
          "Ghostbusters",
          "Hotel Transylvania",
          "Ghost Rider: Spirit of Vengeance",
          "Warcraft",
          "Pan",
          "The Emoji Movie",
          "How to Train Your Dragon: The Hidden World",
          "Bridge of Spies",
          "The Twilight Saga: Breaking Dawn - Part 2",
          "Begin Again",
          "Godzilla: King of the Monsters",
          "Percy Jackson & the Olympians: The Lightning Thief",
          "Clash of the Titans",
          "Truth or Dare",
          "Downsizing",
          "Into the Woods",
          "The Amazing Spider-Man",
          "Frankenweenie",
          "Spy",
          "Dracula Untold",
          "The Monuments Men",
          "The Great Wall",
          "Pet Sematary",
          "The Edge of Seventeen",
          "War for the Planet of the Apes",
          "Captain Marvel",
          "Oblivion",
          "The Raid",
          "Tangled",
          "Black Swan",
          "It Follows",
          "Machete",
          "Mission: Impossible - Fallout",
          "Paul",
          "Pitch Perfect",
          "Finding Dory",
          "Iron Man 3",
          "Bad Teacher",
          "Legend",
          "Zombieland: Double Tap",
          "Flight",
          "Mortal Engines",
          "Salt",
          "Zero Dark Thirty",
          "How to Train Your Dragon 2",
          "The Karate Kid",
          "Kick-Ass",
          "Due Date",
          "Gangster Squad",
          "Ant-Man",
          "Rogue One: A Star Wars Story",
          "Fifty Shades Freed",
          "Life",
          "The Wolf of Wall Street",
          "Jojo Rabbit",
          "The Other Woman",
          "Phantom Thread",
          "Passengers",
          "Straight Outta Compton",
          "Searching",
          "The Book of Eli",
          "Abraham Lincoln: Vampire Hunter",
          "Blade Runner 2049",
          "Her",
          "Skyfall",
          "Bad Times at the El Royale",
          "The Hobbit: The Battle of the Five Armies",
          "Non-Stop",
          "Hitman: Agent 47",
          "Snowden",
          "G.I. Joe: Retaliation",
          "Pixels",
          "Battleship",
          "Despicable Me",
          "Gone Girl",
          "Neighbors",
          "The Boss Baby",
          "I Origins",
          "127 Hours",
          "Interstellar",
          "Frozen II",
          "Avengers: Age of Ultron",
          "Django Unchained",
          "Terminator: Dark Fate",
          "Remember Me",
          "Shrek Forever After",
          "Source Code",
          "Valentine's Day",
          "Joy",
          "Chef",
          "Predators",
          "RoboCop",
          "Sin City: A Dame to Kill For",
          "The Neon Demon",
          "Hansel & Gretel: Witch Hunters",
          "Cowboys & Aliens",
          "Scott Pilgrim vs. the World",
          "The 5th Wave",
          "The Nun",
          "The Wolverine",
          "Inside Out",
          "Focus",
          "Enemy",
          "The Hunger Games",
          "Sing",
          "Teenage Mutant Ninja Turtles",
          "Beauty and the Beast",
          "Sully",
          "The Hangover Part II",
          "Pirates of the Caribbean: Dead Men Tell No Tales",
          "Identity Thief",
          "Love & Other Drugs",
          "The Giver",
          "Maleficent",
          "The Family",
          "Underworld: Blood Wars",
          "The Dark Tower",
          "Lights Out",
          "Neighbors 2: Sorority Rising",
          "Lone Survivor",
          "Once Upon a Time… in Hollywood",
          "American Sniper",
          "How to Be Single",
          "X-Men: Days of Future Past",
          "Limitless",
          "Star Trek Beyond",
          "The Circle",
          "Hugo",
          "The Cabin in the Woods",
          "The Host",
          "Ghostbusters",
          "Hotel Transylvania",
          "Ghost Rider: Spirit of Vengeance",
          "Warcraft",
          "Pan",
          "The Emoji Movie",
          "How to Train Your Dragon: The Hidden World",
          "Bridge of Spies",
          "The Twilight Saga: Breaking Dawn - Part 2",
          "Begin Again",
          "Godzilla: King of the Monsters",
          "Percy Jackson & the Olympians: The Lightning Thief",
          "Clash of the Titans",
          "Truth or Dare",
          "Downsizing",
          "Into the Woods",
          "The Amazing Spider-Man",
          "Frankenweenie",
          "Spy",
          "Dracula Untold",
          "The Monuments Men",
          "The Great Wall",
          "Pet Sematary",
          "The Edge of Seventeen",
          "War for the Planet of the Apes",
          "Captain Marvel",
          "Oblivion",
          "The Raid",
          "Tangled",
          "Black Swan",
          "It Follows",
          "Machete",
          "Mission: Impossible - Fallout",
          "Paul",
          "Pitch Perfect",
          "Finding Dory",
          "Iron Man 3",
          "Bad Teacher",
          "Legend",
          "Zombieland: Double Tap",
          "Flight",
          "Mortal Engines",
          "Salt",
          "Zero Dark Thirty",
          "How to Train Your Dragon 2",
          "The Karate Kid",
          "Kick-Ass",
          "Due Date",
          "Gangster Squad",
          "Ant-Man",
          "Rogue One: A Star Wars Story",
          "Fifty Shades Freed",
          "Life",
          "The Wolf of Wall Street",
          "Jojo Rabbit",
          "The Other Woman"
         ],
         "legendgroup": "",
         "marker": {
          "color": "pink",
          "line": {
           "color": "black",
           "width": 1
          },
          "size": 12,
          "symbol": "circle"
         },
         "mode": "markers",
         "name": "",
         "orientation": "v",
         "showlegend": false,
         "type": "scatter",
         "x": [
          35950184,
          515124608,
          4106985.75,
          -13084118,
          111333576,
          102112072,
          691451328,
          62803448,
          814256576,
          44959496,
          790817920,
          65836616,
          84902120,
          70624488,
          230064176,
          254934512,
          314896832,
          656286976,
          265568000,
          159558192,
          735317184,
          -70453336,
          121615000,
          1151420416,
          1211408256,
          1193595264,
          142831520,
          217835120,
          45863240,
          512659456,
          2704681.75,
          193196080,
          69256952,
          11813738,
          50086984,
          176143232,
          79646184,
          -8908214,
          191196624,
          53362392,
          333328320,
          64535256,
          179224064,
          144285488,
          1038817088,
          136575056,
          15378506,
          343014752,
          606718592,
          272674784,
          978401536,
          83093352,
          377162144,
          672784960,
          8937162,
          51169832,
          24152202,
          825433536,
          10767882,
          116296104,
          42360104,
          49020808,
          152064800,
          14710186,
          445493152,
          187512592,
          145689728,
          675642816,
          65553336,
          259840528,
          3284393.75,
          170319984,
          106834232,
          133477032,
          554450112,
          508254368,
          37503112,
          219323808,
          196189376,
          403480128,
          467980960,
          106074552,
          736253632,
          24469098,
          373132320,
          181001056,
          171383344,
          75886536,
          71342984,
          136595552,
          659838080,
          199379232,
          121877336,
          65627752,
          74912440,
          313424800,
          79304936,
          -2478006.25,
          304339904,
          951113408,
          388630208,
          -104733304,
          674586752,
          89748504,
          100554184,
          21182794,
          806862592,
          93558872,
          220850688,
          860129664,
          834829952,
          115214328,
          -75791192,
          114233736,
          55909736,
          171293520,
          178542528,
          14368906,
          380863584,
          170513696,
          291807968,
          265472432,
          47312072,
          482838240,
          892647104,
          223983136,
          105200424,
          503107072,
          90696312,
          147911808,
          35950184,
          515124608,
          4106985.75,
          -13084118,
          111333576,
          102112072,
          691451328,
          62803448,
          814256576,
          44959496,
          790817920,
          65836616,
          84902120,
          70624488,
          230064176,
          254934512,
          314896832,
          656286976,
          265568000,
          159558192,
          735317184,
          -70453336,
          121615000,
          1151420416,
          1211408256,
          1193595264,
          142831520,
          217835120,
          45863240,
          512659456,
          2704681.75,
          193196080,
          69256952,
          11813738,
          50086984,
          176143232,
          79646184,
          -8908214,
          191196624,
          53362392,
          333328320,
          64535256,
          179224064,
          144285488,
          1038817088,
          136575056,
          15378506,
          343014752,
          606718592,
          272674784,
          978401536,
          83093352,
          377162144,
          672784960,
          8937162,
          51169832,
          24152202,
          825433536,
          10767882,
          116296104,
          42360104,
          49020808,
          152064800,
          14710186,
          445493152,
          187512592,
          145689728,
          675642816,
          65553336,
          259840528,
          3284393.75,
          170319984,
          106834232,
          133477032,
          554450112,
          508254368,
          37503112,
          219323808,
          196189376,
          403480128,
          467980960,
          106074552,
          736253632,
          24469098,
          373132320,
          181001056,
          171383344,
          75886536,
          71342984,
          136595552,
          659838080,
          199379232,
          121877336,
          65627752,
          74912440,
          313424800,
          79304936,
          -2478006.25,
          304339904,
          951113408,
          388630208,
          -104733304,
          674586752,
          89748504,
          100554184,
          21182794,
          806862592,
          93558872,
          220850688,
          860129664,
          834829952,
          115214328,
          -75791192,
          114233736,
          55909736,
          171293520,
          178542528,
          14368906,
          380863584,
          170513696,
          291807968,
          265472432,
          47312072,
          482838240,
          892647104,
          223983136,
          105200424,
          503107072,
          90696312,
          147911808
         ],
         "xaxis": "x",
         "y": [
          47756590,
          303144152,
          201634991,
          66265218,
          157107755,
          116471580,
          259239658,
          47351251,
          1108561013,
          31882724,
          956019788,
          222809600,
          81967450,
          37357216,
          371876278,
          243637091,
          303025485,
          543513985,
          369330363,
          270665134,
          498814908,
          336472,
          35692920,
          675120017,
          1450026933,
          1405403694,
          425368238,
          261119292,
          56032889,
          752600867,
          147332697,
          216485654,
          101134059,
          45967935,
          127233108,
          242688965,
          39407616,
          3377430,
          226349749,
          174822325,
          47664559,
          109906372,
          365550119,
          415440673,
          857611174,
          153962963,
          3396726,
          691210692,
          634151679,
          477200000,
          1263521126,
          240797623,
          254455986,
          794861794,
          173965010,
          102820008,
          66980456,
          758539785,
          36894225,
          81093313,
          113231078,
          148868835,
          108758521,
          149295601,
          374251247,
          542307423,
          112343513,
          747862775,
          161849455,
          343471816,
          20497844,
          185770160,
          71041255,
          63327201,
          229147509,
          358375603,
          132563930,
          433677183,
          128388320,
          216909830,
          517526875,
          165478348,
          829000000,
          63464861,
          386600138,
          226497209,
          493214993,
          95330493,
          55003890,
          212902372,
          757930663,
          35287788,
          235666219,
          217124280,
          154984035,
          331957105,
          112399944,
          18803648,
          488533726,
          1128276090,
          286168572,
          4105187,
          592461732,
          329398046,
          14674076,
          44093316,
          791017452,
          97552050,
          115400000,
          1028570889,
          1214811252,
          216197492,
          42972994,
          122801777,
          161772375,
          83672673,
          293329073,
          132820716,
          609123048,
          357852395,
          96188903,
          211780824,
          105200903,
          519311965,
          1056057273,
          368307760,
          100541806,
          392000694,
          82468705,
          196781193,
          47756590,
          303144152,
          201634991,
          66265218,
          157107755,
          116471580,
          259239658,
          47351251,
          1108561013,
          31882724,
          956019788,
          222809600,
          81967450,
          37357216,
          371876278,
          243637091,
          303025485,
          543513985,
          369330363,
          270665134,
          498814908,
          336472,
          35692920,
          675120017,
          1450026933,
          1405403694,
          425368238,
          261119292,
          56032889,
          752600867,
          147332697,
          216485654,
          101134059,
          45967935,
          127233108,
          242688965,
          39407616,
          3377430,
          226349749,
          174822325,
          47664559,
          109906372,
          365550119,
          415440673,
          857611174,
          153962963,
          3396726,
          691210692,
          634151679,
          477200000,
          1263521126,
          240797623,
          254455986,
          794861794,
          173965010,
          102820008,
          66980456,
          758539785,
          36894225,
          81093313,
          113231078,
          148868835,
          108758521,
          149295601,
          374251247,
          542307423,
          112343513,
          747862775,
          161849455,
          343471816,
          20497844,
          185770160,
          71041255,
          63327201,
          229147509,
          358375603,
          132563930,
          433677183,
          128388320,
          216909830,
          517526875,
          165478348,
          829000000,
          63464861,
          386600138,
          226497209,
          493214993,
          95330493,
          55003890,
          212902372,
          757930663,
          35287788,
          235666219,
          217124280,
          154984035,
          331957105,
          112399944,
          18803648,
          488533726,
          1128276090,
          286168572,
          4105187,
          592461732,
          329398046,
          14674076,
          44093316,
          791017452,
          97552050,
          115400000,
          1028570889,
          1214811252,
          216197492,
          42972994,
          122801777,
          161772375,
          83672673,
          293329073,
          132820716,
          609123048,
          357852395,
          96188903,
          211780824,
          105200903,
          519311965,
          1056057273,
          368307760,
          100541806,
          392000694,
          82468705,
          196781193
         ],
         "yaxis": "y"
        }
       ],
       "layout": {
        "height": 700,
        "hoverlabel": {
         "bgcolor": "skyblue",
         "font": {
          "family": "Rockwell",
          "size": 16
         }
        },
        "hovermode": "x",
        "legend": {
         "tracegroupgap": 0
        },
        "template": {
         "data": {
          "bar": [
           {
            "error_x": {
             "color": "#2a3f5f"
            },
            "error_y": {
             "color": "#2a3f5f"
            },
            "marker": {
             "line": {
              "color": "#E5ECF6",
              "width": 0.5
             }
            },
            "type": "bar"
           }
          ],
          "barpolar": [
           {
            "marker": {
             "line": {
              "color": "#E5ECF6",
              "width": 0.5
             }
            },
            "type": "barpolar"
           }
          ],
          "carpet": [
           {
            "aaxis": {
             "endlinecolor": "#2a3f5f",
             "gridcolor": "white",
             "linecolor": "white",
             "minorgridcolor": "white",
             "startlinecolor": "#2a3f5f"
            },
            "baxis": {
             "endlinecolor": "#2a3f5f",
             "gridcolor": "white",
             "linecolor": "white",
             "minorgridcolor": "white",
             "startlinecolor": "#2a3f5f"
            },
            "type": "carpet"
           }
          ],
          "choropleth": [
           {
            "colorbar": {
             "outlinewidth": 0,
             "ticks": ""
            },
            "type": "choropleth"
           }
          ],
          "contour": [
           {
            "colorbar": {
             "outlinewidth": 0,
             "ticks": ""
            },
            "colorscale": [
             [
              0,
              "#0d0887"
             ],
             [
              0.1111111111111111,
              "#46039f"
             ],
             [
              0.2222222222222222,
              "#7201a8"
             ],
             [
              0.3333333333333333,
              "#9c179e"
             ],
             [
              0.4444444444444444,
              "#bd3786"
             ],
             [
              0.5555555555555556,
              "#d8576b"
             ],
             [
              0.6666666666666666,
              "#ed7953"
             ],
             [
              0.7777777777777778,
              "#fb9f3a"
             ],
             [
              0.8888888888888888,
              "#fdca26"
             ],
             [
              1,
              "#f0f921"
             ]
            ],
            "type": "contour"
           }
          ],
          "contourcarpet": [
           {
            "colorbar": {
             "outlinewidth": 0,
             "ticks": ""
            },
            "type": "contourcarpet"
           }
          ],
          "heatmap": [
           {
            "colorbar": {
             "outlinewidth": 0,
             "ticks": ""
            },
            "colorscale": [
             [
              0,
              "#0d0887"
             ],
             [
              0.1111111111111111,
              "#46039f"
             ],
             [
              0.2222222222222222,
              "#7201a8"
             ],
             [
              0.3333333333333333,
              "#9c179e"
             ],
             [
              0.4444444444444444,
              "#bd3786"
             ],
             [
              0.5555555555555556,
              "#d8576b"
             ],
             [
              0.6666666666666666,
              "#ed7953"
             ],
             [
              0.7777777777777778,
              "#fb9f3a"
             ],
             [
              0.8888888888888888,
              "#fdca26"
             ],
             [
              1,
              "#f0f921"
             ]
            ],
            "type": "heatmap"
           }
          ],
          "heatmapgl": [
           {
            "colorbar": {
             "outlinewidth": 0,
             "ticks": ""
            },
            "colorscale": [
             [
              0,
              "#0d0887"
             ],
             [
              0.1111111111111111,
              "#46039f"
             ],
             [
              0.2222222222222222,
              "#7201a8"
             ],
             [
              0.3333333333333333,
              "#9c179e"
             ],
             [
              0.4444444444444444,
              "#bd3786"
             ],
             [
              0.5555555555555556,
              "#d8576b"
             ],
             [
              0.6666666666666666,
              "#ed7953"
             ],
             [
              0.7777777777777778,
              "#fb9f3a"
             ],
             [
              0.8888888888888888,
              "#fdca26"
             ],
             [
              1,
              "#f0f921"
             ]
            ],
            "type": "heatmapgl"
           }
          ],
          "histogram": [
           {
            "marker": {
             "colorbar": {
              "outlinewidth": 0,
              "ticks": ""
             }
            },
            "type": "histogram"
           }
          ],
          "histogram2d": [
           {
            "colorbar": {
             "outlinewidth": 0,
             "ticks": ""
            },
            "colorscale": [
             [
              0,
              "#0d0887"
             ],
             [
              0.1111111111111111,
              "#46039f"
             ],
             [
              0.2222222222222222,
              "#7201a8"
             ],
             [
              0.3333333333333333,
              "#9c179e"
             ],
             [
              0.4444444444444444,
              "#bd3786"
             ],
             [
              0.5555555555555556,
              "#d8576b"
             ],
             [
              0.6666666666666666,
              "#ed7953"
             ],
             [
              0.7777777777777778,
              "#fb9f3a"
             ],
             [
              0.8888888888888888,
              "#fdca26"
             ],
             [
              1,
              "#f0f921"
             ]
            ],
            "type": "histogram2d"
           }
          ],
          "histogram2dcontour": [
           {
            "colorbar": {
             "outlinewidth": 0,
             "ticks": ""
            },
            "colorscale": [
             [
              0,
              "#0d0887"
             ],
             [
              0.1111111111111111,
              "#46039f"
             ],
             [
              0.2222222222222222,
              "#7201a8"
             ],
             [
              0.3333333333333333,
              "#9c179e"
             ],
             [
              0.4444444444444444,
              "#bd3786"
             ],
             [
              0.5555555555555556,
              "#d8576b"
             ],
             [
              0.6666666666666666,
              "#ed7953"
             ],
             [
              0.7777777777777778,
              "#fb9f3a"
             ],
             [
              0.8888888888888888,
              "#fdca26"
             ],
             [
              1,
              "#f0f921"
             ]
            ],
            "type": "histogram2dcontour"
           }
          ],
          "mesh3d": [
           {
            "colorbar": {
             "outlinewidth": 0,
             "ticks": ""
            },
            "type": "mesh3d"
           }
          ],
          "parcoords": [
           {
            "line": {
             "colorbar": {
              "outlinewidth": 0,
              "ticks": ""
             }
            },
            "type": "parcoords"
           }
          ],
          "pie": [
           {
            "automargin": true,
            "type": "pie"
           }
          ],
          "scatter": [
           {
            "marker": {
             "colorbar": {
              "outlinewidth": 0,
              "ticks": ""
             }
            },
            "type": "scatter"
           }
          ],
          "scatter3d": [
           {
            "line": {
             "colorbar": {
              "outlinewidth": 0,
              "ticks": ""
             }
            },
            "marker": {
             "colorbar": {
              "outlinewidth": 0,
              "ticks": ""
             }
            },
            "type": "scatter3d"
           }
          ],
          "scattercarpet": [
           {
            "marker": {
             "colorbar": {
              "outlinewidth": 0,
              "ticks": ""
             }
            },
            "type": "scattercarpet"
           }
          ],
          "scattergeo": [
           {
            "marker": {
             "colorbar": {
              "outlinewidth": 0,
              "ticks": ""
             }
            },
            "type": "scattergeo"
           }
          ],
          "scattergl": [
           {
            "marker": {
             "colorbar": {
              "outlinewidth": 0,
              "ticks": ""
             }
            },
            "type": "scattergl"
           }
          ],
          "scattermapbox": [
           {
            "marker": {
             "colorbar": {
              "outlinewidth": 0,
              "ticks": ""
             }
            },
            "type": "scattermapbox"
           }
          ],
          "scatterpolar": [
           {
            "marker": {
             "colorbar": {
              "outlinewidth": 0,
              "ticks": ""
             }
            },
            "type": "scatterpolar"
           }
          ],
          "scatterpolargl": [
           {
            "marker": {
             "colorbar": {
              "outlinewidth": 0,
              "ticks": ""
             }
            },
            "type": "scatterpolargl"
           }
          ],
          "scatterternary": [
           {
            "marker": {
             "colorbar": {
              "outlinewidth": 0,
              "ticks": ""
             }
            },
            "type": "scatterternary"
           }
          ],
          "surface": [
           {
            "colorbar": {
             "outlinewidth": 0,
             "ticks": ""
            },
            "colorscale": [
             [
              0,
              "#0d0887"
             ],
             [
              0.1111111111111111,
              "#46039f"
             ],
             [
              0.2222222222222222,
              "#7201a8"
             ],
             [
              0.3333333333333333,
              "#9c179e"
             ],
             [
              0.4444444444444444,
              "#bd3786"
             ],
             [
              0.5555555555555556,
              "#d8576b"
             ],
             [
              0.6666666666666666,
              "#ed7953"
             ],
             [
              0.7777777777777778,
              "#fb9f3a"
             ],
             [
              0.8888888888888888,
              "#fdca26"
             ],
             [
              1,
              "#f0f921"
             ]
            ],
            "type": "surface"
           }
          ],
          "table": [
           {
            "cells": {
             "fill": {
              "color": "#EBF0F8"
             },
             "line": {
              "color": "white"
             }
            },
            "header": {
             "fill": {
              "color": "#C8D4E3"
             },
             "line": {
              "color": "white"
             }
            },
            "type": "table"
           }
          ]
         },
         "layout": {
          "annotationdefaults": {
           "arrowcolor": "#2a3f5f",
           "arrowhead": 0,
           "arrowwidth": 1
          },
          "coloraxis": {
           "colorbar": {
            "outlinewidth": 0,
            "ticks": ""
           }
          },
          "colorscale": {
           "diverging": [
            [
             0,
             "#8e0152"
            ],
            [
             0.1,
             "#c51b7d"
            ],
            [
             0.2,
             "#de77ae"
            ],
            [
             0.3,
             "#f1b6da"
            ],
            [
             0.4,
             "#fde0ef"
            ],
            [
             0.5,
             "#f7f7f7"
            ],
            [
             0.6,
             "#e6f5d0"
            ],
            [
             0.7,
             "#b8e186"
            ],
            [
             0.8,
             "#7fbc41"
            ],
            [
             0.9,
             "#4d9221"
            ],
            [
             1,
             "#276419"
            ]
           ],
           "sequential": [
            [
             0,
             "#0d0887"
            ],
            [
             0.1111111111111111,
             "#46039f"
            ],
            [
             0.2222222222222222,
             "#7201a8"
            ],
            [
             0.3333333333333333,
             "#9c179e"
            ],
            [
             0.4444444444444444,
             "#bd3786"
            ],
            [
             0.5555555555555556,
             "#d8576b"
            ],
            [
             0.6666666666666666,
             "#ed7953"
            ],
            [
             0.7777777777777778,
             "#fb9f3a"
            ],
            [
             0.8888888888888888,
             "#fdca26"
            ],
            [
             1,
             "#f0f921"
            ]
           ],
           "sequentialminus": [
            [
             0,
             "#0d0887"
            ],
            [
             0.1111111111111111,
             "#46039f"
            ],
            [
             0.2222222222222222,
             "#7201a8"
            ],
            [
             0.3333333333333333,
             "#9c179e"
            ],
            [
             0.4444444444444444,
             "#bd3786"
            ],
            [
             0.5555555555555556,
             "#d8576b"
            ],
            [
             0.6666666666666666,
             "#ed7953"
            ],
            [
             0.7777777777777778,
             "#fb9f3a"
            ],
            [
             0.8888888888888888,
             "#fdca26"
            ],
            [
             1,
             "#f0f921"
            ]
           ]
          },
          "colorway": [
           "#636efa",
           "#EF553B",
           "#00cc96",
           "#ab63fa",
           "#FFA15A",
           "#19d3f3",
           "#FF6692",
           "#B6E880",
           "#FF97FF",
           "#FECB52"
          ],
          "font": {
           "color": "#2a3f5f"
          },
          "geo": {
           "bgcolor": "white",
           "lakecolor": "white",
           "landcolor": "#E5ECF6",
           "showlakes": true,
           "showland": true,
           "subunitcolor": "white"
          },
          "hoverlabel": {
           "align": "left"
          },
          "hovermode": "closest",
          "mapbox": {
           "style": "light"
          },
          "paper_bgcolor": "white",
          "plot_bgcolor": "#E5ECF6",
          "polar": {
           "angularaxis": {
            "gridcolor": "white",
            "linecolor": "white",
            "ticks": ""
           },
           "bgcolor": "#E5ECF6",
           "radialaxis": {
            "gridcolor": "white",
            "linecolor": "white",
            "ticks": ""
           }
          },
          "scene": {
           "xaxis": {
            "backgroundcolor": "#E5ECF6",
            "gridcolor": "white",
            "gridwidth": 2,
            "linecolor": "white",
            "showbackground": true,
            "ticks": "",
            "zerolinecolor": "white"
           },
           "yaxis": {
            "backgroundcolor": "#E5ECF6",
            "gridcolor": "white",
            "gridwidth": 2,
            "linecolor": "white",
            "showbackground": true,
            "ticks": "",
            "zerolinecolor": "white"
           },
           "zaxis": {
            "backgroundcolor": "#E5ECF6",
            "gridcolor": "white",
            "gridwidth": 2,
            "linecolor": "white",
            "showbackground": true,
            "ticks": "",
            "zerolinecolor": "white"
           }
          },
          "shapedefaults": {
           "line": {
            "color": "#2a3f5f"
           }
          },
          "ternary": {
           "aaxis": {
            "gridcolor": "white",
            "linecolor": "white",
            "ticks": ""
           },
           "baxis": {
            "gridcolor": "white",
            "linecolor": "white",
            "ticks": ""
           },
           "bgcolor": "#E5ECF6",
           "caxis": {
            "gridcolor": "white",
            "linecolor": "white",
            "ticks": ""
           }
          },
          "title": {
           "x": 0.05
          },
          "xaxis": {
           "automargin": true,
           "gridcolor": "white",
           "linecolor": "white",
           "ticks": "",
           "title": {
            "standoff": 15
           },
           "zerolinecolor": "white",
           "zerolinewidth": 2
          },
          "yaxis": {
           "automargin": true,
           "gridcolor": "white",
           "linecolor": "white",
           "ticks": "",
           "title": {
            "standoff": 15
           },
           "zerolinecolor": "white",
           "zerolinewidth": 2
          }
         }
        },
        "title": {
         "text": "Actual Revenue and Predicted Revenue for 27-1090-3740-1460-1020"
        },
        "width": 1000,
        "xaxis": {
         "anchor": "y",
         "domain": [
          0,
          1
         ],
         "title": {
          "text": "predicted"
         }
        },
        "yaxis": {
         "anchor": "x",
         "domain": [
          0,
          1
         ],
         "title": {
          "text": "revenue"
         }
        }
       }
      }
     },
     "metadata": {}
    }
   ],
   "source": [
    "import plotly.express as px\n",
    "from utils.misc import stringify_model\n",
    "model = stringify_model(layers)\n",
    "fig = px.scatter(graph_data,\n",
    "                    x=\"predicted\",\n",
    "                    y=\"revenue\",\n",
    "                    hover_name=\"title\",\n",
    "                    hover_data=[\"predicted\", \"revenue\"],\n",
    "                    title=f\"Actual Revenue and Predicted Revenue for {model}\",\n",
    "                    width=1000,\n",
    "                    height=700)\n",
    "fig.update_traces(marker=dict(size=12,\n",
    "                              color='pink',\n",
    "                              line=dict(width=1,\n",
    "                                        color='black'))) \n",
    "                #   hovertemplate=None)\n",
    "fig.update_layout(hovermode=\"x\",\n",
    "                  hoverlabel=dict(\n",
    "                        bgcolor=\"skyblue\",\n",
    "                        font_size=16,\n",
    "                        font_family=\"Rockwell\"\n",
    "                    ))\n",
    "fig.show()"
   ]
  },
  {
   "cell_type": "code",
   "execution_count": 14,
   "metadata": {},
   "outputs": [],
   "source": [
    "from utils.misc import save_plot\n",
    "save_plot(fig, model)"
   ]
  },
  {
   "cell_type": "code",
   "execution_count": 28,
   "metadata": {},
   "outputs": [],
   "source": [
    "import plotly.graph_objects as go\n",
    "\n",
    "import numpy as np\n",
    "np.random.seed(1)\n",
    "\n",
    "x = graph_data[\"predicted\"].values\n",
    "y = graph_data[\"revenue\"].values\n",
    "# y = np.random.rand(100)\n",
    "\n",
    "f = go.FigureWidget([go.Scatter(x=x, y=y, mode='markers')])"
   ]
  },
  {
   "cell_type": "code",
   "execution_count": 29,
   "metadata": {},
   "outputs": [],
   "source": [
    "\n",
    "scatter = f.data[0]\n",
    "colors = ['#a3a7e4'] * 100\n",
    "scatter.marker.color = colors\n",
    "scatter.marker.size = [10] * 100\n",
    "f.layout.hovermode = 'closest'\n"
   ]
  },
  {
   "cell_type": "code",
   "execution_count": 32,
   "metadata": {},
   "outputs": [],
   "source": [
    "# create our callback function\n",
    "def update_point(trace, points, selector):\n",
    "    print(trace)\n",
    "    c = list(scatter.marker.color)\n",
    "    s = list(scatter.marker.size)\n",
    "    for i in points.point_inds:\n",
    "        c[i] = '#bae2be'\n",
    "        s[i] = 20\n",
    "        with f.batch_update():\n",
    "            scatter.marker.color = c\n",
    "            scatter.marker.size = s"
   ]
  },
  {
   "cell_type": "code",
   "execution_count": 35,
   "metadata": {},
   "outputs": [
    {
     "output_type": "error",
     "ename": "AttributeError",
     "evalue": "'FigureWidget' object has no attribute 'trace'",
     "traceback": [
      "\u001b[1;31m---------------------------------------------------------------------------\u001b[0m",
      "\u001b[1;31mAttributeError\u001b[0m                            Traceback (most recent call last)",
      "\u001b[1;32m<ipython-input-35-a32027af0051>\u001b[0m in \u001b[0;36m<module>\u001b[1;34m\u001b[0m\n\u001b[0;32m      1\u001b[0m \u001b[0mscatter\u001b[0m\u001b[1;33m.\u001b[0m\u001b[0mon_click\u001b[0m\u001b[1;33m(\u001b[0m\u001b[0mupdate_point\u001b[0m\u001b[1;33m)\u001b[0m\u001b[1;33m\u001b[0m\u001b[1;33m\u001b[0m\u001b[0m\n\u001b[1;32m----> 2\u001b[1;33m \u001b[0mf\u001b[0m\u001b[1;33m.\u001b[0m\u001b[0mtrace\u001b[0m\u001b[1;33m\u001b[0m\u001b[1;33m\u001b[0m\u001b[0m\n\u001b[0m",
      "\u001b[1;31mAttributeError\u001b[0m: 'FigureWidget' object has no attribute 'trace'"
     ]
    }
   ],
   "source": [
    "scatter.on_click(update_point)\n",
    "f.trace"
   ]
  },
  {
   "cell_type": "code",
   "execution_count": 4,
   "metadata": {},
   "outputs": [
    {
     "output_type": "execute_result",
     "data": {
      "text/plain": [
       "                                                 title\n",
       "year                                                  \n",
       "2010                                   The Book of Eli\n",
       "2011                                           Beastly\n",
       "2012                                      The Avengers\n",
       "2013                                       Warm Bodies\n",
       "2014                                         Divergent\n",
       "2015                Mission: Impossible - Rogue Nation\n",
       "2016                                          Warcraft\n",
       "2017  Pirates of the Caribbean: Dead Men Tell No Tales\n",
       "2018                                    Captain Marvel\n",
       "2019                                 Avengers: Endgame"
      ],
      "text/html": "<div>\n<style scoped>\n    .dataframe tbody tr th:only-of-type {\n        vertical-align: middle;\n    }\n\n    .dataframe tbody tr th {\n        vertical-align: top;\n    }\n\n    .dataframe thead th {\n        text-align: right;\n    }\n</style>\n<table border=\"1\" class=\"dataframe\">\n  <thead>\n    <tr style=\"text-align: right;\">\n      <th></th>\n      <th>title</th>\n    </tr>\n    <tr>\n      <th>year</th>\n      <th></th>\n    </tr>\n  </thead>\n  <tbody>\n    <tr>\n      <th>2010</th>\n      <td>The Book of Eli</td>\n    </tr>\n    <tr>\n      <th>2011</th>\n      <td>Beastly</td>\n    </tr>\n    <tr>\n      <th>2012</th>\n      <td>The Avengers</td>\n    </tr>\n    <tr>\n      <th>2013</th>\n      <td>Warm Bodies</td>\n    </tr>\n    <tr>\n      <th>2014</th>\n      <td>Divergent</td>\n    </tr>\n    <tr>\n      <th>2015</th>\n      <td>Mission: Impossible - Rogue Nation</td>\n    </tr>\n    <tr>\n      <th>2016</th>\n      <td>Warcraft</td>\n    </tr>\n    <tr>\n      <th>2017</th>\n      <td>Pirates of the Caribbean: Dead Men Tell No Tales</td>\n    </tr>\n    <tr>\n      <th>2018</th>\n      <td>Captain Marvel</td>\n    </tr>\n    <tr>\n      <th>2019</th>\n      <td>Avengers: Endgame</td>\n    </tr>\n  </tbody>\n</table>\n</div>"
     },
     "metadata": {},
     "execution_count": 4
    }
   ],
   "source": [
    "import pandas as pd\n",
    "movies = pd.read_csv(\"../dbs/data_2010s.csv\")\n",
    "movies[['title', 'year']].groupby('year').first().head(10)"
   ]
  },
  {
   "cell_type": "code",
   "execution_count": null,
   "metadata": {},
   "outputs": [],
   "source": []
  }
 ]
}