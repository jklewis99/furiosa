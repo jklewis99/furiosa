{
 "metadata": {
  "language_info": {
   "codemirror_mode": {
    "name": "ipython",
    "version": 3
   },
   "file_extension": ".py",
   "mimetype": "text/x-python",
   "name": "python",
   "nbconvert_exporter": "python",
   "pygments_lexer": "ipython3",
   "version": "3.7.7-final"
  },
  "orig_nbformat": 2,
  "kernelspec": {
   "name": "python3",
   "display_name": "Python 3"
  }
 },
 "nbformat": 4,
 "nbformat_minor": 2,
 "cells": [
  {
   "cell_type": "code",
   "execution_count": 1,
   "metadata": {},
   "outputs": [],
   "source": [
    "import pandas as pd\n",
    "import numpy as np\n",
    "import matplotlib.pyplot as plt"
   ]
  },
  {
   "cell_type": "code",
   "execution_count": 2,
   "metadata": {},
   "outputs": [],
   "source": [
    "movies = pd.read_csv(\"../dbs/watched_movies_2010s.csv\")\n",
    "trailers = pd.read_csv(\"../dbs/trailers_2010s.csv\")\n",
    "release_dates = pd.read_csv(\"../dbs/release_dates_2010s.csv\")"
   ]
  },
  {
   "cell_type": "code",
   "execution_count": 3,
   "metadata": {},
   "outputs": [],
   "source": [
    "trailers = trailers.loc[trailers['similarity_score'] > 0]"
   ]
  },
  {
   "cell_type": "code",
   "execution_count": 4,
   "metadata": {},
   "outputs": [],
   "source": [
    "def drop_bad_data(trailers):\n",
    "    # the (?i) tells the contains method to not match case\n",
    "    # bad_channels = trailers[trailers['channel_title'].str.contains('(?i)vevo|Screen Junkies|PlayStation|Xbox')] # contains VEVO or contians Screen Junkies or PlayStation\n",
    "    # bad_titles = trailers[trailers['title'].str.contains('(?i)gameplay|music video|xbox| pc|ps4')]\n",
    "    # bad_data = pd.concat([bad_channels, bad_titles]).drop_duplicates()\n",
    "    good_data = trailers[trailers['channel_title'].str.contains('(?i)vevo|Screen Junkies|PlayStation|Xbox')==False]\n",
    "    good_data = good_data[good_data['title'].str.contains('(?i)gameplay|music video|xbox| pc|ps4')==False]\n",
    "    return good_data"
   ]
  },
  {
   "cell_type": "code",
   "execution_count": 5,
   "metadata": {},
   "outputs": [
    {
     "output_type": "execute_result",
     "data": {
      "text/plain": [
       "    youtube_id                                              title  \\\n",
       "0  zSMHmtaoXtI  The Book of Eli (2010) Official Trailer - Denz...   \n",
       "1  kAMUv22y1og       \"The Book of Eli\" - Official Trailer [HD HQ]   \n",
       "4  GcVja9u9UKA              The Book of Daniel - Official Trailer   \n",
       "5  c-hSjx1PzKU                  El Libro De Eli - Trailer Español   \n",
       "6  1K45RdE2qlk  Valentine's Day (2010) Official Trailer - Juli...   \n",
       "\n",
       "                 channel_title                channel_id  \\\n",
       "0  Movieclips Classic Trailers  UCTCjFFoX1un-j7ni4B6HJ3Q   \n",
       "1         watchCulturetainment  UCuJXQzdMnQuNGkYJqgIwb-w   \n",
       "4                    Pure Flix  UCUEBVx8KL_IHTJfWYv-J3DA   \n",
       "5                 Javier Perez  UC09K-LEq5S1290bdF3XstaQ   \n",
       "6  Movieclips Classic Trailers  UCTCjFFoX1un-j7ni4B6HJ3Q   \n",
       "\n",
       "                                         description          release_date  \\\n",
       "0  The Book of Eli (2010) Official Trailer - Denz...  2014-02-08T00:56:40Z   \n",
       "1  Coming to theatres on January 15, 2010\\r\\nStar...  2009-08-04T21:39:20Z   \n",
       "4  The Book of Daniel: Taken into slavery after t...  2013-08-19T17:03:46Z   \n",
       "5  El Libro De Eli - Trailer Español - www.GranIl...  2010-03-21T13:07:47Z   \n",
       "6  Valentine's Day (2010) Official Trailer - Juli...  2014-02-11T17:19:59Z   \n",
       "\n",
       "                                                tags  view_count  like_count  \\\n",
       "0  ['movieclips', 'movie clips', 'movieclipstrail...     1850082        6847   \n",
       "1  ['the', 'book', 'of', 'eli', 'film', 'official...     3326366        4507   \n",
       "4  ['The Book of Daniel', 'Christian Trailer', 'C...     4965302       34031   \n",
       "5  ['el', 'libro', 'de', 'eli', 'trailer', 'españ...      222943         407   \n",
       "6  ['movieclips', 'movieclipstrailers', 'new trai...     1972376        9846   \n",
       "\n",
       "   dislike_count  comment_count  tmdb_id  similarity_score  \n",
       "0            358            533    20504          0.401822  \n",
       "1            322           1982    20504          0.500000  \n",
       "4           1539           1327    20504          0.403951  \n",
       "5             34              9    20504          0.100000  \n",
       "6            226            264    32856          0.261818  "
      ],
      "text/html": "<div>\n<style scoped>\n    .dataframe tbody tr th:only-of-type {\n        vertical-align: middle;\n    }\n\n    .dataframe tbody tr th {\n        vertical-align: top;\n    }\n\n    .dataframe thead th {\n        text-align: right;\n    }\n</style>\n<table border=\"1\" class=\"dataframe\">\n  <thead>\n    <tr style=\"text-align: right;\">\n      <th></th>\n      <th>youtube_id</th>\n      <th>title</th>\n      <th>channel_title</th>\n      <th>channel_id</th>\n      <th>description</th>\n      <th>release_date</th>\n      <th>tags</th>\n      <th>view_count</th>\n      <th>like_count</th>\n      <th>dislike_count</th>\n      <th>comment_count</th>\n      <th>tmdb_id</th>\n      <th>similarity_score</th>\n    </tr>\n  </thead>\n  <tbody>\n    <tr>\n      <th>0</th>\n      <td>zSMHmtaoXtI</td>\n      <td>The Book of Eli (2010) Official Trailer - Denz...</td>\n      <td>Movieclips Classic Trailers</td>\n      <td>UCTCjFFoX1un-j7ni4B6HJ3Q</td>\n      <td>The Book of Eli (2010) Official Trailer - Denz...</td>\n      <td>2014-02-08T00:56:40Z</td>\n      <td>['movieclips', 'movie clips', 'movieclipstrail...</td>\n      <td>1850082</td>\n      <td>6847</td>\n      <td>358</td>\n      <td>533</td>\n      <td>20504</td>\n      <td>0.401822</td>\n    </tr>\n    <tr>\n      <th>1</th>\n      <td>kAMUv22y1og</td>\n      <td>\"The Book of Eli\" - Official Trailer [HD HQ]</td>\n      <td>watchCulturetainment</td>\n      <td>UCuJXQzdMnQuNGkYJqgIwb-w</td>\n      <td>Coming to theatres on January 15, 2010\\r\\nStar...</td>\n      <td>2009-08-04T21:39:20Z</td>\n      <td>['the', 'book', 'of', 'eli', 'film', 'official...</td>\n      <td>3326366</td>\n      <td>4507</td>\n      <td>322</td>\n      <td>1982</td>\n      <td>20504</td>\n      <td>0.500000</td>\n    </tr>\n    <tr>\n      <th>4</th>\n      <td>GcVja9u9UKA</td>\n      <td>The Book of Daniel - Official Trailer</td>\n      <td>Pure Flix</td>\n      <td>UCUEBVx8KL_IHTJfWYv-J3DA</td>\n      <td>The Book of Daniel: Taken into slavery after t...</td>\n      <td>2013-08-19T17:03:46Z</td>\n      <td>['The Book of Daniel', 'Christian Trailer', 'C...</td>\n      <td>4965302</td>\n      <td>34031</td>\n      <td>1539</td>\n      <td>1327</td>\n      <td>20504</td>\n      <td>0.403951</td>\n    </tr>\n    <tr>\n      <th>5</th>\n      <td>c-hSjx1PzKU</td>\n      <td>El Libro De Eli - Trailer Español</td>\n      <td>Javier Perez</td>\n      <td>UC09K-LEq5S1290bdF3XstaQ</td>\n      <td>El Libro De Eli - Trailer Español - www.GranIl...</td>\n      <td>2010-03-21T13:07:47Z</td>\n      <td>['el', 'libro', 'de', 'eli', 'trailer', 'españ...</td>\n      <td>222943</td>\n      <td>407</td>\n      <td>34</td>\n      <td>9</td>\n      <td>20504</td>\n      <td>0.100000</td>\n    </tr>\n    <tr>\n      <th>6</th>\n      <td>1K45RdE2qlk</td>\n      <td>Valentine's Day (2010) Official Trailer - Juli...</td>\n      <td>Movieclips Classic Trailers</td>\n      <td>UCTCjFFoX1un-j7ni4B6HJ3Q</td>\n      <td>Valentine's Day (2010) Official Trailer - Juli...</td>\n      <td>2014-02-11T17:19:59Z</td>\n      <td>['movieclips', 'movieclipstrailers', 'new trai...</td>\n      <td>1972376</td>\n      <td>9846</td>\n      <td>226</td>\n      <td>264</td>\n      <td>32856</td>\n      <td>0.261818</td>\n    </tr>\n  </tbody>\n</table>\n</div>"
     },
     "metadata": {},
     "execution_count": 5
    }
   ],
   "source": [
    "trailers = drop_bad_data(trailers)\n",
    "trailers.head()"
   ]
  },
  {
   "source": [
    "Rename the columns so we can eliminate confusion"
   ],
   "cell_type": "markdown",
   "metadata": {}
  },
  {
   "cell_type": "code",
   "execution_count": 6,
   "metadata": {},
   "outputs": [],
   "source": [
    "trailers.rename(columns={'title': 'trailer_title', 'release_date': 'trailer_release_date'}, inplace=True)"
   ]
  },
  {
   "cell_type": "code",
   "execution_count": 7,
   "metadata": {},
   "outputs": [
    {
     "output_type": "execute_result",
     "data": {
      "text/plain": [
       "    youtube_id                                      trailer_title  \\\n",
       "0  zSMHmtaoXtI  The Book of Eli (2010) Official Trailer - Denz...   \n",
       "1  kAMUv22y1og       \"The Book of Eli\" - Official Trailer [HD HQ]   \n",
       "2  GcVja9u9UKA              The Book of Daniel - Official Trailer   \n",
       "3  c-hSjx1PzKU                  El Libro De Eli - Trailer Español   \n",
       "4  1K45RdE2qlk  Valentine's Day (2010) Official Trailer - Juli...   \n",
       "\n",
       "                 channel_title                channel_id  \\\n",
       "0  Movieclips Classic Trailers  UCTCjFFoX1un-j7ni4B6HJ3Q   \n",
       "1         watchCulturetainment  UCuJXQzdMnQuNGkYJqgIwb-w   \n",
       "2                    Pure Flix  UCUEBVx8KL_IHTJfWYv-J3DA   \n",
       "3                 Javier Perez  UC09K-LEq5S1290bdF3XstaQ   \n",
       "4  Movieclips Classic Trailers  UCTCjFFoX1un-j7ni4B6HJ3Q   \n",
       "\n",
       "                                         description  trailer_release_date  \\\n",
       "0  The Book of Eli (2010) Official Trailer - Denz...  2014-02-08T00:56:40Z   \n",
       "1  Coming to theatres on January 15, 2010\\r\\nStar...  2009-08-04T21:39:20Z   \n",
       "2  The Book of Daniel: Taken into slavery after t...  2013-08-19T17:03:46Z   \n",
       "3  El Libro De Eli - Trailer Español - www.GranIl...  2010-03-21T13:07:47Z   \n",
       "4  Valentine's Day (2010) Official Trailer - Juli...  2014-02-11T17:19:59Z   \n",
       "\n",
       "                                                tags  view_count  like_count  \\\n",
       "0  ['movieclips', 'movie clips', 'movieclipstrail...     1850082        6847   \n",
       "1  ['the', 'book', 'of', 'eli', 'film', 'official...     3326366        4507   \n",
       "2  ['The Book of Daniel', 'Christian Trailer', 'C...     4965302       34031   \n",
       "3  ['el', 'libro', 'de', 'eli', 'trailer', 'españ...      222943         407   \n",
       "4  ['movieclips', 'movieclipstrailers', 'new trai...     1972376        9846   \n",
       "\n",
       "   dislike_count  comment_count  tmdb_id  similarity_score weekday_released  \\\n",
       "0            358            533    20504          0.401822           Monday   \n",
       "1            322           1982    20504          0.500000           Monday   \n",
       "2           1539           1327    20504          0.403951           Monday   \n",
       "3             34              9    20504          0.100000           Monday   \n",
       "4            226            264    32856          0.261818         Thursday   \n",
       "\n",
       "   month_released  day_released  year_released  \n",
       "0               1            11           2010  \n",
       "1               1            11           2010  \n",
       "2               1            11           2010  \n",
       "3               1            11           2010  \n",
       "4               2            11           2010  "
      ],
      "text/html": "<div>\n<style scoped>\n    .dataframe tbody tr th:only-of-type {\n        vertical-align: middle;\n    }\n\n    .dataframe tbody tr th {\n        vertical-align: top;\n    }\n\n    .dataframe thead th {\n        text-align: right;\n    }\n</style>\n<table border=\"1\" class=\"dataframe\">\n  <thead>\n    <tr style=\"text-align: right;\">\n      <th></th>\n      <th>youtube_id</th>\n      <th>trailer_title</th>\n      <th>channel_title</th>\n      <th>channel_id</th>\n      <th>description</th>\n      <th>trailer_release_date</th>\n      <th>tags</th>\n      <th>view_count</th>\n      <th>like_count</th>\n      <th>dislike_count</th>\n      <th>comment_count</th>\n      <th>tmdb_id</th>\n      <th>similarity_score</th>\n      <th>weekday_released</th>\n      <th>month_released</th>\n      <th>day_released</th>\n      <th>year_released</th>\n    </tr>\n  </thead>\n  <tbody>\n    <tr>\n      <th>0</th>\n      <td>zSMHmtaoXtI</td>\n      <td>The Book of Eli (2010) Official Trailer - Denz...</td>\n      <td>Movieclips Classic Trailers</td>\n      <td>UCTCjFFoX1un-j7ni4B6HJ3Q</td>\n      <td>The Book of Eli (2010) Official Trailer - Denz...</td>\n      <td>2014-02-08T00:56:40Z</td>\n      <td>['movieclips', 'movie clips', 'movieclipstrail...</td>\n      <td>1850082</td>\n      <td>6847</td>\n      <td>358</td>\n      <td>533</td>\n      <td>20504</td>\n      <td>0.401822</td>\n      <td>Monday</td>\n      <td>1</td>\n      <td>11</td>\n      <td>2010</td>\n    </tr>\n    <tr>\n      <th>1</th>\n      <td>kAMUv22y1og</td>\n      <td>\"The Book of Eli\" - Official Trailer [HD HQ]</td>\n      <td>watchCulturetainment</td>\n      <td>UCuJXQzdMnQuNGkYJqgIwb-w</td>\n      <td>Coming to theatres on January 15, 2010\\r\\nStar...</td>\n      <td>2009-08-04T21:39:20Z</td>\n      <td>['the', 'book', 'of', 'eli', 'film', 'official...</td>\n      <td>3326366</td>\n      <td>4507</td>\n      <td>322</td>\n      <td>1982</td>\n      <td>20504</td>\n      <td>0.500000</td>\n      <td>Monday</td>\n      <td>1</td>\n      <td>11</td>\n      <td>2010</td>\n    </tr>\n    <tr>\n      <th>2</th>\n      <td>GcVja9u9UKA</td>\n      <td>The Book of Daniel - Official Trailer</td>\n      <td>Pure Flix</td>\n      <td>UCUEBVx8KL_IHTJfWYv-J3DA</td>\n      <td>The Book of Daniel: Taken into slavery after t...</td>\n      <td>2013-08-19T17:03:46Z</td>\n      <td>['The Book of Daniel', 'Christian Trailer', 'C...</td>\n      <td>4965302</td>\n      <td>34031</td>\n      <td>1539</td>\n      <td>1327</td>\n      <td>20504</td>\n      <td>0.403951</td>\n      <td>Monday</td>\n      <td>1</td>\n      <td>11</td>\n      <td>2010</td>\n    </tr>\n    <tr>\n      <th>3</th>\n      <td>c-hSjx1PzKU</td>\n      <td>El Libro De Eli - Trailer Español</td>\n      <td>Javier Perez</td>\n      <td>UC09K-LEq5S1290bdF3XstaQ</td>\n      <td>El Libro De Eli - Trailer Español - www.GranIl...</td>\n      <td>2010-03-21T13:07:47Z</td>\n      <td>['el', 'libro', 'de', 'eli', 'trailer', 'españ...</td>\n      <td>222943</td>\n      <td>407</td>\n      <td>34</td>\n      <td>9</td>\n      <td>20504</td>\n      <td>0.100000</td>\n      <td>Monday</td>\n      <td>1</td>\n      <td>11</td>\n      <td>2010</td>\n    </tr>\n    <tr>\n      <th>4</th>\n      <td>1K45RdE2qlk</td>\n      <td>Valentine's Day (2010) Official Trailer - Juli...</td>\n      <td>Movieclips Classic Trailers</td>\n      <td>UCTCjFFoX1un-j7ni4B6HJ3Q</td>\n      <td>Valentine's Day (2010) Official Trailer - Juli...</td>\n      <td>2014-02-11T17:19:59Z</td>\n      <td>['movieclips', 'movieclipstrailers', 'new trai...</td>\n      <td>1972376</td>\n      <td>9846</td>\n      <td>226</td>\n      <td>264</td>\n      <td>32856</td>\n      <td>0.261818</td>\n      <td>Thursday</td>\n      <td>2</td>\n      <td>11</td>\n      <td>2010</td>\n    </tr>\n  </tbody>\n</table>\n</div>"
     },
     "metadata": {},
     "execution_count": 7
    }
   ],
   "source": [
    "trailers = trailers.merge(release_dates, on='tmdb_id')\n",
    "trailers.head()"
   ]
  },
  {
   "cell_type": "code",
   "execution_count": 8,
   "metadata": {},
   "outputs": [],
   "source": [
    "import datetime\n",
    "def release_timeline(series_object):\n",
    "    day_movie_released = series_object['day_released']\n",
    "    month_movie_released = series_object['month_released']\n",
    "    year_movie_released = series_object['year_released']\n",
    "    trailer_release_date = series_object['trailer_release_date']\n",
    "    if year_movie_released > 0:\n",
    "        movie_release_date_rcf3339 = datetime.datetime(year_movie_released, month_movie_released, day_movie_released)\n",
    "        trailer_release_date = datetime.datetime.strptime(trailer_release_date, '%Y-%m-%dT%H:%M:%SZ')\n",
    "        return (movie_release_date_rcf3339 - trailer_release_date).days\n",
    "    return datetime.timedelta().days"
   ]
  },
  {
   "cell_type": "code",
   "execution_count": 9,
   "metadata": {},
   "outputs": [],
   "source": [
    "trailers['release_date_difference'] = trailers.apply(release_timeline, axis=1)"
   ]
  },
  {
   "cell_type": "code",
   "execution_count": 10,
   "metadata": {},
   "outputs": [
    {
     "output_type": "execute_result",
     "data": {
      "text/plain": [
       "     youtube_id                                      trailer_title  \\\n",
       "1   kAMUv22y1og       \"The Book of Eli\" - Official Trailer [HD HQ]   \n",
       "7   gPmMkDaEJUw                            Valentine's Day Trailer   \n",
       "10  5iaYLCiq5RM           \"Shutter Island\" - Official Trailer [HD]   \n",
       "12  t0irhIPypLY                          Shutter Island Trailer HD   \n",
       "16  xko1Mx5w4tg  Percy Jackson & the Olympians: The Lightning T...   \n",
       "\n",
       "           channel_title                channel_id  \\\n",
       "1   watchCulturetainment  UCuJXQzdMnQuNGkYJqgIwb-w   \n",
       "7         Warner Bros NL  UCtS8hD5lhZTgHZAKeD89CFA   \n",
       "10  watchCulturetainment  UCuJXQzdMnQuNGkYJqgIwb-w   \n",
       "12          GavsTrailers  UCEMZ7b75GBKVhaMdU_i0Mlw   \n",
       "16             vuk vucko  UC1anlenXp6oHQA1M_BVWCfQ   \n",
       "\n",
       "                                          description  trailer_release_date  \\\n",
       "1   Coming to theatres on January 15, 2010\\r\\nStar...  2009-08-04T21:39:20Z   \n",
       "7   Valentine's Day draait vanaf 11 februari in de...  2010-02-08T09:51:12Z   \n",
       "10  For even darker trailers, visit now http://www...  2009-10-16T10:40:12Z   \n",
       "12  Great movie news and blogs at... http://www.sq...  2009-10-03T21:24:52Z   \n",
       "16  It's the 21st century, but the gods of Mount O...  2009-11-24T06:08:07Z   \n",
       "\n",
       "                                                 tags  view_count  like_count  \\\n",
       "1   ['the', 'book', 'of', 'eli', 'film', 'official...     3326366        4507   \n",
       "7   [\"Valentine's Day\", 'Valentine', 'Valentijnsda...      117902         112   \n",
       "10  ['shutter', 'island', 'film', 'movie', 'offici...    11618472       43123   \n",
       "12  ['shutter', 'island', 'leanardo', 'di', 'caprio']         553           0   \n",
       "16  ['Percy', 'Jackson', 'the', 'Olympians:', 'The...     6868615       17149   \n",
       "\n",
       "    dislike_count  comment_count  tmdb_id  similarity_score weekday_released  \\\n",
       "1             322           1982    20504          0.500000           Monday   \n",
       "7              14             11    32856          0.411290         Thursday   \n",
       "10           1015           5309    11324          0.534921         Thursday   \n",
       "12              0              0    11324          0.463265         Thursday   \n",
       "16           1296           6430    32657          0.499351         Thursday   \n",
       "\n",
       "    month_released  day_released  year_released  release_date_difference  \n",
       "1                1            11           2010                      159  \n",
       "7                2            11           2010                        2  \n",
       "10               2            18           2010                      124  \n",
       "12               2            18           2010                      137  \n",
       "16               2            11           2010                       78  "
      ],
      "text/html": "<div>\n<style scoped>\n    .dataframe tbody tr th:only-of-type {\n        vertical-align: middle;\n    }\n\n    .dataframe tbody tr th {\n        vertical-align: top;\n    }\n\n    .dataframe thead th {\n        text-align: right;\n    }\n</style>\n<table border=\"1\" class=\"dataframe\">\n  <thead>\n    <tr style=\"text-align: right;\">\n      <th></th>\n      <th>youtube_id</th>\n      <th>trailer_title</th>\n      <th>channel_title</th>\n      <th>channel_id</th>\n      <th>description</th>\n      <th>trailer_release_date</th>\n      <th>tags</th>\n      <th>view_count</th>\n      <th>like_count</th>\n      <th>dislike_count</th>\n      <th>comment_count</th>\n      <th>tmdb_id</th>\n      <th>similarity_score</th>\n      <th>weekday_released</th>\n      <th>month_released</th>\n      <th>day_released</th>\n      <th>year_released</th>\n      <th>release_date_difference</th>\n    </tr>\n  </thead>\n  <tbody>\n    <tr>\n      <th>1</th>\n      <td>kAMUv22y1og</td>\n      <td>\"The Book of Eli\" - Official Trailer [HD HQ]</td>\n      <td>watchCulturetainment</td>\n      <td>UCuJXQzdMnQuNGkYJqgIwb-w</td>\n      <td>Coming to theatres on January 15, 2010\\r\\nStar...</td>\n      <td>2009-08-04T21:39:20Z</td>\n      <td>['the', 'book', 'of', 'eli', 'film', 'official...</td>\n      <td>3326366</td>\n      <td>4507</td>\n      <td>322</td>\n      <td>1982</td>\n      <td>20504</td>\n      <td>0.500000</td>\n      <td>Monday</td>\n      <td>1</td>\n      <td>11</td>\n      <td>2010</td>\n      <td>159</td>\n    </tr>\n    <tr>\n      <th>7</th>\n      <td>gPmMkDaEJUw</td>\n      <td>Valentine's Day Trailer</td>\n      <td>Warner Bros NL</td>\n      <td>UCtS8hD5lhZTgHZAKeD89CFA</td>\n      <td>Valentine's Day draait vanaf 11 februari in de...</td>\n      <td>2010-02-08T09:51:12Z</td>\n      <td>[\"Valentine's Day\", 'Valentine', 'Valentijnsda...</td>\n      <td>117902</td>\n      <td>112</td>\n      <td>14</td>\n      <td>11</td>\n      <td>32856</td>\n      <td>0.411290</td>\n      <td>Thursday</td>\n      <td>2</td>\n      <td>11</td>\n      <td>2010</td>\n      <td>2</td>\n    </tr>\n    <tr>\n      <th>10</th>\n      <td>5iaYLCiq5RM</td>\n      <td>\"Shutter Island\" - Official Trailer [HD]</td>\n      <td>watchCulturetainment</td>\n      <td>UCuJXQzdMnQuNGkYJqgIwb-w</td>\n      <td>For even darker trailers, visit now http://www...</td>\n      <td>2009-10-16T10:40:12Z</td>\n      <td>['shutter', 'island', 'film', 'movie', 'offici...</td>\n      <td>11618472</td>\n      <td>43123</td>\n      <td>1015</td>\n      <td>5309</td>\n      <td>11324</td>\n      <td>0.534921</td>\n      <td>Thursday</td>\n      <td>2</td>\n      <td>18</td>\n      <td>2010</td>\n      <td>124</td>\n    </tr>\n    <tr>\n      <th>12</th>\n      <td>t0irhIPypLY</td>\n      <td>Shutter Island Trailer HD</td>\n      <td>GavsTrailers</td>\n      <td>UCEMZ7b75GBKVhaMdU_i0Mlw</td>\n      <td>Great movie news and blogs at... http://www.sq...</td>\n      <td>2009-10-03T21:24:52Z</td>\n      <td>['shutter', 'island', 'leanardo', 'di', 'caprio']</td>\n      <td>553</td>\n      <td>0</td>\n      <td>0</td>\n      <td>0</td>\n      <td>11324</td>\n      <td>0.463265</td>\n      <td>Thursday</td>\n      <td>2</td>\n      <td>18</td>\n      <td>2010</td>\n      <td>137</td>\n    </tr>\n    <tr>\n      <th>16</th>\n      <td>xko1Mx5w4tg</td>\n      <td>Percy Jackson &amp; the Olympians: The Lightning T...</td>\n      <td>vuk vucko</td>\n      <td>UC1anlenXp6oHQA1M_BVWCfQ</td>\n      <td>It's the 21st century, but the gods of Mount O...</td>\n      <td>2009-11-24T06:08:07Z</td>\n      <td>['Percy', 'Jackson', 'the', 'Olympians:', 'The...</td>\n      <td>6868615</td>\n      <td>17149</td>\n      <td>1296</td>\n      <td>6430</td>\n      <td>32657</td>\n      <td>0.499351</td>\n      <td>Thursday</td>\n      <td>2</td>\n      <td>11</td>\n      <td>2010</td>\n      <td>78</td>\n    </tr>\n  </tbody>\n</table>\n</div>"
     },
     "metadata": {},
     "execution_count": 10
    }
   ],
   "source": [
    "trailers = trailers.loc[((trailers['release_date_difference'] > 0) & (trailers['release_date_difference'] < 365))]\n",
    "trailers.head()"
   ]
  },
  {
   "source": [
    "## Apply Grouping on Trailers Data"
   ],
   "cell_type": "markdown",
   "metadata": {}
  },
  {
   "cell_type": "code",
   "execution_count": 11,
   "metadata": {},
   "outputs": [
    {
     "output_type": "execute_result",
     "data": {
      "text/plain": [
       "                                                                    view_count  \\\n",
       "tmdb_id weekday_released day_released month_released year_released               \n",
       "189     Friday           22           8              2014              9997365   \n",
       "1771    Friday           22           7              2011             13296177   \n",
       "1865    Friday           20           5              2011             19923292   \n",
       "1930    Tuesday          3            7              2012             21112870   \n",
       "9543    Thursday         27           5              2010              6151541   \n",
       "\n",
       "                                                                    like_count  \\\n",
       "tmdb_id weekday_released day_released month_released year_released               \n",
       "189     Friday           22           8              2014                30385   \n",
       "1771    Friday           22           7              2011                65271   \n",
       "1865    Friday           20           5              2011                56913   \n",
       "1930    Tuesday          3            7              2012                74661   \n",
       "9543    Thursday         27           5              2010                13884   \n",
       "\n",
       "                                                                    dislike_count  \\\n",
       "tmdb_id weekday_released day_released month_released year_released                  \n",
       "189     Friday           22           8              2014                    1943   \n",
       "1771    Friday           22           7              2011                    1571   \n",
       "1865    Friday           20           5              2011                    1563   \n",
       "1930    Tuesday          3            7              2012                    7717   \n",
       "9543    Thursday         27           5              2010                     682   \n",
       "\n",
       "                                                                    comment_count  \n",
       "tmdb_id weekday_released day_released month_released year_released                 \n",
       "189     Friday           22           8              2014                    2790  \n",
       "1771    Friday           22           7              2011                    8698  \n",
       "1865    Friday           20           5              2011                   11038  \n",
       "1930    Tuesday          3            7              2012                   26514  \n",
       "9543    Thursday         27           5              2010                    1470  "
      ],
      "text/html": "<div>\n<style scoped>\n    .dataframe tbody tr th:only-of-type {\n        vertical-align: middle;\n    }\n\n    .dataframe tbody tr th {\n        vertical-align: top;\n    }\n\n    .dataframe thead th {\n        text-align: right;\n    }\n</style>\n<table border=\"1\" class=\"dataframe\">\n  <thead>\n    <tr style=\"text-align: right;\">\n      <th></th>\n      <th></th>\n      <th></th>\n      <th></th>\n      <th></th>\n      <th>view_count</th>\n      <th>like_count</th>\n      <th>dislike_count</th>\n      <th>comment_count</th>\n    </tr>\n    <tr>\n      <th>tmdb_id</th>\n      <th>weekday_released</th>\n      <th>day_released</th>\n      <th>month_released</th>\n      <th>year_released</th>\n      <th></th>\n      <th></th>\n      <th></th>\n      <th></th>\n    </tr>\n  </thead>\n  <tbody>\n    <tr>\n      <th>189</th>\n      <th>Friday</th>\n      <th>22</th>\n      <th>8</th>\n      <th>2014</th>\n      <td>9997365</td>\n      <td>30385</td>\n      <td>1943</td>\n      <td>2790</td>\n    </tr>\n    <tr>\n      <th>1771</th>\n      <th>Friday</th>\n      <th>22</th>\n      <th>7</th>\n      <th>2011</th>\n      <td>13296177</td>\n      <td>65271</td>\n      <td>1571</td>\n      <td>8698</td>\n    </tr>\n    <tr>\n      <th>1865</th>\n      <th>Friday</th>\n      <th>20</th>\n      <th>5</th>\n      <th>2011</th>\n      <td>19923292</td>\n      <td>56913</td>\n      <td>1563</td>\n      <td>11038</td>\n    </tr>\n    <tr>\n      <th>1930</th>\n      <th>Tuesday</th>\n      <th>3</th>\n      <th>7</th>\n      <th>2012</th>\n      <td>21112870</td>\n      <td>74661</td>\n      <td>7717</td>\n      <td>26514</td>\n    </tr>\n    <tr>\n      <th>9543</th>\n      <th>Thursday</th>\n      <th>27</th>\n      <th>5</th>\n      <th>2010</th>\n      <td>6151541</td>\n      <td>13884</td>\n      <td>682</td>\n      <td>1470</td>\n    </tr>\n  </tbody>\n</table>\n</div>"
     },
     "metadata": {},
     "execution_count": 11
    }
   ],
   "source": [
    "trailers = trailers.groupby(['tmdb_id', 'weekday_released', 'day_released', 'month_released', 'year_released']).sum().drop(columns=['similarity_score', 'release_date_difference'])\n",
    "trailers.head()"
   ]
  },
  {
   "source": [
    "Now we have the total of views, likes, dislikes, and comments for each movie's trailer(s)"
   ],
   "cell_type": "markdown",
   "metadata": {}
  },
  {
   "cell_type": "code",
   "execution_count": 12,
   "metadata": {},
   "outputs": [
    {
     "output_type": "stream",
     "name": "stdout",
     "text": [
      "(650, 17)\n"
     ]
    },
    {
     "output_type": "execute_result",
     "data": {
      "text/plain": [
       "   movie_id                                              title  \\\n",
       "0     73321                                    The Book of Eli   \n",
       "1     74450                                    Valentine's Day   \n",
       "2     74458                                     Shutter Island   \n",
       "3     74530  Percy Jackson & the Olympians: The Lightning T...   \n",
       "4     74688                                          Dear John   \n",
       "\n",
       "                   genres  imdb_id  tmdb_id  year      budget  vote_count  \\\n",
       "0  Action|Adventure|Drama  1037705    20504  2010  80000000.0      4303.0   \n",
       "1          Comedy|Romance   817230    32856  2010  52000000.0      2323.0   \n",
       "2  Drama|Mystery|Thriller  1130884    11324  2010  80000000.0     16456.0   \n",
       "3       Adventure|Fantasy   814255    32657  2010  95000000.0      5399.0   \n",
       "4       Drama|Romance|War   989757    22971  2010  25000000.0      3226.0   \n",
       "\n",
       "   vote_average      revenue  runtime  popularity  \\\n",
       "0           6.7  157107755.0    118.0      24.843   \n",
       "1           5.9  216485654.0    125.0      16.444   \n",
       "2           8.2  294804195.0    138.0      35.806   \n",
       "3           6.2  226497209.0    119.0      44.193   \n",
       "4           6.8  114977104.0    115.0      19.448   \n",
       "\n",
       "                                            overview  view_count  like_count  \\\n",
       "0  A post-apocalyptic tale, in which a lone man f...     3326366        4507   \n",
       "1  More than a dozen Angelenos navigate Valentine...      117902         112   \n",
       "2  World War II soldier-turned-U.S. Marshal Teddy...    11619025       43123   \n",
       "3  Accident prone teenager, Percy discovers he's ...     7424212       18935   \n",
       "4  While Sergeant John Tyree is home on two weeks...    12783196       43389   \n",
       "\n",
       "   dislike_count  comment_count  \n",
       "0            322           1982  \n",
       "1             14             11  \n",
       "2           1015           5309  \n",
       "3           1421           6705  \n",
       "4            970           4492  "
      ],
      "text/html": "<div>\n<style scoped>\n    .dataframe tbody tr th:only-of-type {\n        vertical-align: middle;\n    }\n\n    .dataframe tbody tr th {\n        vertical-align: top;\n    }\n\n    .dataframe thead th {\n        text-align: right;\n    }\n</style>\n<table border=\"1\" class=\"dataframe\">\n  <thead>\n    <tr style=\"text-align: right;\">\n      <th></th>\n      <th>movie_id</th>\n      <th>title</th>\n      <th>genres</th>\n      <th>imdb_id</th>\n      <th>tmdb_id</th>\n      <th>year</th>\n      <th>budget</th>\n      <th>vote_count</th>\n      <th>vote_average</th>\n      <th>revenue</th>\n      <th>runtime</th>\n      <th>popularity</th>\n      <th>overview</th>\n      <th>view_count</th>\n      <th>like_count</th>\n      <th>dislike_count</th>\n      <th>comment_count</th>\n    </tr>\n  </thead>\n  <tbody>\n    <tr>\n      <th>0</th>\n      <td>73321</td>\n      <td>The Book of Eli</td>\n      <td>Action|Adventure|Drama</td>\n      <td>1037705</td>\n      <td>20504</td>\n      <td>2010</td>\n      <td>80000000.0</td>\n      <td>4303.0</td>\n      <td>6.7</td>\n      <td>157107755.0</td>\n      <td>118.0</td>\n      <td>24.843</td>\n      <td>A post-apocalyptic tale, in which a lone man f...</td>\n      <td>3326366</td>\n      <td>4507</td>\n      <td>322</td>\n      <td>1982</td>\n    </tr>\n    <tr>\n      <th>1</th>\n      <td>74450</td>\n      <td>Valentine's Day</td>\n      <td>Comedy|Romance</td>\n      <td>817230</td>\n      <td>32856</td>\n      <td>2010</td>\n      <td>52000000.0</td>\n      <td>2323.0</td>\n      <td>5.9</td>\n      <td>216485654.0</td>\n      <td>125.0</td>\n      <td>16.444</td>\n      <td>More than a dozen Angelenos navigate Valentine...</td>\n      <td>117902</td>\n      <td>112</td>\n      <td>14</td>\n      <td>11</td>\n    </tr>\n    <tr>\n      <th>2</th>\n      <td>74458</td>\n      <td>Shutter Island</td>\n      <td>Drama|Mystery|Thriller</td>\n      <td>1130884</td>\n      <td>11324</td>\n      <td>2010</td>\n      <td>80000000.0</td>\n      <td>16456.0</td>\n      <td>8.2</td>\n      <td>294804195.0</td>\n      <td>138.0</td>\n      <td>35.806</td>\n      <td>World War II soldier-turned-U.S. Marshal Teddy...</td>\n      <td>11619025</td>\n      <td>43123</td>\n      <td>1015</td>\n      <td>5309</td>\n    </tr>\n    <tr>\n      <th>3</th>\n      <td>74530</td>\n      <td>Percy Jackson &amp; the Olympians: The Lightning T...</td>\n      <td>Adventure|Fantasy</td>\n      <td>814255</td>\n      <td>32657</td>\n      <td>2010</td>\n      <td>95000000.0</td>\n      <td>5399.0</td>\n      <td>6.2</td>\n      <td>226497209.0</td>\n      <td>119.0</td>\n      <td>44.193</td>\n      <td>Accident prone teenager, Percy discovers he's ...</td>\n      <td>7424212</td>\n      <td>18935</td>\n      <td>1421</td>\n      <td>6705</td>\n    </tr>\n    <tr>\n      <th>4</th>\n      <td>74688</td>\n      <td>Dear John</td>\n      <td>Drama|Romance|War</td>\n      <td>989757</td>\n      <td>22971</td>\n      <td>2010</td>\n      <td>25000000.0</td>\n      <td>3226.0</td>\n      <td>6.8</td>\n      <td>114977104.0</td>\n      <td>115.0</td>\n      <td>19.448</td>\n      <td>While Sergeant John Tyree is home on two weeks...</td>\n      <td>12783196</td>\n      <td>43389</td>\n      <td>970</td>\n      <td>4492</td>\n    </tr>\n  </tbody>\n</table>\n</div>"
     },
     "metadata": {},
     "execution_count": 12
    }
   ],
   "source": [
    "movies = movies.merge(trailers, on='tmdb_id')\n",
    "print(movies.shape)\n",
    "movies.head()"
   ]
  },
  {
   "cell_type": "code",
   "execution_count": 13,
   "metadata": {},
   "outputs": [
    {
     "output_type": "execute_result",
     "data": {
      "text/plain": [
       "0"
      ]
     },
     "metadata": {},
     "execution_count": 13
    }
   ],
   "source": [
    "movies.duplicated().sum()"
   ]
  },
  {
   "source": [
    "## How is our data disributed across the decade?"
   ],
   "cell_type": "markdown",
   "metadata": {}
  },
  {
   "cell_type": "code",
   "execution_count": 14,
   "metadata": {},
   "outputs": [
    {
     "output_type": "execute_result",
     "data": {
      "text/plain": [
       "2010    48\n",
       "2011    59\n",
       "2012    65\n",
       "2013    87\n",
       "2014    72\n",
       "2015    72\n",
       "2016    86\n",
       "2017    71\n",
       "2018    55\n",
       "2019    35\n",
       "Name: year, dtype: int64"
      ]
     },
     "metadata": {},
     "execution_count": 14
    }
   ],
   "source": [
    "years_count = movies['year'].value_counts().sort_index()\n",
    "years_count"
   ]
  },
  {
   "cell_type": "code",
   "execution_count": 15,
   "metadata": {},
   "outputs": [
    {
     "output_type": "execute_result",
     "data": {
      "text/plain": [
       "Text(0.5, 1.0, 'Number of films from each year in the decade')"
      ]
     },
     "metadata": {},
     "execution_count": 15
    },
    {
     "output_type": "display_data",
     "data": {
      "text/plain": "<Figure size 432x288 with 1 Axes>",
      "image/svg+xml": "<?xml version=\"1.0\" encoding=\"utf-8\" standalone=\"no\"?>\r\n<!DOCTYPE svg PUBLIC \"-//W3C//DTD SVG 1.1//EN\"\r\n  \"http://www.w3.org/Graphics/SVG/1.1/DTD/svg11.dtd\">\r\n<!-- Created with matplotlib (https://matplotlib.org/) -->\r\n<svg height=\"277.314375pt\" version=\"1.1\" viewBox=\"0 0 382.603125 277.314375\" width=\"382.603125pt\" xmlns=\"http://www.w3.org/2000/svg\" xmlns:xlink=\"http://www.w3.org/1999/xlink\">\r\n <metadata>\r\n  <rdf:RDF xmlns:cc=\"http://creativecommons.org/ns#\" xmlns:dc=\"http://purl.org/dc/elements/1.1/\" xmlns:rdf=\"http://www.w3.org/1999/02/22-rdf-syntax-ns#\">\r\n   <cc:Work>\r\n    <dc:type rdf:resource=\"http://purl.org/dc/dcmitype/StillImage\"/>\r\n    <dc:date>2020-11-18T16:27:03.181148</dc:date>\r\n    <dc:format>image/svg+xml</dc:format>\r\n    <dc:creator>\r\n     <cc:Agent>\r\n      <dc:title>Matplotlib v3.3.2, https://matplotlib.org/</dc:title>\r\n     </cc:Agent>\r\n    </dc:creator>\r\n   </cc:Work>\r\n  </rdf:RDF>\r\n </metadata>\r\n <defs>\r\n  <style type=\"text/css\">*{stroke-linecap:butt;stroke-linejoin:round;}</style>\r\n </defs>\r\n <g id=\"figure_1\">\r\n  <g id=\"patch_1\">\r\n   <path d=\"M 0 277.314375 \r\nL 382.603125 277.314375 \r\nL 382.603125 0 \r\nL 0 0 \r\nz\r\n\" style=\"fill:none;\"/>\r\n  </g>\r\n  <g id=\"axes_1\">\r\n   <g id=\"patch_2\">\r\n    <path d=\"M 40.603125 239.758125 \r\nL 375.403125 239.758125 \r\nL 375.403125 22.318125 \r\nL 40.603125 22.318125 \r\nz\r\n\" style=\"fill:#ffffff;\"/>\r\n   </g>\r\n   <g id=\"patch_3\">\r\n    <path clip-path=\"url(#p21629a6e36)\" d=\"M 55.821307 239.758125 \r\nL 80.667318 239.758125 \r\nL 80.667318 125.503938 \r\nL 55.821307 125.503938 \r\nz\r\n\" style=\"fill:#1f77b4;\"/>\r\n   </g>\r\n   <g id=\"patch_4\">\r\n    <path clip-path=\"url(#p21629a6e36)\" d=\"M 86.878821 239.758125 \r\nL 111.724832 239.758125 \r\nL 111.724832 99.320687 \r\nL 86.878821 99.320687 \r\nz\r\n\" style=\"fill:#1f77b4;\"/>\r\n   </g>\r\n   <g id=\"patch_5\">\r\n    <path clip-path=\"url(#p21629a6e36)\" d=\"M 117.936335 239.758125 \r\nL 142.782346 239.758125 \r\nL 142.782346 85.038913 \r\nL 117.936335 85.038913 \r\nz\r\n\" style=\"fill:#1f77b4;\"/>\r\n   </g>\r\n   <g id=\"patch_6\">\r\n    <path clip-path=\"url(#p21629a6e36)\" d=\"M 148.993849 239.758125 \r\nL 173.83986 239.758125 \r\nL 173.83986 32.672411 \r\nL 148.993849 32.672411 \r\nz\r\n\" style=\"fill:#1f77b4;\"/>\r\n   </g>\r\n   <g id=\"patch_7\">\r\n    <path clip-path=\"url(#p21629a6e36)\" d=\"M 180.051362 239.758125 \r\nL 204.897374 239.758125 \r\nL 204.897374 68.376844 \r\nL 180.051362 68.376844 \r\nz\r\n\" style=\"fill:#1f77b4;\"/>\r\n   </g>\r\n   <g id=\"patch_8\">\r\n    <path clip-path=\"url(#p21629a6e36)\" d=\"M 211.108876 239.758125 \r\nL 235.954888 239.758125 \r\nL 235.954888 68.376844 \r\nL 211.108876 68.376844 \r\nz\r\n\" style=\"fill:#1f77b4;\"/>\r\n   </g>\r\n   <g id=\"patch_9\">\r\n    <path clip-path=\"url(#p21629a6e36)\" d=\"M 242.16639 239.758125 \r\nL 267.012401 239.758125 \r\nL 267.012401 35.052706 \r\nL 242.16639 35.052706 \r\nz\r\n\" style=\"fill:#1f77b4;\"/>\r\n   </g>\r\n   <g id=\"patch_10\">\r\n    <path clip-path=\"url(#p21629a6e36)\" d=\"M 273.223904 239.758125 \r\nL 298.069915 239.758125 \r\nL 298.069915 70.75714 \r\nL 273.223904 70.75714 \r\nz\r\n\" style=\"fill:#1f77b4;\"/>\r\n   </g>\r\n   <g id=\"patch_11\">\r\n    <path clip-path=\"url(#p21629a6e36)\" d=\"M 304.281418 239.758125 \r\nL 329.127429 239.758125 \r\nL 329.127429 108.841869 \r\nL 304.281418 108.841869 \r\nz\r\n\" style=\"fill:#1f77b4;\"/>\r\n   </g>\r\n   <g id=\"patch_12\">\r\n    <path clip-path=\"url(#p21629a6e36)\" d=\"M 335.338932 239.758125 \r\nL 360.184943 239.758125 \r\nL 360.184943 156.44778 \r\nL 335.338932 156.44778 \r\nz\r\n\" style=\"fill:#1f77b4;\"/>\r\n   </g>\r\n   <g id=\"matplotlib.axis_1\">\r\n    <g id=\"xtick_1\">\r\n     <g id=\"line2d_1\">\r\n      <defs>\r\n       <path d=\"M 0 0 \r\nL 0 3.5 \r\n\" id=\"m3e3313813d\" style=\"stroke:#000000;stroke-width:0.8;\"/>\r\n      </defs>\r\n      <g>\r\n       <use style=\"stroke:#000000;stroke-width:0.8;\" x=\"68.244312\" xlink:href=\"#m3e3313813d\" y=\"239.758125\"/>\r\n      </g>\r\n     </g>\r\n     <g id=\"text_1\">\r\n      <!-- 2010 -->\r\n      <g transform=\"translate(55.519312 254.356562)scale(0.1 -0.1)\">\r\n       <defs>\r\n        <path d=\"M 19.1875 8.296875 \r\nL 53.609375 8.296875 \r\nL 53.609375 0 \r\nL 7.328125 0 \r\nL 7.328125 8.296875 \r\nQ 12.9375 14.109375 22.625 23.890625 \r\nQ 32.328125 33.6875 34.8125 36.53125 \r\nQ 39.546875 41.84375 41.421875 45.53125 \r\nQ 43.3125 49.21875 43.3125 52.78125 \r\nQ 43.3125 58.59375 39.234375 62.25 \r\nQ 35.15625 65.921875 28.609375 65.921875 \r\nQ 23.96875 65.921875 18.8125 64.3125 \r\nQ 13.671875 62.703125 7.8125 59.421875 \r\nL 7.8125 69.390625 \r\nQ 13.765625 71.78125 18.9375 73 \r\nQ 24.125 74.21875 28.421875 74.21875 \r\nQ 39.75 74.21875 46.484375 68.546875 \r\nQ 53.21875 62.890625 53.21875 53.421875 \r\nQ 53.21875 48.921875 51.53125 44.890625 \r\nQ 49.859375 40.875 45.40625 35.40625 \r\nQ 44.1875 33.984375 37.640625 27.21875 \r\nQ 31.109375 20.453125 19.1875 8.296875 \r\nz\r\n\" id=\"DejaVuSans-50\"/>\r\n        <path d=\"M 31.78125 66.40625 \r\nQ 24.171875 66.40625 20.328125 58.90625 \r\nQ 16.5 51.421875 16.5 36.375 \r\nQ 16.5 21.390625 20.328125 13.890625 \r\nQ 24.171875 6.390625 31.78125 6.390625 \r\nQ 39.453125 6.390625 43.28125 13.890625 \r\nQ 47.125 21.390625 47.125 36.375 \r\nQ 47.125 51.421875 43.28125 58.90625 \r\nQ 39.453125 66.40625 31.78125 66.40625 \r\nz\r\nM 31.78125 74.21875 \r\nQ 44.046875 74.21875 50.515625 64.515625 \r\nQ 56.984375 54.828125 56.984375 36.375 \r\nQ 56.984375 17.96875 50.515625 8.265625 \r\nQ 44.046875 -1.421875 31.78125 -1.421875 \r\nQ 19.53125 -1.421875 13.0625 8.265625 \r\nQ 6.59375 17.96875 6.59375 36.375 \r\nQ 6.59375 54.828125 13.0625 64.515625 \r\nQ 19.53125 74.21875 31.78125 74.21875 \r\nz\r\n\" id=\"DejaVuSans-48\"/>\r\n        <path d=\"M 12.40625 8.296875 \r\nL 28.515625 8.296875 \r\nL 28.515625 63.921875 \r\nL 10.984375 60.40625 \r\nL 10.984375 69.390625 \r\nL 28.421875 72.90625 \r\nL 38.28125 72.90625 \r\nL 38.28125 8.296875 \r\nL 54.390625 8.296875 \r\nL 54.390625 0 \r\nL 12.40625 0 \r\nz\r\n\" id=\"DejaVuSans-49\"/>\r\n       </defs>\r\n       <use xlink:href=\"#DejaVuSans-50\"/>\r\n       <use x=\"63.623047\" xlink:href=\"#DejaVuSans-48\"/>\r\n       <use x=\"127.246094\" xlink:href=\"#DejaVuSans-49\"/>\r\n       <use x=\"190.869141\" xlink:href=\"#DejaVuSans-48\"/>\r\n      </g>\r\n     </g>\r\n    </g>\r\n    <g id=\"xtick_2\">\r\n     <g id=\"line2d_2\">\r\n      <g>\r\n       <use style=\"stroke:#000000;stroke-width:0.8;\" x=\"99.301826\" xlink:href=\"#m3e3313813d\" y=\"239.758125\"/>\r\n      </g>\r\n     </g>\r\n     <g id=\"text_2\">\r\n      <!-- 2011 -->\r\n      <g transform=\"translate(86.576826 254.356562)scale(0.1 -0.1)\">\r\n       <use xlink:href=\"#DejaVuSans-50\"/>\r\n       <use x=\"63.623047\" xlink:href=\"#DejaVuSans-48\"/>\r\n       <use x=\"127.246094\" xlink:href=\"#DejaVuSans-49\"/>\r\n       <use x=\"190.869141\" xlink:href=\"#DejaVuSans-49\"/>\r\n      </g>\r\n     </g>\r\n    </g>\r\n    <g id=\"xtick_3\">\r\n     <g id=\"line2d_3\">\r\n      <g>\r\n       <use style=\"stroke:#000000;stroke-width:0.8;\" x=\"130.35934\" xlink:href=\"#m3e3313813d\" y=\"239.758125\"/>\r\n      </g>\r\n     </g>\r\n     <g id=\"text_3\">\r\n      <!-- 2012 -->\r\n      <g transform=\"translate(117.63434 254.356562)scale(0.1 -0.1)\">\r\n       <use xlink:href=\"#DejaVuSans-50\"/>\r\n       <use x=\"63.623047\" xlink:href=\"#DejaVuSans-48\"/>\r\n       <use x=\"127.246094\" xlink:href=\"#DejaVuSans-49\"/>\r\n       <use x=\"190.869141\" xlink:href=\"#DejaVuSans-50\"/>\r\n      </g>\r\n     </g>\r\n    </g>\r\n    <g id=\"xtick_4\">\r\n     <g id=\"line2d_4\">\r\n      <g>\r\n       <use style=\"stroke:#000000;stroke-width:0.8;\" x=\"161.416854\" xlink:href=\"#m3e3313813d\" y=\"239.758125\"/>\r\n      </g>\r\n     </g>\r\n     <g id=\"text_4\">\r\n      <!-- 2013 -->\r\n      <g transform=\"translate(148.691854 254.356562)scale(0.1 -0.1)\">\r\n       <defs>\r\n        <path d=\"M 40.578125 39.3125 \r\nQ 47.65625 37.796875 51.625 33 \r\nQ 55.609375 28.21875 55.609375 21.1875 \r\nQ 55.609375 10.40625 48.1875 4.484375 \r\nQ 40.765625 -1.421875 27.09375 -1.421875 \r\nQ 22.515625 -1.421875 17.65625 -0.515625 \r\nQ 12.796875 0.390625 7.625 2.203125 \r\nL 7.625 11.71875 \r\nQ 11.71875 9.328125 16.59375 8.109375 \r\nQ 21.484375 6.890625 26.8125 6.890625 \r\nQ 36.078125 6.890625 40.9375 10.546875 \r\nQ 45.796875 14.203125 45.796875 21.1875 \r\nQ 45.796875 27.640625 41.28125 31.265625 \r\nQ 36.765625 34.90625 28.71875 34.90625 \r\nL 20.21875 34.90625 \r\nL 20.21875 43.015625 \r\nL 29.109375 43.015625 \r\nQ 36.375 43.015625 40.234375 45.921875 \r\nQ 44.09375 48.828125 44.09375 54.296875 \r\nQ 44.09375 59.90625 40.109375 62.90625 \r\nQ 36.140625 65.921875 28.71875 65.921875 \r\nQ 24.65625 65.921875 20.015625 65.03125 \r\nQ 15.375 64.15625 9.8125 62.3125 \r\nL 9.8125 71.09375 \r\nQ 15.4375 72.65625 20.34375 73.4375 \r\nQ 25.25 74.21875 29.59375 74.21875 \r\nQ 40.828125 74.21875 47.359375 69.109375 \r\nQ 53.90625 64.015625 53.90625 55.328125 \r\nQ 53.90625 49.265625 50.4375 45.09375 \r\nQ 46.96875 40.921875 40.578125 39.3125 \r\nz\r\n\" id=\"DejaVuSans-51\"/>\r\n       </defs>\r\n       <use xlink:href=\"#DejaVuSans-50\"/>\r\n       <use x=\"63.623047\" xlink:href=\"#DejaVuSans-48\"/>\r\n       <use x=\"127.246094\" xlink:href=\"#DejaVuSans-49\"/>\r\n       <use x=\"190.869141\" xlink:href=\"#DejaVuSans-51\"/>\r\n      </g>\r\n     </g>\r\n    </g>\r\n    <g id=\"xtick_5\">\r\n     <g id=\"line2d_5\">\r\n      <g>\r\n       <use style=\"stroke:#000000;stroke-width:0.8;\" x=\"192.474368\" xlink:href=\"#m3e3313813d\" y=\"239.758125\"/>\r\n      </g>\r\n     </g>\r\n     <g id=\"text_5\">\r\n      <!-- 2014 -->\r\n      <g transform=\"translate(179.749368 254.356562)scale(0.1 -0.1)\">\r\n       <defs>\r\n        <path d=\"M 37.796875 64.3125 \r\nL 12.890625 25.390625 \r\nL 37.796875 25.390625 \r\nz\r\nM 35.203125 72.90625 \r\nL 47.609375 72.90625 \r\nL 47.609375 25.390625 \r\nL 58.015625 25.390625 \r\nL 58.015625 17.1875 \r\nL 47.609375 17.1875 \r\nL 47.609375 0 \r\nL 37.796875 0 \r\nL 37.796875 17.1875 \r\nL 4.890625 17.1875 \r\nL 4.890625 26.703125 \r\nz\r\n\" id=\"DejaVuSans-52\"/>\r\n       </defs>\r\n       <use xlink:href=\"#DejaVuSans-50\"/>\r\n       <use x=\"63.623047\" xlink:href=\"#DejaVuSans-48\"/>\r\n       <use x=\"127.246094\" xlink:href=\"#DejaVuSans-49\"/>\r\n       <use x=\"190.869141\" xlink:href=\"#DejaVuSans-52\"/>\r\n      </g>\r\n     </g>\r\n    </g>\r\n    <g id=\"xtick_6\">\r\n     <g id=\"line2d_6\">\r\n      <g>\r\n       <use style=\"stroke:#000000;stroke-width:0.8;\" x=\"223.531882\" xlink:href=\"#m3e3313813d\" y=\"239.758125\"/>\r\n      </g>\r\n     </g>\r\n     <g id=\"text_6\">\r\n      <!-- 2015 -->\r\n      <g transform=\"translate(210.806882 254.356562)scale(0.1 -0.1)\">\r\n       <defs>\r\n        <path d=\"M 10.796875 72.90625 \r\nL 49.515625 72.90625 \r\nL 49.515625 64.59375 \r\nL 19.828125 64.59375 \r\nL 19.828125 46.734375 \r\nQ 21.96875 47.46875 24.109375 47.828125 \r\nQ 26.265625 48.1875 28.421875 48.1875 \r\nQ 40.625 48.1875 47.75 41.5 \r\nQ 54.890625 34.8125 54.890625 23.390625 \r\nQ 54.890625 11.625 47.5625 5.09375 \r\nQ 40.234375 -1.421875 26.90625 -1.421875 \r\nQ 22.3125 -1.421875 17.546875 -0.640625 \r\nQ 12.796875 0.140625 7.71875 1.703125 \r\nL 7.71875 11.625 \r\nQ 12.109375 9.234375 16.796875 8.0625 \r\nQ 21.484375 6.890625 26.703125 6.890625 \r\nQ 35.15625 6.890625 40.078125 11.328125 \r\nQ 45.015625 15.765625 45.015625 23.390625 \r\nQ 45.015625 31 40.078125 35.4375 \r\nQ 35.15625 39.890625 26.703125 39.890625 \r\nQ 22.75 39.890625 18.8125 39.015625 \r\nQ 14.890625 38.140625 10.796875 36.28125 \r\nz\r\n\" id=\"DejaVuSans-53\"/>\r\n       </defs>\r\n       <use xlink:href=\"#DejaVuSans-50\"/>\r\n       <use x=\"63.623047\" xlink:href=\"#DejaVuSans-48\"/>\r\n       <use x=\"127.246094\" xlink:href=\"#DejaVuSans-49\"/>\r\n       <use x=\"190.869141\" xlink:href=\"#DejaVuSans-53\"/>\r\n      </g>\r\n     </g>\r\n    </g>\r\n    <g id=\"xtick_7\">\r\n     <g id=\"line2d_7\">\r\n      <g>\r\n       <use style=\"stroke:#000000;stroke-width:0.8;\" x=\"254.589396\" xlink:href=\"#m3e3313813d\" y=\"239.758125\"/>\r\n      </g>\r\n     </g>\r\n     <g id=\"text_7\">\r\n      <!-- 2016 -->\r\n      <g transform=\"translate(241.864396 254.356562)scale(0.1 -0.1)\">\r\n       <defs>\r\n        <path d=\"M 33.015625 40.375 \r\nQ 26.375 40.375 22.484375 35.828125 \r\nQ 18.609375 31.296875 18.609375 23.390625 \r\nQ 18.609375 15.53125 22.484375 10.953125 \r\nQ 26.375 6.390625 33.015625 6.390625 \r\nQ 39.65625 6.390625 43.53125 10.953125 \r\nQ 47.40625 15.53125 47.40625 23.390625 \r\nQ 47.40625 31.296875 43.53125 35.828125 \r\nQ 39.65625 40.375 33.015625 40.375 \r\nz\r\nM 52.59375 71.296875 \r\nL 52.59375 62.3125 \r\nQ 48.875 64.0625 45.09375 64.984375 \r\nQ 41.3125 65.921875 37.59375 65.921875 \r\nQ 27.828125 65.921875 22.671875 59.328125 \r\nQ 17.53125 52.734375 16.796875 39.40625 \r\nQ 19.671875 43.65625 24.015625 45.921875 \r\nQ 28.375 48.1875 33.59375 48.1875 \r\nQ 44.578125 48.1875 50.953125 41.515625 \r\nQ 57.328125 34.859375 57.328125 23.390625 \r\nQ 57.328125 12.15625 50.6875 5.359375 \r\nQ 44.046875 -1.421875 33.015625 -1.421875 \r\nQ 20.359375 -1.421875 13.671875 8.265625 \r\nQ 6.984375 17.96875 6.984375 36.375 \r\nQ 6.984375 53.65625 15.1875 63.9375 \r\nQ 23.390625 74.21875 37.203125 74.21875 \r\nQ 40.921875 74.21875 44.703125 73.484375 \r\nQ 48.484375 72.75 52.59375 71.296875 \r\nz\r\n\" id=\"DejaVuSans-54\"/>\r\n       </defs>\r\n       <use xlink:href=\"#DejaVuSans-50\"/>\r\n       <use x=\"63.623047\" xlink:href=\"#DejaVuSans-48\"/>\r\n       <use x=\"127.246094\" xlink:href=\"#DejaVuSans-49\"/>\r\n       <use x=\"190.869141\" xlink:href=\"#DejaVuSans-54\"/>\r\n      </g>\r\n     </g>\r\n    </g>\r\n    <g id=\"xtick_8\">\r\n     <g id=\"line2d_8\">\r\n      <g>\r\n       <use style=\"stroke:#000000;stroke-width:0.8;\" x=\"285.64691\" xlink:href=\"#m3e3313813d\" y=\"239.758125\"/>\r\n      </g>\r\n     </g>\r\n     <g id=\"text_8\">\r\n      <!-- 2017 -->\r\n      <g transform=\"translate(272.92191 254.356562)scale(0.1 -0.1)\">\r\n       <defs>\r\n        <path d=\"M 8.203125 72.90625 \r\nL 55.078125 72.90625 \r\nL 55.078125 68.703125 \r\nL 28.609375 0 \r\nL 18.3125 0 \r\nL 43.21875 64.59375 \r\nL 8.203125 64.59375 \r\nz\r\n\" id=\"DejaVuSans-55\"/>\r\n       </defs>\r\n       <use xlink:href=\"#DejaVuSans-50\"/>\r\n       <use x=\"63.623047\" xlink:href=\"#DejaVuSans-48\"/>\r\n       <use x=\"127.246094\" xlink:href=\"#DejaVuSans-49\"/>\r\n       <use x=\"190.869141\" xlink:href=\"#DejaVuSans-55\"/>\r\n      </g>\r\n     </g>\r\n    </g>\r\n    <g id=\"xtick_9\">\r\n     <g id=\"line2d_9\">\r\n      <g>\r\n       <use style=\"stroke:#000000;stroke-width:0.8;\" x=\"316.704424\" xlink:href=\"#m3e3313813d\" y=\"239.758125\"/>\r\n      </g>\r\n     </g>\r\n     <g id=\"text_9\">\r\n      <!-- 2018 -->\r\n      <g transform=\"translate(303.979424 254.356562)scale(0.1 -0.1)\">\r\n       <defs>\r\n        <path d=\"M 31.78125 34.625 \r\nQ 24.75 34.625 20.71875 30.859375 \r\nQ 16.703125 27.09375 16.703125 20.515625 \r\nQ 16.703125 13.921875 20.71875 10.15625 \r\nQ 24.75 6.390625 31.78125 6.390625 \r\nQ 38.8125 6.390625 42.859375 10.171875 \r\nQ 46.921875 13.96875 46.921875 20.515625 \r\nQ 46.921875 27.09375 42.890625 30.859375 \r\nQ 38.875 34.625 31.78125 34.625 \r\nz\r\nM 21.921875 38.8125 \r\nQ 15.578125 40.375 12.03125 44.71875 \r\nQ 8.5 49.078125 8.5 55.328125 \r\nQ 8.5 64.0625 14.71875 69.140625 \r\nQ 20.953125 74.21875 31.78125 74.21875 \r\nQ 42.671875 74.21875 48.875 69.140625 \r\nQ 55.078125 64.0625 55.078125 55.328125 \r\nQ 55.078125 49.078125 51.53125 44.71875 \r\nQ 48 40.375 41.703125 38.8125 \r\nQ 48.828125 37.15625 52.796875 32.3125 \r\nQ 56.78125 27.484375 56.78125 20.515625 \r\nQ 56.78125 9.90625 50.3125 4.234375 \r\nQ 43.84375 -1.421875 31.78125 -1.421875 \r\nQ 19.734375 -1.421875 13.25 4.234375 \r\nQ 6.78125 9.90625 6.78125 20.515625 \r\nQ 6.78125 27.484375 10.78125 32.3125 \r\nQ 14.796875 37.15625 21.921875 38.8125 \r\nz\r\nM 18.3125 54.390625 \r\nQ 18.3125 48.734375 21.84375 45.5625 \r\nQ 25.390625 42.390625 31.78125 42.390625 \r\nQ 38.140625 42.390625 41.71875 45.5625 \r\nQ 45.3125 48.734375 45.3125 54.390625 \r\nQ 45.3125 60.0625 41.71875 63.234375 \r\nQ 38.140625 66.40625 31.78125 66.40625 \r\nQ 25.390625 66.40625 21.84375 63.234375 \r\nQ 18.3125 60.0625 18.3125 54.390625 \r\nz\r\n\" id=\"DejaVuSans-56\"/>\r\n       </defs>\r\n       <use xlink:href=\"#DejaVuSans-50\"/>\r\n       <use x=\"63.623047\" xlink:href=\"#DejaVuSans-48\"/>\r\n       <use x=\"127.246094\" xlink:href=\"#DejaVuSans-49\"/>\r\n       <use x=\"190.869141\" xlink:href=\"#DejaVuSans-56\"/>\r\n      </g>\r\n     </g>\r\n    </g>\r\n    <g id=\"xtick_10\">\r\n     <g id=\"line2d_10\">\r\n      <g>\r\n       <use style=\"stroke:#000000;stroke-width:0.8;\" x=\"347.761938\" xlink:href=\"#m3e3313813d\" y=\"239.758125\"/>\r\n      </g>\r\n     </g>\r\n     <g id=\"text_10\">\r\n      <!-- 2019 -->\r\n      <g transform=\"translate(335.036938 254.356562)scale(0.1 -0.1)\">\r\n       <defs>\r\n        <path d=\"M 10.984375 1.515625 \r\nL 10.984375 10.5 \r\nQ 14.703125 8.734375 18.5 7.8125 \r\nQ 22.3125 6.890625 25.984375 6.890625 \r\nQ 35.75 6.890625 40.890625 13.453125 \r\nQ 46.046875 20.015625 46.78125 33.40625 \r\nQ 43.953125 29.203125 39.59375 26.953125 \r\nQ 35.25 24.703125 29.984375 24.703125 \r\nQ 19.046875 24.703125 12.671875 31.3125 \r\nQ 6.296875 37.9375 6.296875 49.421875 \r\nQ 6.296875 60.640625 12.9375 67.421875 \r\nQ 19.578125 74.21875 30.609375 74.21875 \r\nQ 43.265625 74.21875 49.921875 64.515625 \r\nQ 56.59375 54.828125 56.59375 36.375 \r\nQ 56.59375 19.140625 48.40625 8.859375 \r\nQ 40.234375 -1.421875 26.421875 -1.421875 \r\nQ 22.703125 -1.421875 18.890625 -0.6875 \r\nQ 15.09375 0.046875 10.984375 1.515625 \r\nz\r\nM 30.609375 32.421875 \r\nQ 37.25 32.421875 41.125 36.953125 \r\nQ 45.015625 41.5 45.015625 49.421875 \r\nQ 45.015625 57.28125 41.125 61.84375 \r\nQ 37.25 66.40625 30.609375 66.40625 \r\nQ 23.96875 66.40625 20.09375 61.84375 \r\nQ 16.21875 57.28125 16.21875 49.421875 \r\nQ 16.21875 41.5 20.09375 36.953125 \r\nQ 23.96875 32.421875 30.609375 32.421875 \r\nz\r\n\" id=\"DejaVuSans-57\"/>\r\n       </defs>\r\n       <use xlink:href=\"#DejaVuSans-50\"/>\r\n       <use x=\"63.623047\" xlink:href=\"#DejaVuSans-48\"/>\r\n       <use x=\"127.246094\" xlink:href=\"#DejaVuSans-49\"/>\r\n       <use x=\"190.869141\" xlink:href=\"#DejaVuSans-57\"/>\r\n      </g>\r\n     </g>\r\n    </g>\r\n    <g id=\"text_11\">\r\n     <!-- Year -->\r\n     <g transform=\"translate(197.415625 268.034687)scale(0.1 -0.1)\">\r\n      <defs>\r\n       <path d=\"M -0.203125 72.90625 \r\nL 10.40625 72.90625 \r\nL 30.609375 42.921875 \r\nL 50.6875 72.90625 \r\nL 61.28125 72.90625 \r\nL 35.5 34.71875 \r\nL 35.5 0 \r\nL 25.59375 0 \r\nL 25.59375 34.71875 \r\nz\r\n\" id=\"DejaVuSans-89\"/>\r\n       <path d=\"M 56.203125 29.59375 \r\nL 56.203125 25.203125 \r\nL 14.890625 25.203125 \r\nQ 15.484375 15.921875 20.484375 11.0625 \r\nQ 25.484375 6.203125 34.421875 6.203125 \r\nQ 39.59375 6.203125 44.453125 7.46875 \r\nQ 49.3125 8.734375 54.109375 11.28125 \r\nL 54.109375 2.78125 \r\nQ 49.265625 0.734375 44.1875 -0.34375 \r\nQ 39.109375 -1.421875 33.890625 -1.421875 \r\nQ 20.796875 -1.421875 13.15625 6.1875 \r\nQ 5.515625 13.8125 5.515625 26.8125 \r\nQ 5.515625 40.234375 12.765625 48.109375 \r\nQ 20.015625 56 32.328125 56 \r\nQ 43.359375 56 49.78125 48.890625 \r\nQ 56.203125 41.796875 56.203125 29.59375 \r\nz\r\nM 47.21875 32.234375 \r\nQ 47.125 39.59375 43.09375 43.984375 \r\nQ 39.0625 48.390625 32.421875 48.390625 \r\nQ 24.90625 48.390625 20.390625 44.140625 \r\nQ 15.875 39.890625 15.1875 32.171875 \r\nz\r\n\" id=\"DejaVuSans-101\"/>\r\n       <path d=\"M 34.28125 27.484375 \r\nQ 23.390625 27.484375 19.1875 25 \r\nQ 14.984375 22.515625 14.984375 16.5 \r\nQ 14.984375 11.71875 18.140625 8.90625 \r\nQ 21.296875 6.109375 26.703125 6.109375 \r\nQ 34.1875 6.109375 38.703125 11.40625 \r\nQ 43.21875 16.703125 43.21875 25.484375 \r\nL 43.21875 27.484375 \r\nz\r\nM 52.203125 31.203125 \r\nL 52.203125 0 \r\nL 43.21875 0 \r\nL 43.21875 8.296875 \r\nQ 40.140625 3.328125 35.546875 0.953125 \r\nQ 30.953125 -1.421875 24.3125 -1.421875 \r\nQ 15.921875 -1.421875 10.953125 3.296875 \r\nQ 6 8.015625 6 15.921875 \r\nQ 6 25.140625 12.171875 29.828125 \r\nQ 18.359375 34.515625 30.609375 34.515625 \r\nL 43.21875 34.515625 \r\nL 43.21875 35.40625 \r\nQ 43.21875 41.609375 39.140625 45 \r\nQ 35.0625 48.390625 27.6875 48.390625 \r\nQ 23 48.390625 18.546875 47.265625 \r\nQ 14.109375 46.140625 10.015625 43.890625 \r\nL 10.015625 52.203125 \r\nQ 14.9375 54.109375 19.578125 55.046875 \r\nQ 24.21875 56 28.609375 56 \r\nQ 40.484375 56 46.34375 49.84375 \r\nQ 52.203125 43.703125 52.203125 31.203125 \r\nz\r\n\" id=\"DejaVuSans-97\"/>\r\n       <path d=\"M 41.109375 46.296875 \r\nQ 39.59375 47.171875 37.8125 47.578125 \r\nQ 36.03125 48 33.890625 48 \r\nQ 26.265625 48 22.1875 43.046875 \r\nQ 18.109375 38.09375 18.109375 28.8125 \r\nL 18.109375 0 \r\nL 9.078125 0 \r\nL 9.078125 54.6875 \r\nL 18.109375 54.6875 \r\nL 18.109375 46.1875 \r\nQ 20.953125 51.171875 25.484375 53.578125 \r\nQ 30.03125 56 36.53125 56 \r\nQ 37.453125 56 38.578125 55.875 \r\nQ 39.703125 55.765625 41.0625 55.515625 \r\nz\r\n\" id=\"DejaVuSans-114\"/>\r\n      </defs>\r\n      <use xlink:href=\"#DejaVuSans-89\"/>\r\n      <use x=\"47.833984\" xlink:href=\"#DejaVuSans-101\"/>\r\n      <use x=\"109.357422\" xlink:href=\"#DejaVuSans-97\"/>\r\n      <use x=\"170.636719\" xlink:href=\"#DejaVuSans-114\"/>\r\n     </g>\r\n    </g>\r\n   </g>\r\n   <g id=\"matplotlib.axis_2\">\r\n    <g id=\"ytick_1\">\r\n     <g id=\"line2d_11\">\r\n      <defs>\r\n       <path d=\"M 0 0 \r\nL -3.5 0 \r\n\" id=\"m007510aa26\" style=\"stroke:#000000;stroke-width:0.8;\"/>\r\n      </defs>\r\n      <g>\r\n       <use style=\"stroke:#000000;stroke-width:0.8;\" x=\"40.603125\" xlink:href=\"#m007510aa26\" y=\"239.758125\"/>\r\n      </g>\r\n     </g>\r\n     <g id=\"text_12\">\r\n      <!-- 0 -->\r\n      <g transform=\"translate(27.240625 243.557344)scale(0.1 -0.1)\">\r\n       <use xlink:href=\"#DejaVuSans-48\"/>\r\n      </g>\r\n     </g>\r\n    </g>\r\n    <g id=\"ytick_2\">\r\n     <g id=\"line2d_12\">\r\n      <g>\r\n       <use style=\"stroke:#000000;stroke-width:0.8;\" x=\"40.603125\" xlink:href=\"#m007510aa26\" y=\"192.152214\"/>\r\n      </g>\r\n     </g>\r\n     <g id=\"text_13\">\r\n      <!-- 20 -->\r\n      <g transform=\"translate(20.878125 195.951432)scale(0.1 -0.1)\">\r\n       <use xlink:href=\"#DejaVuSans-50\"/>\r\n       <use x=\"63.623047\" xlink:href=\"#DejaVuSans-48\"/>\r\n      </g>\r\n     </g>\r\n    </g>\r\n    <g id=\"ytick_3\">\r\n     <g id=\"line2d_13\">\r\n      <g>\r\n       <use style=\"stroke:#000000;stroke-width:0.8;\" x=\"40.603125\" xlink:href=\"#m007510aa26\" y=\"144.546302\"/>\r\n      </g>\r\n     </g>\r\n     <g id=\"text_14\">\r\n      <!-- 40 -->\r\n      <g transform=\"translate(20.878125 148.345521)scale(0.1 -0.1)\">\r\n       <use xlink:href=\"#DejaVuSans-52\"/>\r\n       <use x=\"63.623047\" xlink:href=\"#DejaVuSans-48\"/>\r\n      </g>\r\n     </g>\r\n    </g>\r\n    <g id=\"ytick_4\">\r\n     <g id=\"line2d_14\">\r\n      <g>\r\n       <use style=\"stroke:#000000;stroke-width:0.8;\" x=\"40.603125\" xlink:href=\"#m007510aa26\" y=\"96.940391\"/>\r\n      </g>\r\n     </g>\r\n     <g id=\"text_15\">\r\n      <!-- 60 -->\r\n      <g transform=\"translate(20.878125 100.73961)scale(0.1 -0.1)\">\r\n       <use xlink:href=\"#DejaVuSans-54\"/>\r\n       <use x=\"63.623047\" xlink:href=\"#DejaVuSans-48\"/>\r\n      </g>\r\n     </g>\r\n    </g>\r\n    <g id=\"ytick_5\">\r\n     <g id=\"line2d_15\">\r\n      <g>\r\n       <use style=\"stroke:#000000;stroke-width:0.8;\" x=\"40.603125\" xlink:href=\"#m007510aa26\" y=\"49.33448\"/>\r\n      </g>\r\n     </g>\r\n     <g id=\"text_16\">\r\n      <!-- 80 -->\r\n      <g transform=\"translate(20.878125 53.133698)scale(0.1 -0.1)\">\r\n       <use xlink:href=\"#DejaVuSans-56\"/>\r\n       <use x=\"63.623047\" xlink:href=\"#DejaVuSans-48\"/>\r\n      </g>\r\n     </g>\r\n    </g>\r\n    <g id=\"text_17\">\r\n     <!-- Number of films -->\r\n     <g transform=\"translate(14.798438 171.135)rotate(-90)scale(0.1 -0.1)\">\r\n      <defs>\r\n       <path d=\"M 9.8125 72.90625 \r\nL 23.09375 72.90625 \r\nL 55.421875 11.921875 \r\nL 55.421875 72.90625 \r\nL 64.984375 72.90625 \r\nL 64.984375 0 \r\nL 51.703125 0 \r\nL 19.390625 60.984375 \r\nL 19.390625 0 \r\nL 9.8125 0 \r\nz\r\n\" id=\"DejaVuSans-78\"/>\r\n       <path d=\"M 8.5 21.578125 \r\nL 8.5 54.6875 \r\nL 17.484375 54.6875 \r\nL 17.484375 21.921875 \r\nQ 17.484375 14.15625 20.5 10.265625 \r\nQ 23.53125 6.390625 29.59375 6.390625 \r\nQ 36.859375 6.390625 41.078125 11.03125 \r\nQ 45.3125 15.671875 45.3125 23.6875 \r\nL 45.3125 54.6875 \r\nL 54.296875 54.6875 \r\nL 54.296875 0 \r\nL 45.3125 0 \r\nL 45.3125 8.40625 \r\nQ 42.046875 3.421875 37.71875 1 \r\nQ 33.40625 -1.421875 27.6875 -1.421875 \r\nQ 18.265625 -1.421875 13.375 4.4375 \r\nQ 8.5 10.296875 8.5 21.578125 \r\nz\r\nM 31.109375 56 \r\nz\r\n\" id=\"DejaVuSans-117\"/>\r\n       <path d=\"M 52 44.1875 \r\nQ 55.375 50.25 60.0625 53.125 \r\nQ 64.75 56 71.09375 56 \r\nQ 79.640625 56 84.28125 50.015625 \r\nQ 88.921875 44.046875 88.921875 33.015625 \r\nL 88.921875 0 \r\nL 79.890625 0 \r\nL 79.890625 32.71875 \r\nQ 79.890625 40.578125 77.09375 44.375 \r\nQ 74.3125 48.1875 68.609375 48.1875 \r\nQ 61.625 48.1875 57.5625 43.546875 \r\nQ 53.515625 38.921875 53.515625 30.90625 \r\nL 53.515625 0 \r\nL 44.484375 0 \r\nL 44.484375 32.71875 \r\nQ 44.484375 40.625 41.703125 44.40625 \r\nQ 38.921875 48.1875 33.109375 48.1875 \r\nQ 26.21875 48.1875 22.15625 43.53125 \r\nQ 18.109375 38.875 18.109375 30.90625 \r\nL 18.109375 0 \r\nL 9.078125 0 \r\nL 9.078125 54.6875 \r\nL 18.109375 54.6875 \r\nL 18.109375 46.1875 \r\nQ 21.1875 51.21875 25.484375 53.609375 \r\nQ 29.78125 56 35.6875 56 \r\nQ 41.65625 56 45.828125 52.96875 \r\nQ 50 49.953125 52 44.1875 \r\nz\r\n\" id=\"DejaVuSans-109\"/>\r\n       <path d=\"M 48.6875 27.296875 \r\nQ 48.6875 37.203125 44.609375 42.84375 \r\nQ 40.53125 48.484375 33.40625 48.484375 \r\nQ 26.265625 48.484375 22.1875 42.84375 \r\nQ 18.109375 37.203125 18.109375 27.296875 \r\nQ 18.109375 17.390625 22.1875 11.75 \r\nQ 26.265625 6.109375 33.40625 6.109375 \r\nQ 40.53125 6.109375 44.609375 11.75 \r\nQ 48.6875 17.390625 48.6875 27.296875 \r\nz\r\nM 18.109375 46.390625 \r\nQ 20.953125 51.265625 25.265625 53.625 \r\nQ 29.59375 56 35.59375 56 \r\nQ 45.5625 56 51.78125 48.09375 \r\nQ 58.015625 40.1875 58.015625 27.296875 \r\nQ 58.015625 14.40625 51.78125 6.484375 \r\nQ 45.5625 -1.421875 35.59375 -1.421875 \r\nQ 29.59375 -1.421875 25.265625 0.953125 \r\nQ 20.953125 3.328125 18.109375 8.203125 \r\nL 18.109375 0 \r\nL 9.078125 0 \r\nL 9.078125 75.984375 \r\nL 18.109375 75.984375 \r\nz\r\n\" id=\"DejaVuSans-98\"/>\r\n       <path id=\"DejaVuSans-32\"/>\r\n       <path d=\"M 30.609375 48.390625 \r\nQ 23.390625 48.390625 19.1875 42.75 \r\nQ 14.984375 37.109375 14.984375 27.296875 \r\nQ 14.984375 17.484375 19.15625 11.84375 \r\nQ 23.34375 6.203125 30.609375 6.203125 \r\nQ 37.796875 6.203125 41.984375 11.859375 \r\nQ 46.1875 17.53125 46.1875 27.296875 \r\nQ 46.1875 37.015625 41.984375 42.703125 \r\nQ 37.796875 48.390625 30.609375 48.390625 \r\nz\r\nM 30.609375 56 \r\nQ 42.328125 56 49.015625 48.375 \r\nQ 55.71875 40.765625 55.71875 27.296875 \r\nQ 55.71875 13.875 49.015625 6.21875 \r\nQ 42.328125 -1.421875 30.609375 -1.421875 \r\nQ 18.84375 -1.421875 12.171875 6.21875 \r\nQ 5.515625 13.875 5.515625 27.296875 \r\nQ 5.515625 40.765625 12.171875 48.375 \r\nQ 18.84375 56 30.609375 56 \r\nz\r\n\" id=\"DejaVuSans-111\"/>\r\n       <path d=\"M 37.109375 75.984375 \r\nL 37.109375 68.5 \r\nL 28.515625 68.5 \r\nQ 23.6875 68.5 21.796875 66.546875 \r\nQ 19.921875 64.59375 19.921875 59.515625 \r\nL 19.921875 54.6875 \r\nL 34.71875 54.6875 \r\nL 34.71875 47.703125 \r\nL 19.921875 47.703125 \r\nL 19.921875 0 \r\nL 10.890625 0 \r\nL 10.890625 47.703125 \r\nL 2.296875 47.703125 \r\nL 2.296875 54.6875 \r\nL 10.890625 54.6875 \r\nL 10.890625 58.5 \r\nQ 10.890625 67.625 15.140625 71.796875 \r\nQ 19.390625 75.984375 28.609375 75.984375 \r\nz\r\n\" id=\"DejaVuSans-102\"/>\r\n       <path d=\"M 9.421875 54.6875 \r\nL 18.40625 54.6875 \r\nL 18.40625 0 \r\nL 9.421875 0 \r\nz\r\nM 9.421875 75.984375 \r\nL 18.40625 75.984375 \r\nL 18.40625 64.59375 \r\nL 9.421875 64.59375 \r\nz\r\n\" id=\"DejaVuSans-105\"/>\r\n       <path d=\"M 9.421875 75.984375 \r\nL 18.40625 75.984375 \r\nL 18.40625 0 \r\nL 9.421875 0 \r\nz\r\n\" id=\"DejaVuSans-108\"/>\r\n       <path d=\"M 44.28125 53.078125 \r\nL 44.28125 44.578125 \r\nQ 40.484375 46.53125 36.375 47.5 \r\nQ 32.28125 48.484375 27.875 48.484375 \r\nQ 21.1875 48.484375 17.84375 46.4375 \r\nQ 14.5 44.390625 14.5 40.28125 \r\nQ 14.5 37.15625 16.890625 35.375 \r\nQ 19.28125 33.59375 26.515625 31.984375 \r\nL 29.59375 31.296875 \r\nQ 39.15625 29.25 43.1875 25.515625 \r\nQ 47.21875 21.78125 47.21875 15.09375 \r\nQ 47.21875 7.46875 41.1875 3.015625 \r\nQ 35.15625 -1.421875 24.609375 -1.421875 \r\nQ 20.21875 -1.421875 15.453125 -0.5625 \r\nQ 10.6875 0.296875 5.421875 2 \r\nL 5.421875 11.28125 \r\nQ 10.40625 8.6875 15.234375 7.390625 \r\nQ 20.0625 6.109375 24.8125 6.109375 \r\nQ 31.15625 6.109375 34.5625 8.28125 \r\nQ 37.984375 10.453125 37.984375 14.40625 \r\nQ 37.984375 18.0625 35.515625 20.015625 \r\nQ 33.0625 21.96875 24.703125 23.78125 \r\nL 21.578125 24.515625 \r\nQ 13.234375 26.265625 9.515625 29.90625 \r\nQ 5.8125 33.546875 5.8125 39.890625 \r\nQ 5.8125 47.609375 11.28125 51.796875 \r\nQ 16.75 56 26.8125 56 \r\nQ 31.78125 56 36.171875 55.265625 \r\nQ 40.578125 54.546875 44.28125 53.078125 \r\nz\r\n\" id=\"DejaVuSans-115\"/>\r\n      </defs>\r\n      <use xlink:href=\"#DejaVuSans-78\"/>\r\n      <use x=\"74.804688\" xlink:href=\"#DejaVuSans-117\"/>\r\n      <use x=\"138.183594\" xlink:href=\"#DejaVuSans-109\"/>\r\n      <use x=\"235.595703\" xlink:href=\"#DejaVuSans-98\"/>\r\n      <use x=\"299.072266\" xlink:href=\"#DejaVuSans-101\"/>\r\n      <use x=\"360.595703\" xlink:href=\"#DejaVuSans-114\"/>\r\n      <use x=\"401.708984\" xlink:href=\"#DejaVuSans-32\"/>\r\n      <use x=\"433.496094\" xlink:href=\"#DejaVuSans-111\"/>\r\n      <use x=\"494.677734\" xlink:href=\"#DejaVuSans-102\"/>\r\n      <use x=\"529.882812\" xlink:href=\"#DejaVuSans-32\"/>\r\n      <use x=\"561.669922\" xlink:href=\"#DejaVuSans-102\"/>\r\n      <use x=\"596.875\" xlink:href=\"#DejaVuSans-105\"/>\r\n      <use x=\"624.658203\" xlink:href=\"#DejaVuSans-108\"/>\r\n      <use x=\"652.441406\" xlink:href=\"#DejaVuSans-109\"/>\r\n      <use x=\"749.853516\" xlink:href=\"#DejaVuSans-115\"/>\r\n     </g>\r\n    </g>\r\n   </g>\r\n   <g id=\"patch_13\">\r\n    <path d=\"M 40.603125 239.758125 \r\nL 40.603125 22.318125 \r\n\" style=\"fill:none;stroke:#000000;stroke-linecap:square;stroke-linejoin:miter;stroke-width:0.8;\"/>\r\n   </g>\r\n   <g id=\"patch_14\">\r\n    <path d=\"M 375.403125 239.758125 \r\nL 375.403125 22.318125 \r\n\" style=\"fill:none;stroke:#000000;stroke-linecap:square;stroke-linejoin:miter;stroke-width:0.8;\"/>\r\n   </g>\r\n   <g id=\"patch_15\">\r\n    <path d=\"M 40.603125 239.758125 \r\nL 375.403125 239.758125 \r\n\" style=\"fill:none;stroke:#000000;stroke-linecap:square;stroke-linejoin:miter;stroke-width:0.8;\"/>\r\n   </g>\r\n   <g id=\"patch_16\">\r\n    <path d=\"M 40.603125 22.318125 \r\nL 375.403125 22.318125 \r\n\" style=\"fill:none;stroke:#000000;stroke-linecap:square;stroke-linejoin:miter;stroke-width:0.8;\"/>\r\n   </g>\r\n   <g id=\"text_18\">\r\n    <!-- Number of films from each year in the decade -->\r\n    <g transform=\"translate(69.335625 16.318125)scale(0.12 -0.12)\">\r\n     <defs>\r\n      <path d=\"M 48.78125 52.59375 \r\nL 48.78125 44.1875 \r\nQ 44.96875 46.296875 41.140625 47.34375 \r\nQ 37.3125 48.390625 33.40625 48.390625 \r\nQ 24.65625 48.390625 19.8125 42.84375 \r\nQ 14.984375 37.3125 14.984375 27.296875 \r\nQ 14.984375 17.28125 19.8125 11.734375 \r\nQ 24.65625 6.203125 33.40625 6.203125 \r\nQ 37.3125 6.203125 41.140625 7.25 \r\nQ 44.96875 8.296875 48.78125 10.40625 \r\nL 48.78125 2.09375 \r\nQ 45.015625 0.34375 40.984375 -0.53125 \r\nQ 36.96875 -1.421875 32.421875 -1.421875 \r\nQ 20.0625 -1.421875 12.78125 6.34375 \r\nQ 5.515625 14.109375 5.515625 27.296875 \r\nQ 5.515625 40.671875 12.859375 48.328125 \r\nQ 20.21875 56 33.015625 56 \r\nQ 37.15625 56 41.109375 55.140625 \r\nQ 45.0625 54.296875 48.78125 52.59375 \r\nz\r\n\" id=\"DejaVuSans-99\"/>\r\n      <path d=\"M 54.890625 33.015625 \r\nL 54.890625 0 \r\nL 45.90625 0 \r\nL 45.90625 32.71875 \r\nQ 45.90625 40.484375 42.875 44.328125 \r\nQ 39.84375 48.1875 33.796875 48.1875 \r\nQ 26.515625 48.1875 22.3125 43.546875 \r\nQ 18.109375 38.921875 18.109375 30.90625 \r\nL 18.109375 0 \r\nL 9.078125 0 \r\nL 9.078125 75.984375 \r\nL 18.109375 75.984375 \r\nL 18.109375 46.1875 \r\nQ 21.34375 51.125 25.703125 53.5625 \r\nQ 30.078125 56 35.796875 56 \r\nQ 45.21875 56 50.046875 50.171875 \r\nQ 54.890625 44.34375 54.890625 33.015625 \r\nz\r\n\" id=\"DejaVuSans-104\"/>\r\n      <path d=\"M 32.171875 -5.078125 \r\nQ 28.375 -14.84375 24.75 -17.8125 \r\nQ 21.140625 -20.796875 15.09375 -20.796875 \r\nL 7.90625 -20.796875 \r\nL 7.90625 -13.28125 \r\nL 13.1875 -13.28125 \r\nQ 16.890625 -13.28125 18.9375 -11.515625 \r\nQ 21 -9.765625 23.484375 -3.21875 \r\nL 25.09375 0.875 \r\nL 2.984375 54.6875 \r\nL 12.5 54.6875 \r\nL 29.59375 11.921875 \r\nL 46.6875 54.6875 \r\nL 56.203125 54.6875 \r\nz\r\n\" id=\"DejaVuSans-121\"/>\r\n      <path d=\"M 54.890625 33.015625 \r\nL 54.890625 0 \r\nL 45.90625 0 \r\nL 45.90625 32.71875 \r\nQ 45.90625 40.484375 42.875 44.328125 \r\nQ 39.84375 48.1875 33.796875 48.1875 \r\nQ 26.515625 48.1875 22.3125 43.546875 \r\nQ 18.109375 38.921875 18.109375 30.90625 \r\nL 18.109375 0 \r\nL 9.078125 0 \r\nL 9.078125 54.6875 \r\nL 18.109375 54.6875 \r\nL 18.109375 46.1875 \r\nQ 21.34375 51.125 25.703125 53.5625 \r\nQ 30.078125 56 35.796875 56 \r\nQ 45.21875 56 50.046875 50.171875 \r\nQ 54.890625 44.34375 54.890625 33.015625 \r\nz\r\n\" id=\"DejaVuSans-110\"/>\r\n      <path d=\"M 18.3125 70.21875 \r\nL 18.3125 54.6875 \r\nL 36.8125 54.6875 \r\nL 36.8125 47.703125 \r\nL 18.3125 47.703125 \r\nL 18.3125 18.015625 \r\nQ 18.3125 11.328125 20.140625 9.421875 \r\nQ 21.96875 7.515625 27.59375 7.515625 \r\nL 36.8125 7.515625 \r\nL 36.8125 0 \r\nL 27.59375 0 \r\nQ 17.1875 0 13.234375 3.875 \r\nQ 9.28125 7.765625 9.28125 18.015625 \r\nL 9.28125 47.703125 \r\nL 2.6875 47.703125 \r\nL 2.6875 54.6875 \r\nL 9.28125 54.6875 \r\nL 9.28125 70.21875 \r\nz\r\n\" id=\"DejaVuSans-116\"/>\r\n      <path d=\"M 45.40625 46.390625 \r\nL 45.40625 75.984375 \r\nL 54.390625 75.984375 \r\nL 54.390625 0 \r\nL 45.40625 0 \r\nL 45.40625 8.203125 \r\nQ 42.578125 3.328125 38.25 0.953125 \r\nQ 33.9375 -1.421875 27.875 -1.421875 \r\nQ 17.96875 -1.421875 11.734375 6.484375 \r\nQ 5.515625 14.40625 5.515625 27.296875 \r\nQ 5.515625 40.1875 11.734375 48.09375 \r\nQ 17.96875 56 27.875 56 \r\nQ 33.9375 56 38.25 53.625 \r\nQ 42.578125 51.265625 45.40625 46.390625 \r\nz\r\nM 14.796875 27.296875 \r\nQ 14.796875 17.390625 18.875 11.75 \r\nQ 22.953125 6.109375 30.078125 6.109375 \r\nQ 37.203125 6.109375 41.296875 11.75 \r\nQ 45.40625 17.390625 45.40625 27.296875 \r\nQ 45.40625 37.203125 41.296875 42.84375 \r\nQ 37.203125 48.484375 30.078125 48.484375 \r\nQ 22.953125 48.484375 18.875 42.84375 \r\nQ 14.796875 37.203125 14.796875 27.296875 \r\nz\r\n\" id=\"DejaVuSans-100\"/>\r\n     </defs>\r\n     <use xlink:href=\"#DejaVuSans-78\"/>\r\n     <use x=\"74.804688\" xlink:href=\"#DejaVuSans-117\"/>\r\n     <use x=\"138.183594\" xlink:href=\"#DejaVuSans-109\"/>\r\n     <use x=\"235.595703\" xlink:href=\"#DejaVuSans-98\"/>\r\n     <use x=\"299.072266\" xlink:href=\"#DejaVuSans-101\"/>\r\n     <use x=\"360.595703\" xlink:href=\"#DejaVuSans-114\"/>\r\n     <use x=\"401.708984\" xlink:href=\"#DejaVuSans-32\"/>\r\n     <use x=\"433.496094\" xlink:href=\"#DejaVuSans-111\"/>\r\n     <use x=\"494.677734\" xlink:href=\"#DejaVuSans-102\"/>\r\n     <use x=\"529.882812\" xlink:href=\"#DejaVuSans-32\"/>\r\n     <use x=\"561.669922\" xlink:href=\"#DejaVuSans-102\"/>\r\n     <use x=\"596.875\" xlink:href=\"#DejaVuSans-105\"/>\r\n     <use x=\"624.658203\" xlink:href=\"#DejaVuSans-108\"/>\r\n     <use x=\"652.441406\" xlink:href=\"#DejaVuSans-109\"/>\r\n     <use x=\"749.853516\" xlink:href=\"#DejaVuSans-115\"/>\r\n     <use x=\"801.953125\" xlink:href=\"#DejaVuSans-32\"/>\r\n     <use x=\"833.740234\" xlink:href=\"#DejaVuSans-102\"/>\r\n     <use x=\"868.945312\" xlink:href=\"#DejaVuSans-114\"/>\r\n     <use x=\"907.808594\" xlink:href=\"#DejaVuSans-111\"/>\r\n     <use x=\"968.990234\" xlink:href=\"#DejaVuSans-109\"/>\r\n     <use x=\"1066.402344\" xlink:href=\"#DejaVuSans-32\"/>\r\n     <use x=\"1098.189453\" xlink:href=\"#DejaVuSans-101\"/>\r\n     <use x=\"1159.712891\" xlink:href=\"#DejaVuSans-97\"/>\r\n     <use x=\"1220.992188\" xlink:href=\"#DejaVuSans-99\"/>\r\n     <use x=\"1275.972656\" xlink:href=\"#DejaVuSans-104\"/>\r\n     <use x=\"1339.351562\" xlink:href=\"#DejaVuSans-32\"/>\r\n     <use x=\"1371.138672\" xlink:href=\"#DejaVuSans-121\"/>\r\n     <use x=\"1430.318359\" xlink:href=\"#DejaVuSans-101\"/>\r\n     <use x=\"1491.841797\" xlink:href=\"#DejaVuSans-97\"/>\r\n     <use x=\"1553.121094\" xlink:href=\"#DejaVuSans-114\"/>\r\n     <use x=\"1594.234375\" xlink:href=\"#DejaVuSans-32\"/>\r\n     <use x=\"1626.021484\" xlink:href=\"#DejaVuSans-105\"/>\r\n     <use x=\"1653.804688\" xlink:href=\"#DejaVuSans-110\"/>\r\n     <use x=\"1717.183594\" xlink:href=\"#DejaVuSans-32\"/>\r\n     <use x=\"1748.970703\" xlink:href=\"#DejaVuSans-116\"/>\r\n     <use x=\"1788.179688\" xlink:href=\"#DejaVuSans-104\"/>\r\n     <use x=\"1851.558594\" xlink:href=\"#DejaVuSans-101\"/>\r\n     <use x=\"1913.082031\" xlink:href=\"#DejaVuSans-32\"/>\r\n     <use x=\"1944.869141\" xlink:href=\"#DejaVuSans-100\"/>\r\n     <use x=\"2008.345703\" xlink:href=\"#DejaVuSans-101\"/>\r\n     <use x=\"2069.869141\" xlink:href=\"#DejaVuSans-99\"/>\r\n     <use x=\"2124.849609\" xlink:href=\"#DejaVuSans-97\"/>\r\n     <use x=\"2186.128906\" xlink:href=\"#DejaVuSans-100\"/>\r\n     <use x=\"2249.605469\" xlink:href=\"#DejaVuSans-101\"/>\r\n    </g>\r\n   </g>\r\n  </g>\r\n </g>\r\n <defs>\r\n  <clipPath id=\"p21629a6e36\">\r\n   <rect height=\"217.44\" width=\"334.8\" x=\"40.603125\" y=\"22.318125\"/>\r\n  </clipPath>\r\n </defs>\r\n</svg>\r\n",
      "image/png": "[encoded data removed]"
     },
     "metadata": {
      "needs_background": "light"
     }
    }
   ],
   "source": [
    "years = labels = np.array(years_count.index.tolist())\n",
    "count_by_year = np.array(years_count.values.tolist())\n",
    "plt.bar(labels, count_by_year, align='center')\n",
    "plt.xticks(labels, years)\n",
    "plt.xlabel(\"Year\")\n",
    "plt.ylabel(\"Number of films\")\n",
    "plt.title(\"Number of films from each year in the decade\")"
   ]
  },
  {
   "source": [
    "## Prepare Data for Models"
   ],
   "cell_type": "markdown",
   "metadata": {}
  },
  {
   "source": [
    "Before we do anything, we need to encode those genres."
   ],
   "cell_type": "markdown",
   "metadata": {}
  },
  {
   "cell_type": "code",
   "execution_count": 16,
   "metadata": {},
   "outputs": [],
   "source": [
    "genre_list = set()\n",
    "def count_genres(genre_column, genres=genre_list):\n",
    "    for val in genre_column:\n",
    "        for genre in val.split(\"|\"):\n",
    "            genre_list.add(genre.lower())\n",
    "    return genre_list"
   ]
  },
  {
   "cell_type": "code",
   "execution_count": 17,
   "metadata": {},
   "outputs": [
    {
     "output_type": "execute_result",
     "data": {
      "text/plain": [
       "{'(no genres listed)',\n",
       " 'action',\n",
       " 'adventure',\n",
       " 'animation',\n",
       " 'children',\n",
       " 'comedy',\n",
       " 'crime',\n",
       " 'drama',\n",
       " 'fantasy',\n",
       " 'film-noir',\n",
       " 'horror',\n",
       " 'imax',\n",
       " 'musical',\n",
       " 'mystery',\n",
       " 'romance',\n",
       " 'sci-fi',\n",
       " 'thriller',\n",
       " 'war',\n",
       " 'western'}"
      ]
     },
     "metadata": {},
     "execution_count": 17
    }
   ],
   "source": [
    "count_genres(movies['genres'].values)"
   ]
  },
  {
   "cell_type": "code",
   "execution_count": 18,
   "metadata": {},
   "outputs": [],
   "source": [
    "def create_genre_columns(df, genres):\n",
    "    for genre in genres:\n",
    "        df[genre] = pd.Series(np.zeros(len(df), dtype='int32'), index=df.index)\n",
    "    return df"
   ]
  },
  {
   "cell_type": "code",
   "execution_count": 19,
   "metadata": {},
   "outputs": [
    {
     "output_type": "execute_result",
     "data": {
      "text/plain": [
       "Index(['movie_id', 'title', 'genres', 'imdb_id', 'tmdb_id', 'year', 'budget',\n",
       "       'vote_count', 'vote_average', 'revenue', 'runtime', 'popularity',\n",
       "       'overview', 'view_count', 'like_count', 'dislike_count',\n",
       "       'comment_count', 'film-noir', 'mystery', 'action', 'imax', 'sci-fi',\n",
       "       'romance', 'musical', 'comedy', 'war', 'crime', 'children', 'fantasy',\n",
       "       'horror', 'drama', 'western', 'adventure', 'animation', 'thriller',\n",
       "       '(no genres listed)'],\n",
       "      dtype='object')"
      ]
     },
     "metadata": {},
     "execution_count": 19
    }
   ],
   "source": [
    "movies = create_genre_columns(movies, list(genre_list))\n",
    "movies.columns"
   ]
  },
  {
   "source": [
    "### Now let's encode those genres"
   ],
   "cell_type": "markdown",
   "metadata": {}
  },
  {
   "cell_type": "code",
   "execution_count": 20,
   "metadata": {},
   "outputs": [],
   "source": [
    "def encode_genre(series_object):\n",
    "    genres = series_object['genres'].split(\"|\")\n",
    "    for genre in genres:\n",
    "        series_object[genre.lower()] = 1\n",
    "    return series_object"
   ]
  },
  {
   "cell_type": "code",
   "execution_count": 21,
   "metadata": {},
   "outputs": [],
   "source": [
    "movies = movies.apply(encode_genre, axis=1)"
   ]
  },
  {
   "source": [
    "### Only keep what we need"
   ],
   "cell_type": "markdown",
   "metadata": {}
  },
  {
   "cell_type": "code",
   "execution_count": 22,
   "metadata": {},
   "outputs": [
    {
     "output_type": "execute_result",
     "data": {
      "text/plain": [
       "                                               title  tmdb_id  year  \\\n",
       "0                                    The Book of Eli    20504  2010   \n",
       "1                                    Valentine's Day    32856  2010   \n",
       "2                                     Shutter Island    11324  2010   \n",
       "3  Percy Jackson & the Olympians: The Lightning T...    32657  2010   \n",
       "4                                          Dear John    22971  2010   \n",
       "\n",
       "       budget  vote_count  vote_average      revenue  runtime  popularity  \\\n",
       "0  80000000.0      4303.0           6.7  157107755.0    118.0      24.843   \n",
       "1  52000000.0      2323.0           5.9  216485654.0    125.0      16.444   \n",
       "2  80000000.0     16456.0           8.2  294804195.0    138.0      35.806   \n",
       "3  95000000.0      5399.0           6.2  226497209.0    119.0      44.193   \n",
       "4  25000000.0      3226.0           6.8  114977104.0    115.0      19.448   \n",
       "\n",
       "   view_count  ...  war  crime  children  fantasy  horror  drama  western  \\\n",
       "0     3326366  ...    0      0         0        0       0      1        0   \n",
       "1      117902  ...    0      0         0        0       0      0        0   \n",
       "2    11619025  ...    0      0         0        0       0      1        0   \n",
       "3     7424212  ...    0      0         0        1       0      0        0   \n",
       "4    12783196  ...    1      0         0        0       0      1        0   \n",
       "\n",
       "   adventure  animation  thriller  \n",
       "0          1          0         0  \n",
       "1          0          0         0  \n",
       "2          0          0         1  \n",
       "3          1          0         0  \n",
       "4          0          0         0  \n",
       "\n",
       "[5 rows x 31 columns]"
      ],
      "text/html": "<div>\n<style scoped>\n    .dataframe tbody tr th:only-of-type {\n        vertical-align: middle;\n    }\n\n    .dataframe tbody tr th {\n        vertical-align: top;\n    }\n\n    .dataframe thead th {\n        text-align: right;\n    }\n</style>\n<table border=\"1\" class=\"dataframe\">\n  <thead>\n    <tr style=\"text-align: right;\">\n      <th></th>\n      <th>title</th>\n      <th>tmdb_id</th>\n      <th>year</th>\n      <th>budget</th>\n      <th>vote_count</th>\n      <th>vote_average</th>\n      <th>revenue</th>\n      <th>runtime</th>\n      <th>popularity</th>\n      <th>view_count</th>\n      <th>...</th>\n      <th>war</th>\n      <th>crime</th>\n      <th>children</th>\n      <th>fantasy</th>\n      <th>horror</th>\n      <th>drama</th>\n      <th>western</th>\n      <th>adventure</th>\n      <th>animation</th>\n      <th>thriller</th>\n    </tr>\n  </thead>\n  <tbody>\n    <tr>\n      <th>0</th>\n      <td>The Book of Eli</td>\n      <td>20504</td>\n      <td>2010</td>\n      <td>80000000.0</td>\n      <td>4303.0</td>\n      <td>6.7</td>\n      <td>157107755.0</td>\n      <td>118.0</td>\n      <td>24.843</td>\n      <td>3326366</td>\n      <td>...</td>\n      <td>0</td>\n      <td>0</td>\n      <td>0</td>\n      <td>0</td>\n      <td>0</td>\n      <td>1</td>\n      <td>0</td>\n      <td>1</td>\n      <td>0</td>\n      <td>0</td>\n    </tr>\n    <tr>\n      <th>1</th>\n      <td>Valentine's Day</td>\n      <td>32856</td>\n      <td>2010</td>\n      <td>52000000.0</td>\n      <td>2323.0</td>\n      <td>5.9</td>\n      <td>216485654.0</td>\n      <td>125.0</td>\n      <td>16.444</td>\n      <td>117902</td>\n      <td>...</td>\n      <td>0</td>\n      <td>0</td>\n      <td>0</td>\n      <td>0</td>\n      <td>0</td>\n      <td>0</td>\n      <td>0</td>\n      <td>0</td>\n      <td>0</td>\n      <td>0</td>\n    </tr>\n    <tr>\n      <th>2</th>\n      <td>Shutter Island</td>\n      <td>11324</td>\n      <td>2010</td>\n      <td>80000000.0</td>\n      <td>16456.0</td>\n      <td>8.2</td>\n      <td>294804195.0</td>\n      <td>138.0</td>\n      <td>35.806</td>\n      <td>11619025</td>\n      <td>...</td>\n      <td>0</td>\n      <td>0</td>\n      <td>0</td>\n      <td>0</td>\n      <td>0</td>\n      <td>1</td>\n      <td>0</td>\n      <td>0</td>\n      <td>0</td>\n      <td>1</td>\n    </tr>\n    <tr>\n      <th>3</th>\n      <td>Percy Jackson &amp; the Olympians: The Lightning T...</td>\n      <td>32657</td>\n      <td>2010</td>\n      <td>95000000.0</td>\n      <td>5399.0</td>\n      <td>6.2</td>\n      <td>226497209.0</td>\n      <td>119.0</td>\n      <td>44.193</td>\n      <td>7424212</td>\n      <td>...</td>\n      <td>0</td>\n      <td>0</td>\n      <td>0</td>\n      <td>1</td>\n      <td>0</td>\n      <td>0</td>\n      <td>0</td>\n      <td>1</td>\n      <td>0</td>\n      <td>0</td>\n    </tr>\n    <tr>\n      <th>4</th>\n      <td>Dear John</td>\n      <td>22971</td>\n      <td>2010</td>\n      <td>25000000.0</td>\n      <td>3226.0</td>\n      <td>6.8</td>\n      <td>114977104.0</td>\n      <td>115.0</td>\n      <td>19.448</td>\n      <td>12783196</td>\n      <td>...</td>\n      <td>1</td>\n      <td>0</td>\n      <td>0</td>\n      <td>0</td>\n      <td>0</td>\n      <td>1</td>\n      <td>0</td>\n      <td>0</td>\n      <td>0</td>\n      <td>0</td>\n    </tr>\n  </tbody>\n</table>\n<p>5 rows × 31 columns</p>\n</div>"
     },
     "metadata": {},
     "execution_count": 22
    }
   ],
   "source": [
    "movies = movies.drop(columns=['genres', 'movie_id', 'imdb_id', 'overview', '(no genres listed)'])\n",
    "movies.head()"
   ]
  },
  {
   "source": [
    "Let's rearrange our columns so the last index is what we want to predict."
   ],
   "cell_type": "markdown",
   "metadata": {}
  },
  {
   "cell_type": "code",
   "execution_count": 23,
   "metadata": {},
   "outputs": [],
   "source": [
    "columns = movies.columns.tolist()"
   ]
  },
  {
   "cell_type": "code",
   "execution_count": 24,
   "metadata": {},
   "outputs": [
    {
     "output_type": "execute_result",
     "data": {
      "text/plain": [
       "['title',\n",
       " 'tmdb_id',\n",
       " 'year',\n",
       " 'budget',\n",
       " 'vote_count',\n",
       " 'vote_average',\n",
       " 'runtime',\n",
       " 'popularity',\n",
       " 'view_count',\n",
       " 'like_count',\n",
       " 'dislike_count',\n",
       " 'comment_count',\n",
       " 'film-noir',\n",
       " 'mystery',\n",
       " 'action',\n",
       " 'imax',\n",
       " 'sci-fi',\n",
       " 'romance',\n",
       " 'musical',\n",
       " 'comedy',\n",
       " 'war',\n",
       " 'crime',\n",
       " 'children',\n",
       " 'fantasy',\n",
       " 'horror',\n",
       " 'drama',\n",
       " 'western',\n",
       " 'adventure',\n",
       " 'animation',\n",
       " 'thriller',\n",
       " 'revenue']"
      ]
     },
     "metadata": {},
     "execution_count": 24
    }
   ],
   "source": [
    "columns = columns[:6] + columns[7:] + [columns[6]]\n",
    "columns"
   ]
  },
  {
   "cell_type": "code",
   "execution_count": 25,
   "metadata": {},
   "outputs": [],
   "source": [
    "movies = movies[columns]\n",
    "movies.to_csv(\"../dbs/data_2010s.csv\", index=False)"
   ]
  },
  {
   "source": [
    "# Build the Model"
   ],
   "cell_type": "markdown",
   "metadata": {}
  },
  {
   "source": [
    "Go build it!"
   ],
   "cell_type": "markdown",
   "metadata": {}
  }
 ]
}