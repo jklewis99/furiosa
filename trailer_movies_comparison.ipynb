{
 "metadata": {
  "language_info": {
   "codemirror_mode": {
    "name": "ipython",
    "version": 3
   },
   "file_extension": ".py",
   "mimetype": "text/x-python",
   "name": "python",
   "nbconvert_exporter": "python",
   "pygments_lexer": "ipython3",
   "version": "3.7.7-final"
  },
  "orig_nbformat": 2,
  "kernelspec": {
   "name": "Python 3.7.7 64-bit",
   "display_name": "Python 3.7.7 64-bit",
   "metadata": {
    "interpreter": {
     "hash": "bc701bceb5233975ae1ea0bfd0a7ac7ed425a54e39c34723a45dde614ae2574b"
    }
   }
  }
 },
 "nbformat": 4,
 "nbformat_minor": 2,
 "cells": [
  {
   "cell_type": "code",
   "execution_count": 2,
   "metadata": {},
   "outputs": [],
   "source": [
    "import pandas as pd\n",
    "import numpy as np"
   ]
  },
  {
   "cell_type": "code",
   "execution_count": 3,
   "metadata": {},
   "outputs": [],
   "source": [
    "movies_2010s = pd.read_csv(\"dbs/movies-from-2010s.csv\")\n",
    "movies_2010s.dropna(inplace=True) # get rid of movies with null values\n",
    "movies_2010s = movies_2010s.loc[movies_2010s['revenue'] > 0] # get revenues that are greater than 0\n",
    "num_votes_required = movies_2010s['vote_count'].quantile(0.8)\n",
    "watched_movies_2010s = movies_2010s.copy().loc[movies_2010s['vote_count'] >= num_votes_required]"
   ]
  },
  {
   "cell_type": "code",
   "execution_count": 4,
   "metadata": {},
   "outputs": [
    {
     "output_type": "execute_result",
     "data": {
      "text/plain": [
       "    youtube_id                                 trailer_title  \\\n",
       "0  ksfqS4GuLfA                           Book Of Eli Trailer   \n",
       "1  kAMUv22y1og  \"The Book of Eli\" - Official Trailer [HD HQ]   \n",
       "2  jh8mm8KR6ow                  'The Book of Eli' Trailer HD   \n",
       "3  o-v4L8OE3uA            The Book of Eli - Official Trailer   \n",
       "4  28LXGuqDUqk       The Book of Eli - Official Trailer [HD]   \n",
       "\n",
       "                       channel_title                channel_id  \\\n",
       "0  Sony Pictures Releasing Australia  UCQ2zp9FmJzOG_JzUJ0A-FlQ   \n",
       "1               watchCulturetainment  UCuJXQzdMnQuNGkYJqgIwb-w   \n",
       "2                            HDCIDER  UCw8uynfUyRdyK8dIZGSzlog   \n",
       "3                           Innaloop  UC8h3JiDOhjouAGvKzPP8PNA   \n",
       "4                     AKAVinceanator  UCqTTUQVIWzCMmcJ54ZEEHUQ   \n",
       "\n",
       "                                         description  \\\n",
       "0  Only At The Movies! February 25\\r\\nStory centr...   \n",
       "1  Coming to theatres on January 15, 2010\\r\\nStar...   \n",
       "2  A lone hero must fight his way across the wast...   \n",
       "3  Visit: http://www.innaloop.com\\r\\n\\r\\nA post-a...   \n",
       "4                                          SUBSCRIBE   \n",
       "\n",
       "                                                tags  view_count  like_count  \\\n",
       "0  ['Denzel Washington', 'Gary Oldman', 'Ray Stev...       32060          47   \n",
       "1  ['the', 'book', 'of', 'eli', 'film', 'official...     3325347        4505   \n",
       "2    [\"'The\", 'Book', 'of', \"Eli'\", 'Trailer', 'HD']          43           1   \n",
       "3  ['Eli', 'Denzel Washington', 'Michael Gambon',...         656           1   \n",
       "4  ['The', 'Book', 'of', 'Eli', 'Official', 'Trai...         494           0   \n",
       "\n",
       "   dislike_count  comment_count  tmdb_id  similarity_score  \n",
       "0              3             10    20504          0.685185  \n",
       "1            321           1983    20504          0.750000  \n",
       "2              0              0    20504          0.714286  \n",
       "3              0              0    20504          1.000000  \n",
       "4              0              0    20504          0.857143  "
      ],
      "text/html": "<div>\n<style scoped>\n    .dataframe tbody tr th:only-of-type {\n        vertical-align: middle;\n    }\n\n    .dataframe tbody tr th {\n        vertical-align: top;\n    }\n\n    .dataframe thead th {\n        text-align: right;\n    }\n</style>\n<table border=\"1\" class=\"dataframe\">\n  <thead>\n    <tr style=\"text-align: right;\">\n      <th></th>\n      <th>youtube_id</th>\n      <th>trailer_title</th>\n      <th>channel_title</th>\n      <th>channel_id</th>\n      <th>description</th>\n      <th>tags</th>\n      <th>view_count</th>\n      <th>like_count</th>\n      <th>dislike_count</th>\n      <th>comment_count</th>\n      <th>tmdb_id</th>\n      <th>similarity_score</th>\n    </tr>\n  </thead>\n  <tbody>\n    <tr>\n      <th>0</th>\n      <td>ksfqS4GuLfA</td>\n      <td>Book Of Eli Trailer</td>\n      <td>Sony Pictures Releasing Australia</td>\n      <td>UCQ2zp9FmJzOG_JzUJ0A-FlQ</td>\n      <td>Only At The Movies! February 25\\r\\nStory centr...</td>\n      <td>['Denzel Washington', 'Gary Oldman', 'Ray Stev...</td>\n      <td>32060</td>\n      <td>47</td>\n      <td>3</td>\n      <td>10</td>\n      <td>20504</td>\n      <td>0.685185</td>\n    </tr>\n    <tr>\n      <th>1</th>\n      <td>kAMUv22y1og</td>\n      <td>\"The Book of Eli\" - Official Trailer [HD HQ]</td>\n      <td>watchCulturetainment</td>\n      <td>UCuJXQzdMnQuNGkYJqgIwb-w</td>\n      <td>Coming to theatres on January 15, 2010\\r\\nStar...</td>\n      <td>['the', 'book', 'of', 'eli', 'film', 'official...</td>\n      <td>3325347</td>\n      <td>4505</td>\n      <td>321</td>\n      <td>1983</td>\n      <td>20504</td>\n      <td>0.750000</td>\n    </tr>\n    <tr>\n      <th>2</th>\n      <td>jh8mm8KR6ow</td>\n      <td>'The Book of Eli' Trailer HD</td>\n      <td>HDCIDER</td>\n      <td>UCw8uynfUyRdyK8dIZGSzlog</td>\n      <td>A lone hero must fight his way across the wast...</td>\n      <td>[\"'The\", 'Book', 'of', \"Eli'\", 'Trailer', 'HD']</td>\n      <td>43</td>\n      <td>1</td>\n      <td>0</td>\n      <td>0</td>\n      <td>20504</td>\n      <td>0.714286</td>\n    </tr>\n    <tr>\n      <th>3</th>\n      <td>o-v4L8OE3uA</td>\n      <td>The Book of Eli - Official Trailer</td>\n      <td>Innaloop</td>\n      <td>UC8h3JiDOhjouAGvKzPP8PNA</td>\n      <td>Visit: http://www.innaloop.com\\r\\n\\r\\nA post-a...</td>\n      <td>['Eli', 'Denzel Washington', 'Michael Gambon',...</td>\n      <td>656</td>\n      <td>1</td>\n      <td>0</td>\n      <td>0</td>\n      <td>20504</td>\n      <td>1.000000</td>\n    </tr>\n    <tr>\n      <th>4</th>\n      <td>28LXGuqDUqk</td>\n      <td>The Book of Eli - Official Trailer [HD]</td>\n      <td>AKAVinceanator</td>\n      <td>UCqTTUQVIWzCMmcJ54ZEEHUQ</td>\n      <td>SUBSCRIBE</td>\n      <td>['The', 'Book', 'of', 'Eli', 'Official', 'Trai...</td>\n      <td>494</td>\n      <td>0</td>\n      <td>0</td>\n      <td>0</td>\n      <td>20504</td>\n      <td>0.857143</td>\n    </tr>\n  </tbody>\n</table>\n</div>"
     },
     "metadata": {},
     "execution_count": 4
    }
   ],
   "source": [
    "trailers = pd.read_csv(\"dbs/trailers_2010s.csv\").rename(columns={'title': 'trailer_title'})\n",
    "trailers.head(5)"
   ]
  },
  {
   "cell_type": "code",
   "execution_count": 23,
   "metadata": {},
   "outputs": [],
   "source": [
    "comparison = watched_movies_2010s.merge(trailers, on='tmdb_id')"
   ]
  },
  {
   "cell_type": "code",
   "execution_count": 11,
   "metadata": {},
   "outputs": [
    {
     "output_type": "execute_result",
     "data": {
      "text/plain": [
       "pandas.core.frame.DataFrame"
      ]
     },
     "metadata": {},
     "execution_count": 11
    }
   ],
   "source": [
    "type(comparison)"
   ]
  },
  {
   "cell_type": "code",
   "execution_count": 24,
   "metadata": {},
   "outputs": [
    {
     "output_type": "execute_result",
     "data": {
      "text/plain": [
       "     tmdb_id                                title  \\\n",
       "276    51876                            Limitless   \n",
       "275    51876                            Limitless   \n",
       "277    51876                            Limitless   \n",
       "317    50546                      Just Go with It   \n",
       "318    50546                      Just Go with It   \n",
       "..       ...                                  ...   \n",
       "50     10138                           Iron Man 2   \n",
       "51     10138                           Iron Man 2   \n",
       "67      9543  Prince of Persia: The Sands of Time   \n",
       "68      9543  Prince of Persia: The Sands of Time   \n",
       "69      9543  Prince of Persia: The Sands of Time   \n",
       "\n",
       "                                         trailer_title  view_count  \\\n",
       "276                             'Limitless' Trailer HD     4441524   \n",
       "275     Sem Limites (2011) Trailer Nacional Legendado.     1117436   \n",
       "277                         LIMITLESS Trailer HD 1080p       16817   \n",
       "317                          JUST GO WITH IT - Trailer     2725592   \n",
       "318                         Just Go With It  - Trailer      294952   \n",
       "..                                                 ...         ...   \n",
       "50   Iron Man 2 - Espectacular Trailer 2 Español La...     2192748   \n",
       "51     IRON MAN 2 - TRAILER 2 - SUBTITULADO BY SAMYG12       32753   \n",
       "67   PRINCE OF PERSIA: THE SANDS OF TIME MOVIE TRAILER     5808997   \n",
       "68   Prince of Persia: The Sands of Time - Official...      321391   \n",
       "69       Prince of Persia: The Sands of Time Trailer C       15211   \n",
       "\n",
       "     similarity_score  \n",
       "276          0.500000  \n",
       "275          0.125000  \n",
       "277          0.400000  \n",
       "317          0.833333  \n",
       "318          0.833333  \n",
       "..                ...  \n",
       "50           0.363636  \n",
       "51           0.444444  \n",
       "67           0.800000  \n",
       "68           0.900000  \n",
       "69           0.800000  \n",
       "\n",
       "[210 rows x 5 columns]"
      ],
      "text/html": "<div>\n<style scoped>\n    .dataframe tbody tr th:only-of-type {\n        vertical-align: middle;\n    }\n\n    .dataframe tbody tr th {\n        vertical-align: top;\n    }\n\n    .dataframe thead th {\n        text-align: right;\n    }\n</style>\n<table border=\"1\" class=\"dataframe\">\n  <thead>\n    <tr style=\"text-align: right;\">\n      <th></th>\n      <th>tmdb_id</th>\n      <th>title</th>\n      <th>trailer_title</th>\n      <th>view_count</th>\n      <th>similarity_score</th>\n    </tr>\n  </thead>\n  <tbody>\n    <tr>\n      <th>276</th>\n      <td>51876</td>\n      <td>Limitless</td>\n      <td>'Limitless' Trailer HD</td>\n      <td>4441524</td>\n      <td>0.500000</td>\n    </tr>\n    <tr>\n      <th>275</th>\n      <td>51876</td>\n      <td>Limitless</td>\n      <td>Sem Limites (2011) Trailer Nacional Legendado.</td>\n      <td>1117436</td>\n      <td>0.125000</td>\n    </tr>\n    <tr>\n      <th>277</th>\n      <td>51876</td>\n      <td>Limitless</td>\n      <td>LIMITLESS Trailer HD 1080p</td>\n      <td>16817</td>\n      <td>0.400000</td>\n    </tr>\n    <tr>\n      <th>317</th>\n      <td>50546</td>\n      <td>Just Go with It</td>\n      <td>JUST GO WITH IT - Trailer</td>\n      <td>2725592</td>\n      <td>0.833333</td>\n    </tr>\n    <tr>\n      <th>318</th>\n      <td>50546</td>\n      <td>Just Go with It</td>\n      <td>Just Go With It  - Trailer</td>\n      <td>294952</td>\n      <td>0.833333</td>\n    </tr>\n    <tr>\n      <th>...</th>\n      <td>...</td>\n      <td>...</td>\n      <td>...</td>\n      <td>...</td>\n      <td>...</td>\n    </tr>\n    <tr>\n      <th>50</th>\n      <td>10138</td>\n      <td>Iron Man 2</td>\n      <td>Iron Man 2 - Espectacular Trailer 2 Español La...</td>\n      <td>2192748</td>\n      <td>0.363636</td>\n    </tr>\n    <tr>\n      <th>51</th>\n      <td>10138</td>\n      <td>Iron Man 2</td>\n      <td>IRON MAN 2 - TRAILER 2 - SUBTITULADO BY SAMYG12</td>\n      <td>32753</td>\n      <td>0.444444</td>\n    </tr>\n    <tr>\n      <th>67</th>\n      <td>9543</td>\n      <td>Prince of Persia: The Sands of Time</td>\n      <td>PRINCE OF PERSIA: THE SANDS OF TIME MOVIE TRAILER</td>\n      <td>5808997</td>\n      <td>0.800000</td>\n    </tr>\n    <tr>\n      <th>68</th>\n      <td>9543</td>\n      <td>Prince of Persia: The Sands of Time</td>\n      <td>Prince of Persia: The Sands of Time - Official...</td>\n      <td>321391</td>\n      <td>0.900000</td>\n    </tr>\n    <tr>\n      <th>69</th>\n      <td>9543</td>\n      <td>Prince of Persia: The Sands of Time</td>\n      <td>Prince of Persia: The Sands of Time Trailer C</td>\n      <td>15211</td>\n      <td>0.800000</td>\n    </tr>\n  </tbody>\n</table>\n<p>210 rows × 5 columns</p>\n</div>"
     },
     "metadata": {},
     "execution_count": 24
    }
   ],
   "source": [
    "grouped_comparison = comparison.sort_values(['tmdb_id', 'view_count'], ascending=False).groupby('tmdb_id')[['tmdb_id', 'title', 'trailer_title', 'view_count', 'similarity_score']]\n",
    "grouped_comparison.head(3)"
   ]
  },
  {
   "cell_type": "code",
   "execution_count": 28,
   "metadata": {},
   "outputs": [
    {
     "output_type": "execute_result",
     "data": {
      "text/plain": [
       "                                        trailer_title  view_count  \\\n",
       "50  Iron Man 2 - Espectacular Trailer 2 Español La...     2192748   \n",
       "51    IRON MAN 2 - TRAILER 2 - SUBTITULADO BY SAMYG12       32753   \n",
       "52                                 Iron Man 2 Trailer     3553451   \n",
       "53                        Official Iron Man 2 Trailer       26920   \n",
       "54                            Iron Man 2 - Trailer HD        4871   \n",
       "\n",
       "    similarity_score  \n",
       "50          0.363636  \n",
       "51          0.444444  \n",
       "52          0.800000  \n",
       "53          1.000000  \n",
       "54          0.666667  "
      ],
      "text/html": "<div>\n<style scoped>\n    .dataframe tbody tr th:only-of-type {\n        vertical-align: middle;\n    }\n\n    .dataframe tbody tr th {\n        vertical-align: top;\n    }\n\n    .dataframe thead th {\n        text-align: right;\n    }\n</style>\n<table border=\"1\" class=\"dataframe\">\n  <thead>\n    <tr style=\"text-align: right;\">\n      <th></th>\n      <th>trailer_title</th>\n      <th>view_count</th>\n      <th>similarity_score</th>\n    </tr>\n  </thead>\n  <tbody>\n    <tr>\n      <th>50</th>\n      <td>Iron Man 2 - Espectacular Trailer 2 Español La...</td>\n      <td>2192748</td>\n      <td>0.363636</td>\n    </tr>\n    <tr>\n      <th>51</th>\n      <td>IRON MAN 2 - TRAILER 2 - SUBTITULADO BY SAMYG12</td>\n      <td>32753</td>\n      <td>0.444444</td>\n    </tr>\n    <tr>\n      <th>52</th>\n      <td>Iron Man 2 Trailer</td>\n      <td>3553451</td>\n      <td>0.800000</td>\n    </tr>\n    <tr>\n      <th>53</th>\n      <td>Official Iron Man 2 Trailer</td>\n      <td>26920</td>\n      <td>1.000000</td>\n    </tr>\n    <tr>\n      <th>54</th>\n      <td>Iron Man 2 - Trailer HD</td>\n      <td>4871</td>\n      <td>0.666667</td>\n    </tr>\n  </tbody>\n</table>\n</div>"
     },
     "metadata": {},
     "execution_count": 28
    }
   ],
   "source": [
    "comparison.loc[comparison['tmdb_id'] == 10138][['trailer_title', 'view_count', 'similarity_score']]"
   ]
  },
  {
   "cell_type": "code",
   "execution_count": null,
   "metadata": {},
   "outputs": [],
   "source": []
  }
 ]
}