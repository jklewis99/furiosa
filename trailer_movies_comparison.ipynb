{
 "metadata": {
  "language_info": {
   "codemirror_mode": {
    "name": "ipython",
    "version": 3
   },
   "file_extension": ".py",
   "mimetype": "text/x-python",
   "name": "python",
   "nbconvert_exporter": "python",
   "pygments_lexer": "ipython3",
   "version": "3.7.7-final"
  },
  "orig_nbformat": 2,
  "kernelspec": {
   "name": "Python 3.7.7 64-bit",
   "display_name": "Python 3.7.7 64-bit",
   "metadata": {
    "interpreter": {
     "hash": "bc701bceb5233975ae1ea0bfd0a7ac7ed425a54e39c34723a45dde614ae2574b"
    }
   }
  }
 },
 "nbformat": 4,
 "nbformat_minor": 2,
 "cells": [
  {
   "cell_type": "code",
   "execution_count": 1,
   "metadata": {},
   "outputs": [],
   "source": [
    "import pandas as pd\n",
    "import numpy as np"
   ]
  },
  {
   "cell_type": "code",
   "execution_count": 2,
   "metadata": {},
   "outputs": [],
   "source": [
    "movies_2010s = pd.read_csv(\"dbs/movies-from-2010s.csv\")\n",
    "movies_2010s.dropna(inplace=True) # get rid of movies with null values\n",
    "movies_2010s = movies_2010s.loc[movies_2010s['revenue'] > 0] # get revenues that are greater than 0\n",
    "num_votes_required = movies_2010s['vote_count'].quantile(0.8)\n",
    "watched_movies_2010s = movies_2010s.copy().loc[movies_2010s['vote_count'] >= num_votes_required]"
   ]
  },
  {
   "cell_type": "code",
   "execution_count": 3,
   "metadata": {},
   "outputs": [
    {
     "output_type": "execute_result",
     "data": {
      "text/plain": [
       "    youtube_id                                 trailer_title  \\\n",
       "0  ksfqS4GuLfA                           Book Of Eli Trailer   \n",
       "1  kAMUv22y1og  \"The Book of Eli\" - Official Trailer [HD HQ]   \n",
       "2  jh8mm8KR6ow                  'The Book of Eli' Trailer HD   \n",
       "3  o-v4L8OE3uA            The Book of Eli - Official Trailer   \n",
       "4  28LXGuqDUqk       The Book of Eli - Official Trailer [HD]   \n",
       "\n",
       "                       channel_title                channel_id  \\\n",
       "0  Sony Pictures Releasing Australia  UCQ2zp9FmJzOG_JzUJ0A-FlQ   \n",
       "1               watchCulturetainment  UCuJXQzdMnQuNGkYJqgIwb-w   \n",
       "2                            HDCIDER  UCw8uynfUyRdyK8dIZGSzlog   \n",
       "3                           Innaloop  UC8h3JiDOhjouAGvKzPP8PNA   \n",
       "4                     AKAVinceanator  UCqTTUQVIWzCMmcJ54ZEEHUQ   \n",
       "\n",
       "                                         description  \\\n",
       "0  Only At The Movies! February 25\\r\\nStory centr...   \n",
       "1  Coming to theatres on January 15, 2010\\r\\nStar...   \n",
       "2  A lone hero must fight his way across the wast...   \n",
       "3  Visit: http://www.innaloop.com\\r\\n\\r\\nA post-a...   \n",
       "4                                          SUBSCRIBE   \n",
       "\n",
       "                                                tags  view_count  like_count  \\\n",
       "0  ['Denzel Washington', 'Gary Oldman', 'Ray Stev...       32060          47   \n",
       "1  ['the', 'book', 'of', 'eli', 'film', 'official...     3325347        4505   \n",
       "2    [\"'The\", 'Book', 'of', \"Eli'\", 'Trailer', 'HD']          43           1   \n",
       "3  ['Eli', 'Denzel Washington', 'Michael Gambon',...         656           1   \n",
       "4  ['The', 'Book', 'of', 'Eli', 'Official', 'Trai...         494           0   \n",
       "\n",
       "   dislike_count  comment_count  tmdb_id  similarity_score  \n",
       "0              3             10    20504          0.685185  \n",
       "1            321           1983    20504          0.750000  \n",
       "2              0              0    20504          0.714286  \n",
       "3              0              0    20504          1.000000  \n",
       "4              0              0    20504          0.857143  "
      ],
      "text/html": "<div>\n<style scoped>\n    .dataframe tbody tr th:only-of-type {\n        vertical-align: middle;\n    }\n\n    .dataframe tbody tr th {\n        vertical-align: top;\n    }\n\n    .dataframe thead th {\n        text-align: right;\n    }\n</style>\n<table border=\"1\" class=\"dataframe\">\n  <thead>\n    <tr style=\"text-align: right;\">\n      <th></th>\n      <th>youtube_id</th>\n      <th>trailer_title</th>\n      <th>channel_title</th>\n      <th>channel_id</th>\n      <th>description</th>\n      <th>tags</th>\n      <th>view_count</th>\n      <th>like_count</th>\n      <th>dislike_count</th>\n      <th>comment_count</th>\n      <th>tmdb_id</th>\n      <th>similarity_score</th>\n    </tr>\n  </thead>\n  <tbody>\n    <tr>\n      <th>0</th>\n      <td>ksfqS4GuLfA</td>\n      <td>Book Of Eli Trailer</td>\n      <td>Sony Pictures Releasing Australia</td>\n      <td>UCQ2zp9FmJzOG_JzUJ0A-FlQ</td>\n      <td>Only At The Movies! February 25\\r\\nStory centr...</td>\n      <td>['Denzel Washington', 'Gary Oldman', 'Ray Stev...</td>\n      <td>32060</td>\n      <td>47</td>\n      <td>3</td>\n      <td>10</td>\n      <td>20504</td>\n      <td>0.685185</td>\n    </tr>\n    <tr>\n      <th>1</th>\n      <td>kAMUv22y1og</td>\n      <td>\"The Book of Eli\" - Official Trailer [HD HQ]</td>\n      <td>watchCulturetainment</td>\n      <td>UCuJXQzdMnQuNGkYJqgIwb-w</td>\n      <td>Coming to theatres on January 15, 2010\\r\\nStar...</td>\n      <td>['the', 'book', 'of', 'eli', 'film', 'official...</td>\n      <td>3325347</td>\n      <td>4505</td>\n      <td>321</td>\n      <td>1983</td>\n      <td>20504</td>\n      <td>0.750000</td>\n    </tr>\n    <tr>\n      <th>2</th>\n      <td>jh8mm8KR6ow</td>\n      <td>'The Book of Eli' Trailer HD</td>\n      <td>HDCIDER</td>\n      <td>UCw8uynfUyRdyK8dIZGSzlog</td>\n      <td>A lone hero must fight his way across the wast...</td>\n      <td>[\"'The\", 'Book', 'of', \"Eli'\", 'Trailer', 'HD']</td>\n      <td>43</td>\n      <td>1</td>\n      <td>0</td>\n      <td>0</td>\n      <td>20504</td>\n      <td>0.714286</td>\n    </tr>\n    <tr>\n      <th>3</th>\n      <td>o-v4L8OE3uA</td>\n      <td>The Book of Eli - Official Trailer</td>\n      <td>Innaloop</td>\n      <td>UC8h3JiDOhjouAGvKzPP8PNA</td>\n      <td>Visit: http://www.innaloop.com\\r\\n\\r\\nA post-a...</td>\n      <td>['Eli', 'Denzel Washington', 'Michael Gambon',...</td>\n      <td>656</td>\n      <td>1</td>\n      <td>0</td>\n      <td>0</td>\n      <td>20504</td>\n      <td>1.000000</td>\n    </tr>\n    <tr>\n      <th>4</th>\n      <td>28LXGuqDUqk</td>\n      <td>The Book of Eli - Official Trailer [HD]</td>\n      <td>AKAVinceanator</td>\n      <td>UCqTTUQVIWzCMmcJ54ZEEHUQ</td>\n      <td>SUBSCRIBE</td>\n      <td>['The', 'Book', 'of', 'Eli', 'Official', 'Trai...</td>\n      <td>494</td>\n      <td>0</td>\n      <td>0</td>\n      <td>0</td>\n      <td>20504</td>\n      <td>0.857143</td>\n    </tr>\n  </tbody>\n</table>\n</div>"
     },
     "metadata": {},
     "execution_count": 3
    }
   ],
   "source": [
    "trailers = pd.read_csv(\"dbs/trailers_2010s.csv\").rename(columns={'title': 'trailer_title'})\n",
    "trailers.head(5)"
   ]
  },
  {
   "cell_type": "code",
   "execution_count": 4,
   "metadata": {},
   "outputs": [],
   "source": [
    "comparison = watched_movies_2010s.merge(trailers, on='tmdb_id')"
   ]
  },
  {
   "cell_type": "code",
   "execution_count": 5,
   "metadata": {},
   "outputs": [
    {
     "output_type": "execute_result",
     "data": {
      "text/plain": [
       "pandas.core.frame.DataFrame"
      ]
     },
     "metadata": {},
     "execution_count": 5
    }
   ],
   "source": [
    "type(comparison)"
   ]
  },
  {
   "cell_type": "code",
   "execution_count": 6,
   "metadata": {},
   "outputs": [
    {
     "output_type": "execute_result",
     "data": {
      "text/plain": [
       "     tmdb_id                                title  \\\n",
       "276    51876                            Limitless   \n",
       "275    51876                            Limitless   \n",
       "277    51876                            Limitless   \n",
       "317    50546                      Just Go with It   \n",
       "318    50546                      Just Go with It   \n",
       "..       ...                                  ...   \n",
       "50     10138                           Iron Man 2   \n",
       "51     10138                           Iron Man 2   \n",
       "67      9543  Prince of Persia: The Sands of Time   \n",
       "68      9543  Prince of Persia: The Sands of Time   \n",
       "69      9543  Prince of Persia: The Sands of Time   \n",
       "\n",
       "                                         trailer_title  view_count  \\\n",
       "276                             'Limitless' Trailer HD     4441524   \n",
       "275     Sem Limites (2011) Trailer Nacional Legendado.     1117436   \n",
       "277                         LIMITLESS Trailer HD 1080p       16817   \n",
       "317                          JUST GO WITH IT - Trailer     2725592   \n",
       "318                         Just Go With It  - Trailer      294952   \n",
       "..                                                 ...         ...   \n",
       "50   Iron Man 2 - Espectacular Trailer 2 Español La...     2192748   \n",
       "51     IRON MAN 2 - TRAILER 2 - SUBTITULADO BY SAMYG12       32753   \n",
       "67   PRINCE OF PERSIA: THE SANDS OF TIME MOVIE TRAILER     5808997   \n",
       "68   Prince of Persia: The Sands of Time - Official...      321391   \n",
       "69       Prince of Persia: The Sands of Time Trailer C       15211   \n",
       "\n",
       "     similarity_score  \n",
       "276          0.500000  \n",
       "275          0.125000  \n",
       "277          0.400000  \n",
       "317          0.833333  \n",
       "318          0.833333  \n",
       "..                ...  \n",
       "50           0.363636  \n",
       "51           0.444444  \n",
       "67           0.800000  \n",
       "68           0.900000  \n",
       "69           0.800000  \n",
       "\n",
       "[210 rows x 5 columns]"
      ],
      "text/html": "<div>\n<style scoped>\n    .dataframe tbody tr th:only-of-type {\n        vertical-align: middle;\n    }\n\n    .dataframe tbody tr th {\n        vertical-align: top;\n    }\n\n    .dataframe thead th {\n        text-align: right;\n    }\n</style>\n<table border=\"1\" class=\"dataframe\">\n  <thead>\n    <tr style=\"text-align: right;\">\n      <th></th>\n      <th>tmdb_id</th>\n      <th>title</th>\n      <th>trailer_title</th>\n      <th>view_count</th>\n      <th>similarity_score</th>\n    </tr>\n  </thead>\n  <tbody>\n    <tr>\n      <th>276</th>\n      <td>51876</td>\n      <td>Limitless</td>\n      <td>'Limitless' Trailer HD</td>\n      <td>4441524</td>\n      <td>0.500000</td>\n    </tr>\n    <tr>\n      <th>275</th>\n      <td>51876</td>\n      <td>Limitless</td>\n      <td>Sem Limites (2011) Trailer Nacional Legendado.</td>\n      <td>1117436</td>\n      <td>0.125000</td>\n    </tr>\n    <tr>\n      <th>277</th>\n      <td>51876</td>\n      <td>Limitless</td>\n      <td>LIMITLESS Trailer HD 1080p</td>\n      <td>16817</td>\n      <td>0.400000</td>\n    </tr>\n    <tr>\n      <th>317</th>\n      <td>50546</td>\n      <td>Just Go with It</td>\n      <td>JUST GO WITH IT - Trailer</td>\n      <td>2725592</td>\n      <td>0.833333</td>\n    </tr>\n    <tr>\n      <th>318</th>\n      <td>50546</td>\n      <td>Just Go with It</td>\n      <td>Just Go With It  - Trailer</td>\n      <td>294952</td>\n      <td>0.833333</td>\n    </tr>\n    <tr>\n      <th>...</th>\n      <td>...</td>\n      <td>...</td>\n      <td>...</td>\n      <td>...</td>\n      <td>...</td>\n    </tr>\n    <tr>\n      <th>50</th>\n      <td>10138</td>\n      <td>Iron Man 2</td>\n      <td>Iron Man 2 - Espectacular Trailer 2 Español La...</td>\n      <td>2192748</td>\n      <td>0.363636</td>\n    </tr>\n    <tr>\n      <th>51</th>\n      <td>10138</td>\n      <td>Iron Man 2</td>\n      <td>IRON MAN 2 - TRAILER 2 - SUBTITULADO BY SAMYG12</td>\n      <td>32753</td>\n      <td>0.444444</td>\n    </tr>\n    <tr>\n      <th>67</th>\n      <td>9543</td>\n      <td>Prince of Persia: The Sands of Time</td>\n      <td>PRINCE OF PERSIA: THE SANDS OF TIME MOVIE TRAILER</td>\n      <td>5808997</td>\n      <td>0.800000</td>\n    </tr>\n    <tr>\n      <th>68</th>\n      <td>9543</td>\n      <td>Prince of Persia: The Sands of Time</td>\n      <td>Prince of Persia: The Sands of Time - Official...</td>\n      <td>321391</td>\n      <td>0.900000</td>\n    </tr>\n    <tr>\n      <th>69</th>\n      <td>9543</td>\n      <td>Prince of Persia: The Sands of Time</td>\n      <td>Prince of Persia: The Sands of Time Trailer C</td>\n      <td>15211</td>\n      <td>0.800000</td>\n    </tr>\n  </tbody>\n</table>\n<p>210 rows × 5 columns</p>\n</div>"
     },
     "metadata": {},
     "execution_count": 6
    }
   ],
   "source": [
    "grouped_comparison = comparison.sort_values(['tmdb_id', 'view_count'], ascending=False).groupby('tmdb_id')[['tmdb_id', 'title', 'trailer_title', 'view_count', 'similarity_score']]\n",
    "grouped_comparison.head(3)"
   ]
  },
  {
   "cell_type": "code",
   "execution_count": 20,
   "metadata": {},
   "outputs": [],
   "source": [
    "comparison = comparison[comparison['trailer_title'] != 'Taylor Swift - Love Story'] # 70\n",
    "# comparison.loc[comparison['tmdb_id'] == 10138][['trailer_title', 'view_count', 'similarity_score']]"
   ]
  },
  {
   "cell_type": "code",
   "execution_count": 21,
   "metadata": {},
   "outputs": [
    {
     "output_type": "execute_result",
     "data": {
      "text/plain": [
       "array([   32060,  3325347,       43,      656,      494,    12597,\n",
       "           1675,    44310,   311906,   117898,   956932,    18394,\n",
       "            843, 11596748,      552,   236923,  6862808,   149379,\n",
       "         166769,     2247,   116649,   568094, 12202469,     4786,\n",
       "          42445, 10342056,  6796556,  2780213,     9188,    57267,\n",
       "        1657332,     3565,  1731616,    53585,     1690,     6095,\n",
       "        5517420,    89458,   168868,   160133,    19346,     4235,\n",
       "        4360513,   411820,    11703,  2162424,     2560,   520204,\n",
       "        1346395,    81743,  2192748,    32753,  3553451,    26920,\n",
       "           4871,    37202,    90367,    10201,     7687,   670624,\n",
       "         139100,   198588,  6049977,   100851,    28013,    11737,\n",
       "          13021,  5808997,   321391,    15211,     1443,  4068310,\n",
       "          78735,   133739,   699552,    44642,    86787,   235098,\n",
       "            265,  6952535,    34198, 10893617, 10753774,     8401,\n",
       "        7040154,   777568,    53214,  3769998,    90495,  4336990,\n",
       "           3566,  6399776, 22463096,    70245,  1244212,  2927039,\n",
       "         219937,  9771844,  1001477,   101627,     7828,     6891,\n",
       "        1566283,    11970,  3301672,   527153,   759994,  2122446,\n",
       "        5932605, 20903587,   184490,    11436,  4366978,    71345,\n",
       "         151517,   181867,    88803,  6060732,  1302149,     7953,\n",
       "         605013,  3181457,    29091,    15181,     1538,  4590181,\n",
       "         206672,   108259,     1780,     2535,  5645786,   995841,\n",
       "       16334462,    36607,  1497230,    17981,    68021,  8332763,\n",
       "          17272,     4317,    59505,    31931,  8203010,     7882,\n",
       "         665781,  2109156,     4028,     9213,   320392,  1525465,\n",
       "          22888,   135646,  3650399,   280343,    89028,    30425,\n",
       "         814198,  2972780,    31474,     1044, 21472697,     8847,\n",
       "         562428,    26535,  1545394,   468912,       49, 12854359,\n",
       "           5636,     9657,     6675,  9722439,     3931,   139865,\n",
       "       12115538,      301,    13574,    30407,     7031,   255451,\n",
       "          91460,   591135,  1550936,    93743,     6332,     3837,\n",
       "          54452,     8806,  4240073,    42754, 12974811,    73712,\n",
       "        2552559,     9581,  1409180,  2902031,    13477,   513542,\n",
       "          21812,  2248560,    35996,      504, 29748514,     9603,\n",
       "         176492,    11231,   143848,    22275,     6252,  1501945,\n",
       "       38369779,     2335,    19614,     1673,    52116,    13704,\n",
       "            751,    14064, 19970738,    48426,  3327700,  5442103,\n",
       "        2167064,  3358055,    29933,  2187412,     5169,    44259,\n",
       "           4263,      553,   812806,    52207, 13206322,      553,\n",
       "        1024574,   475580,     8815,     7858,  4455927,  2935570,\n",
       "        4249441,   648569,   101588,    19129,    58070,  2408532,\n",
       "          71511,    25283,    19999,    39641,    73804,      146,\n",
       "        6239543,     2497,  1328810,   127732,  1476936, 13505805,\n",
       "        2903830,   113671,     3669,   549736,     2703,   312032,\n",
       "         870331,       58,  2671330,     5852,     1121,     7433,\n",
       "         642399,   230381,  5144568,   139321,  1117436,  4441524,\n",
       "          16817,     4923,     3701,  4455927,   362663,   407287,\n",
       "         101634,  3351109,     5118,   480132,    12073,  1856543,\n",
       "          36719,   139372,  1280482,    43350,    27802,   678940,\n",
       "          82415,  2604300,     4356, 11917212,    72654,     3627,\n",
       "           2492,  6314837,     4342,   143244,    17316,   100523,\n",
       "          21266,  2882248,    38337,    11729,  1726631,     2664,\n",
       "         321235,    45844,    99725,   192305,  2725592,   294952,\n",
       "            879,    59686,      978,  4227067, 11845231,    10886,\n",
       "          77122,   763878,  7645584,      345,    59340,    18922,\n",
       "        2481607,     1158,  1774646,    57469,   481273,    39512,\n",
       "           5826,    50993,  2126267,   893992,    75168,    49299,\n",
       "          39932,    42675, 10751714,  1864549,  1496963,  3945378,\n",
       "         621182], dtype=int64)"
      ]
     },
     "metadata": {},
     "execution_count": 21
    }
   ],
   "source": [
    "view_counts = comparison['view_count'].values\n",
    "view_counts"
   ]
  },
  {
   "cell_type": "code",
   "execution_count": 10,
   "metadata": {},
   "outputs": [
    {
     "output_type": "execute_result",
     "data": {
      "text/plain": [
       "array([ 0.68518519,  0.75      ,  0.71428571,  1.        ,  0.85714286,\n",
       "        0.33333333,  0.42857143,  0.42857143,  0.57142857,  0.75      ,\n",
       "        0.42857143,  0.42857143,  0.6       ,  0.8       ,  0.6       ,\n",
       "        0.66666667,  0.72727273,  0.7       ,  0.875     ,  0.81818182,\n",
       "        0.15384615,  0.28571429,  0.8       ,  0.8       ,  0.75      ,\n",
       "        0.42857143,  0.45454545,  0.83333333,  0.8       ,  0.8       ,\n",
       "        0.33333333,  0.5       ,  0.5       ,  0.8       ,  0.6       ,\n",
       "        0.5       ,  0.75      ,  0.875     ,  0.875     ,  0.75      ,\n",
       "        0.3125    ,  0.45454545,  0.625     ,  0.6969697 ,  0.57442348,\n",
       "        0.2       ,  0.33333333,  0.42857143,  0.6       ,  0.4       ,\n",
       "        0.36363636,  0.44444444,  0.8       ,  1.        ,  0.66666667,\n",
       "        0.5       ,  0.6       ,  0.6       ,  0.75      ,  0.66666667,\n",
       "        0.5       ,  0.6       ,  0.6       ,  0.8       ,  0.6       ,\n",
       "        0.5       ,  0.7       ,  0.8       ,  0.9       ,  0.8       ,\n",
       "        0.        ,  0.57142857,  0.59398496,  0.8       ,  0.71428571,\n",
       "        0.33333333,  0.6       ,  0.42857143,  0.75      ,  0.6       ,\n",
       "        0.66666667,  0.66666667,  0.66666667,  0.8       ,  0.8       ,\n",
       "        0.57142857,  0.57142857,  0.71428571,  0.66666667,  0.66666667,\n",
       "        0.625     ,  0.71428571,  0.625     ,  0.83333333,  0.83333333,\n",
       "        0.25      ,  0.38636364,  0.66666667,  0.57142857,  0.66666667,\n",
       "        0.33333333,  0.66666667,  1.01041667,  0.75      ,  0.66666667,\n",
       "        0.5       ,  0.5       ,  0.5       ,  0.6       ,  0.5       ,\n",
       "        0.4       ,  0.4       ,  0.66666667,  0.75      ,  0.5       ,\n",
       "        0.27272727,  0.3       ,  0.44444444,  0.57142857,  0.44444444,\n",
       "        0.57142857,  0.66666667,  0.8       ,  1.        ,  0.66666667,\n",
       "        0.44444444,  0.55555556,  0.57142857,  1.        ,  1.        ,\n",
       "        0.5       ,  0.55555556,  0.57142857,  0.83333333,  0.66666667,\n",
       "        0.22222222,  0.5       ,  0.25      ,  1.        ,  0.66666667,\n",
       "        0.4       ,  0.66666667,  0.5       ,  0.83333333,  0.71428571,\n",
       "        0.5       ,  0.66666667,  0.8       ,  1.00250627,  0.66666667,\n",
       "        0.6       ,  0.66666667,  0.75      ,  1.        ,  0.75      ,\n",
       "        0.5       ,  0.5       ,  0.51754386,  0.75      ,  0.78448276,\n",
       "        0.42173913,  0.66666667,  0.67730496,  0.72492401,  0.8       ,\n",
       "        0.33333333,  0.42857143,  0.66666667,  0.83333333,  0.5       ,\n",
       "        0.5       ,  0.6       ,  1.        ,  1.        ,  0.67866667,\n",
       "        0.75      ,  0.75      ,  0.75      ,  1.        ,  1.        ,\n",
       "        0.2       ,  0.33333333,  0.25      ,  0.375     ,  0.33333333,\n",
       "        0.22073733,  0.27272727,  0.6       ,  1.        ,  0.6       ,\n",
       "        0.375     ,  0.57142857,  0.6       ,  0.66666667,  0.75      ,\n",
       "        0.33333333,  0.33333333,  0.66666667,  0.33333333,  0.33333333,\n",
       "        0.43818681,  0.6       ,  0.75      ,  0.66666667,  0.6       ,\n",
       "       -0.125     ,  0.16666667,  0.6       ,  0.6       ,  0.33333333,\n",
       "        0.63636364,  0.72727273,  0.83333333,  0.81818182,  1.        ,\n",
       "        0.08333333,  0.11111111,  0.33333333,  0.15384615,  0.15384615,\n",
       "        0.4       ,  0.42857143,  0.5       ,  0.75      ,  0.75      ,\n",
       "        0.42857143,  0.6       ,  0.75      ,  1.        ,  0.6       ,\n",
       "        0.33333333,  0.4       ,  0.66666667,  0.6       ,  0.5       ,\n",
       "        0.27272727,  0.33333333,  0.57142857,  0.57142857,  0.4       ,\n",
       "        0.76923077,  0.92307692,  0.78571429,  1.        ,  1.00625   ,\n",
       "        0.3       ,  0.36363636,  0.75      ,  1.        ,  0.5       ,\n",
       "        0.36363636,  0.42857143,  0.5       ,  0.6       ,  0.42857143,\n",
       "        0.29114907,  0.6052356 ,  0.80543478,  1.00543478,  0.80543478,\n",
       "        0.57142857,  0.66666667,  0.6       ,  1.        ,  0.75      ,\n",
       "        0.51345291,  0.51801802,  0.57231533,  1.03125   ,  0.68405797,\n",
       "        0.22222222,  0.42857143,  0.6       ,  0.75      ,  0.66666667,\n",
       "        0.125     ,  0.5       ,  0.4       ,  0.66666667,  0.5       ,\n",
       "        0.07692308,  0.8       ,  0.71428571,  0.83333333,  0.83333333,\n",
       "        0.28571429,  0.28571429,  0.66666667,  0.66666667,  0.33333333,\n",
       "        0.5       ,  0.5       ,  0.66666667,  0.75      ,  0.75      ,\n",
       "        0.22222222,  0.4       ,  0.5       ,  0.5       ,  0.4       ,\n",
       "        0.44444444,  0.44444444,  0.66666667,  0.8       ,  0.66666667,\n",
       "        0.33333333,  0.41666667,  0.71428571,  0.55555556,  0.71428571,\n",
       "        0.4       ,  0.8       ,  0.8       ,  1.00694444,  0.81282051,\n",
       "       -0.30769231,  0.44444444,  0.83333333,  0.83333333,  0.625     ,\n",
       "        0.125     ,  0.26666667,  0.64640673,  0.73897707,  0.5       ,\n",
       "        0.21428571,  0.33333333,  0.75      ,  0.8       ,  0.75      ,\n",
       "        0.11111111,  0.6       ,  1.00684932,  0.61442308,  0.75      ,\n",
       "        0.33333333,  0.4       ,  0.4       ,  0.66666667,  0.6       ,\n",
       "        0.33333333,  0.33333333,  0.66666667,  0.66666667,  0.66666667,\n",
       "        0.33333333,  0.4       ,  0.33333333,  0.75      ,  0.75      ])"
      ]
     },
     "metadata": {},
     "execution_count": 10
    }
   ],
   "source": [
    "similarity_scores = comparison['similarity_score'].values\n",
    "similarity_scores"
   ]
  },
  {
   "cell_type": "code",
   "execution_count": 22,
   "metadata": {},
   "outputs": [
    {
     "output_type": "error",
     "ename": "ValueError",
     "evalue": "x and y must be the same size",
     "traceback": [
      "\u001b[1;31m---------------------------------------------------------------------------\u001b[0m",
      "\u001b[1;31mValueError\u001b[0m                                Traceback (most recent call last)",
      "\u001b[1;32m<ipython-input-22-d6ee7709e5d8>\u001b[0m in \u001b[0;36m<module>\u001b[1;34m\u001b[0m\n\u001b[0;32m      1\u001b[0m \u001b[1;32mimport\u001b[0m \u001b[0mmatplotlib\u001b[0m\u001b[1;33m.\u001b[0m\u001b[0mpyplot\u001b[0m \u001b[1;32mas\u001b[0m \u001b[0mplt\u001b[0m\u001b[1;33m\u001b[0m\u001b[1;33m\u001b[0m\u001b[0m\n\u001b[1;32m----> 2\u001b[1;33m \u001b[0mplt\u001b[0m\u001b[1;33m.\u001b[0m\u001b[0mscatter\u001b[0m\u001b[1;33m(\u001b[0m\u001b[0msimilarity_scores\u001b[0m\u001b[1;33m,\u001b[0m \u001b[0mview_counts\u001b[0m\u001b[1;33m)\u001b[0m\u001b[1;33m\u001b[0m\u001b[1;33m\u001b[0m\u001b[0m\n\u001b[0m\u001b[0;32m      3\u001b[0m \u001b[0mplt\u001b[0m\u001b[1;33m.\u001b[0m\u001b[0mxlabel\u001b[0m\u001b[1;33m(\u001b[0m\u001b[1;34m'Similarity Score'\u001b[0m\u001b[1;33m)\u001b[0m\u001b[1;33m\u001b[0m\u001b[1;33m\u001b[0m\u001b[0m\n\u001b[0;32m      4\u001b[0m \u001b[0mplt\u001b[0m\u001b[1;33m.\u001b[0m\u001b[0mylabel\u001b[0m\u001b[1;33m(\u001b[0m\u001b[1;34m\"View Count\"\u001b[0m\u001b[1;33m)\u001b[0m\u001b[1;33m\u001b[0m\u001b[1;33m\u001b[0m\u001b[0m\n\u001b[0;32m      5\u001b[0m \u001b[0mplt\u001b[0m\u001b[1;33m.\u001b[0m\u001b[0mtitle\u001b[0m\u001b[1;33m(\u001b[0m\u001b[1;34m\"Similarity Score vs View Count\"\u001b[0m\u001b[1;33m)\u001b[0m\u001b[1;33m\u001b[0m\u001b[1;33m\u001b[0m\u001b[0m\n",
      "\u001b[1;32m~\\anaconda3\\envs\\capstone\\lib\\site-packages\\matplotlib\\pyplot.py\u001b[0m in \u001b[0;36mscatter\u001b[1;34m(x, y, s, c, marker, cmap, norm, vmin, vmax, alpha, linewidths, verts, edgecolors, plotnonfinite, data, **kwargs)\u001b[0m\n\u001b[0;32m   2893\u001b[0m         \u001b[0mverts\u001b[0m\u001b[1;33m=\u001b[0m\u001b[0mverts\u001b[0m\u001b[1;33m,\u001b[0m \u001b[0medgecolors\u001b[0m\u001b[1;33m=\u001b[0m\u001b[0medgecolors\u001b[0m\u001b[1;33m,\u001b[0m\u001b[1;33m\u001b[0m\u001b[1;33m\u001b[0m\u001b[0m\n\u001b[0;32m   2894\u001b[0m         \u001b[0mplotnonfinite\u001b[0m\u001b[1;33m=\u001b[0m\u001b[0mplotnonfinite\u001b[0m\u001b[1;33m,\u001b[0m\u001b[1;33m\u001b[0m\u001b[1;33m\u001b[0m\u001b[0m\n\u001b[1;32m-> 2895\u001b[1;33m         **({\"data\": data} if data is not None else {}), **kwargs)\n\u001b[0m\u001b[0;32m   2896\u001b[0m     \u001b[0msci\u001b[0m\u001b[1;33m(\u001b[0m\u001b[0m__ret\u001b[0m\u001b[1;33m)\u001b[0m\u001b[1;33m\u001b[0m\u001b[1;33m\u001b[0m\u001b[0m\n\u001b[0;32m   2897\u001b[0m     \u001b[1;32mreturn\u001b[0m \u001b[0m__ret\u001b[0m\u001b[1;33m\u001b[0m\u001b[1;33m\u001b[0m\u001b[0m\n",
      "\u001b[1;32m~\\anaconda3\\envs\\capstone\\lib\\site-packages\\matplotlib\\__init__.py\u001b[0m in \u001b[0;36minner\u001b[1;34m(ax, data, *args, **kwargs)\u001b[0m\n\u001b[0;32m   1436\u001b[0m     \u001b[1;32mdef\u001b[0m \u001b[0minner\u001b[0m\u001b[1;33m(\u001b[0m\u001b[0max\u001b[0m\u001b[1;33m,\u001b[0m \u001b[1;33m*\u001b[0m\u001b[0margs\u001b[0m\u001b[1;33m,\u001b[0m \u001b[0mdata\u001b[0m\u001b[1;33m=\u001b[0m\u001b[1;32mNone\u001b[0m\u001b[1;33m,\u001b[0m \u001b[1;33m**\u001b[0m\u001b[0mkwargs\u001b[0m\u001b[1;33m)\u001b[0m\u001b[1;33m:\u001b[0m\u001b[1;33m\u001b[0m\u001b[1;33m\u001b[0m\u001b[0m\n\u001b[0;32m   1437\u001b[0m         \u001b[1;32mif\u001b[0m \u001b[0mdata\u001b[0m \u001b[1;32mis\u001b[0m \u001b[1;32mNone\u001b[0m\u001b[1;33m:\u001b[0m\u001b[1;33m\u001b[0m\u001b[1;33m\u001b[0m\u001b[0m\n\u001b[1;32m-> 1438\u001b[1;33m             \u001b[1;32mreturn\u001b[0m \u001b[0mfunc\u001b[0m\u001b[1;33m(\u001b[0m\u001b[0max\u001b[0m\u001b[1;33m,\u001b[0m \u001b[1;33m*\u001b[0m\u001b[0mmap\u001b[0m\u001b[1;33m(\u001b[0m\u001b[0msanitize_sequence\u001b[0m\u001b[1;33m,\u001b[0m \u001b[0margs\u001b[0m\u001b[1;33m)\u001b[0m\u001b[1;33m,\u001b[0m \u001b[1;33m**\u001b[0m\u001b[0mkwargs\u001b[0m\u001b[1;33m)\u001b[0m\u001b[1;33m\u001b[0m\u001b[1;33m\u001b[0m\u001b[0m\n\u001b[0m\u001b[0;32m   1439\u001b[0m \u001b[1;33m\u001b[0m\u001b[0m\n\u001b[0;32m   1440\u001b[0m         \u001b[0mbound\u001b[0m \u001b[1;33m=\u001b[0m \u001b[0mnew_sig\u001b[0m\u001b[1;33m.\u001b[0m\u001b[0mbind\u001b[0m\u001b[1;33m(\u001b[0m\u001b[0max\u001b[0m\u001b[1;33m,\u001b[0m \u001b[1;33m*\u001b[0m\u001b[0margs\u001b[0m\u001b[1;33m,\u001b[0m \u001b[1;33m**\u001b[0m\u001b[0mkwargs\u001b[0m\u001b[1;33m)\u001b[0m\u001b[1;33m\u001b[0m\u001b[1;33m\u001b[0m\u001b[0m\n",
      "\u001b[1;32m~\\anaconda3\\envs\\capstone\\lib\\site-packages\\matplotlib\\cbook\\deprecation.py\u001b[0m in \u001b[0;36mwrapper\u001b[1;34m(*inner_args, **inner_kwargs)\u001b[0m\n\u001b[0;32m    409\u001b[0m                          \u001b[1;32melse\u001b[0m \u001b[0mdeprecation_addendum\u001b[0m\u001b[1;33m,\u001b[0m\u001b[1;33m\u001b[0m\u001b[1;33m\u001b[0m\u001b[0m\n\u001b[0;32m    410\u001b[0m                 **kwargs)\n\u001b[1;32m--> 411\u001b[1;33m         \u001b[1;32mreturn\u001b[0m \u001b[0mfunc\u001b[0m\u001b[1;33m(\u001b[0m\u001b[1;33m*\u001b[0m\u001b[0minner_args\u001b[0m\u001b[1;33m,\u001b[0m \u001b[1;33m**\u001b[0m\u001b[0minner_kwargs\u001b[0m\u001b[1;33m)\u001b[0m\u001b[1;33m\u001b[0m\u001b[1;33m\u001b[0m\u001b[0m\n\u001b[0m\u001b[0;32m    412\u001b[0m \u001b[1;33m\u001b[0m\u001b[0m\n\u001b[0;32m    413\u001b[0m     \u001b[1;32mreturn\u001b[0m \u001b[0mwrapper\u001b[0m\u001b[1;33m\u001b[0m\u001b[1;33m\u001b[0m\u001b[0m\n",
      "\u001b[1;32m~\\anaconda3\\envs\\capstone\\lib\\site-packages\\matplotlib\\axes\\_axes.py\u001b[0m in \u001b[0;36mscatter\u001b[1;34m(self, x, y, s, c, marker, cmap, norm, vmin, vmax, alpha, linewidths, verts, edgecolors, plotnonfinite, **kwargs)\u001b[0m\n\u001b[0;32m   4439\u001b[0m         \u001b[0my\u001b[0m \u001b[1;33m=\u001b[0m \u001b[0mnp\u001b[0m\u001b[1;33m.\u001b[0m\u001b[0mma\u001b[0m\u001b[1;33m.\u001b[0m\u001b[0mravel\u001b[0m\u001b[1;33m(\u001b[0m\u001b[0my\u001b[0m\u001b[1;33m)\u001b[0m\u001b[1;33m\u001b[0m\u001b[1;33m\u001b[0m\u001b[0m\n\u001b[0;32m   4440\u001b[0m         \u001b[1;32mif\u001b[0m \u001b[0mx\u001b[0m\u001b[1;33m.\u001b[0m\u001b[0msize\u001b[0m \u001b[1;33m!=\u001b[0m \u001b[0my\u001b[0m\u001b[1;33m.\u001b[0m\u001b[0msize\u001b[0m\u001b[1;33m:\u001b[0m\u001b[1;33m\u001b[0m\u001b[1;33m\u001b[0m\u001b[0m\n\u001b[1;32m-> 4441\u001b[1;33m             \u001b[1;32mraise\u001b[0m \u001b[0mValueError\u001b[0m\u001b[1;33m(\u001b[0m\u001b[1;34m\"x and y must be the same size\"\u001b[0m\u001b[1;33m)\u001b[0m\u001b[1;33m\u001b[0m\u001b[1;33m\u001b[0m\u001b[0m\n\u001b[0m\u001b[0;32m   4442\u001b[0m \u001b[1;33m\u001b[0m\u001b[0m\n\u001b[0;32m   4443\u001b[0m         \u001b[1;32mif\u001b[0m \u001b[0ms\u001b[0m \u001b[1;32mis\u001b[0m \u001b[1;32mNone\u001b[0m\u001b[1;33m:\u001b[0m\u001b[1;33m\u001b[0m\u001b[1;33m\u001b[0m\u001b[0m\n",
      "\u001b[1;31mValueError\u001b[0m: x and y must be the same size"
     ]
    }
   ],
   "source": [
    "import matplotlib.pyplot as plt\n",
    "plt.scatter(similarity_scores, view_counts)\n",
    "plt.xlabel('Similarity Score')\n",
    "plt.ylabel(\"View Count\")\n",
    "plt.title(\"Similarity Score vs View Count\")"
   ]
  },
  {
   "cell_type": "code",
   "execution_count": null,
   "metadata": {},
   "outputs": [],
   "source": []
  }
 ]
}